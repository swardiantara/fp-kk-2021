{
  "nbformat": 4,
  "nbformat_minor": 0,
  "metadata": {
    "colab": {
      "name": "KK_Preprocessing.ipynb",
      "provenance": [],
      "collapsed_sections": []
    },
    "kernelspec": {
      "name": "python3",
      "display_name": "Python 3"
    },
    "language_info": {
      "name": "python"
    }
  },
  "cells": [
    {
      "cell_type": "markdown",
      "metadata": {
        "id": "qUbeNAQ-TbYO"
      },
      "source": [
        "https://www.kaggle.com/alikmondal/named-entity-recognition-using-rnn"
      ]
    },
    {
      "cell_type": "code",
      "metadata": {
        "id": "iSWYMU-qTWKN"
      },
      "source": [
        "import tensorflow as tf\n",
        "import pandas as pd\n",
        "import numpy as np"
      ],
      "execution_count": null,
      "outputs": []
    },
    {
      "cell_type": "code",
      "metadata": {
        "colab": {
          "base_uri": "https://localhost:8080/"
        },
        "id": "5xM0M9h8Tfnz",
        "outputId": "93653c2e-1bc6-47ff-9f3b-3be0bc0b5b1c"
      },
      "source": [
        "from google.colab import drive\n",
        "drive.mount('/content/drive')"
      ],
      "execution_count": null,
      "outputs": [
        {
          "output_type": "stream",
          "name": "stdout",
          "text": [
            "Drive already mounted at /content/drive; to attempt to forcibly remount, call drive.mount(\"/content/drive\", force_remount=True).\n"
          ]
        }
      ]
    },
    {
      "cell_type": "code",
      "metadata": {
        "colab": {
          "base_uri": "https://localhost:8080/"
        },
        "id": "R4DSS3GETlVi",
        "outputId": "1bc88672-51ce-4e60-f341-1a293659a06b"
      },
      "source": [
        "dataset_path = '/content/drive/MyDrive/Colab Notebooks/FP-KK/dataset/ner_datasetreference.csv'\n",
        "dataset = pd.read_csv(dataset_path, encoding= 'unicode_escape')\n",
        "dataset.shape"
      ],
      "execution_count": null,
      "outputs": [
        {
          "output_type": "execute_result",
          "data": {
            "text/plain": [
              "(1048575, 5)"
            ]
          },
          "metadata": {},
          "execution_count": 5
        }
      ]
    },
    {
      "cell_type": "code",
      "metadata": {
        "colab": {
          "base_uri": "https://localhost:8080/",
          "height": 206
        },
        "id": "aLdxx1v3Tpfr",
        "outputId": "081522fe-5836-4a02-d8e9-3e8c7f6f13c8"
      },
      "source": [
        "dataset.head()"
      ],
      "execution_count": null,
      "outputs": [
        {
          "output_type": "execute_result",
          "data": {
            "text/html": [
              "<div>\n",
              "<style scoped>\n",
              "    .dataframe tbody tr th:only-of-type {\n",
              "        vertical-align: middle;\n",
              "    }\n",
              "\n",
              "    .dataframe tbody tr th {\n",
              "        vertical-align: top;\n",
              "    }\n",
              "\n",
              "    .dataframe thead th {\n",
              "        text-align: right;\n",
              "    }\n",
              "</style>\n",
              "<table border=\"1\" class=\"dataframe\">\n",
              "  <thead>\n",
              "    <tr style=\"text-align: right;\">\n",
              "      <th></th>\n",
              "      <th>Sentence #</th>\n",
              "      <th>Word</th>\n",
              "      <th>POS</th>\n",
              "      <th>Tag</th>\n",
              "      <th>Class</th>\n",
              "    </tr>\n",
              "  </thead>\n",
              "  <tbody>\n",
              "    <tr>\n",
              "      <th>0</th>\n",
              "      <td>Sentence: 1</td>\n",
              "      <td>Thousands</td>\n",
              "      <td>NNS</td>\n",
              "      <td>O</td>\n",
              "      <td>0</td>\n",
              "    </tr>\n",
              "    <tr>\n",
              "      <th>1</th>\n",
              "      <td>NaN</td>\n",
              "      <td>of</td>\n",
              "      <td>IN</td>\n",
              "      <td>O</td>\n",
              "      <td>0</td>\n",
              "    </tr>\n",
              "    <tr>\n",
              "      <th>2</th>\n",
              "      <td>NaN</td>\n",
              "      <td>demonstrators</td>\n",
              "      <td>NNS</td>\n",
              "      <td>O</td>\n",
              "      <td>0</td>\n",
              "    </tr>\n",
              "    <tr>\n",
              "      <th>3</th>\n",
              "      <td>NaN</td>\n",
              "      <td>have</td>\n",
              "      <td>VBP</td>\n",
              "      <td>O</td>\n",
              "      <td>0</td>\n",
              "    </tr>\n",
              "    <tr>\n",
              "      <th>4</th>\n",
              "      <td>NaN</td>\n",
              "      <td>marched</td>\n",
              "      <td>VBN</td>\n",
              "      <td>O</td>\n",
              "      <td>0</td>\n",
              "    </tr>\n",
              "  </tbody>\n",
              "</table>\n",
              "</div>"
            ],
            "text/plain": [
              "    Sentence #           Word  POS Tag  Class\n",
              "0  Sentence: 1      Thousands  NNS   O      0\n",
              "1          NaN             of   IN   O      0\n",
              "2          NaN  demonstrators  NNS   O      0\n",
              "3          NaN           have  VBP   O      0\n",
              "4          NaN        marched  VBN   O      0"
            ]
          },
          "metadata": {},
          "execution_count": 6
        }
      ]
    },
    {
      "cell_type": "code",
      "metadata": {
        "id": "ntlP53EiT2za"
      },
      "source": [
        "dataset.drop(['POS'], inplace=True, axis=1)"
      ],
      "execution_count": null,
      "outputs": []
    },
    {
      "cell_type": "code",
      "metadata": {
        "colab": {
          "base_uri": "https://localhost:8080/"
        },
        "id": "ph90qaQkT4t2",
        "outputId": "22ec992d-c38f-4973-d229-ceee638cee5c"
      },
      "source": [
        "dataset[\"Tag\"].value_counts()"
      ],
      "execution_count": null,
      "outputs": [
        {
          "output_type": "execute_result",
          "data": {
            "text/plain": [
              "O        887908\n",
              "B-geo     37644\n",
              "B-tim     20333\n",
              "B-org     20143\n",
              "I-per     17251\n",
              "B-per     16990\n",
              "I-org     16784\n",
              "B-gpe     15870\n",
              "I-geo      7414\n",
              "I-tim      6528\n",
              "B-art       402\n",
              "B-eve       308\n",
              "I-art       297\n",
              "I-eve       253\n",
              "B-nat       201\n",
              "I-gpe       198\n",
              "I-nat        51\n",
              "Name: Tag, dtype: int64"
            ]
          },
          "metadata": {},
          "execution_count": 8
        }
      ]
    },
    {
      "cell_type": "code",
      "metadata": {
        "colab": {
          "base_uri": "https://localhost:8080/",
          "height": 206
        },
        "id": "L05lXh54T7Dr",
        "outputId": "be1272ae-521d-43b0-99ea-47cbef61540c"
      },
      "source": [
        "dataset.head()"
      ],
      "execution_count": null,
      "outputs": [
        {
          "output_type": "execute_result",
          "data": {
            "text/html": [
              "<div>\n",
              "<style scoped>\n",
              "    .dataframe tbody tr th:only-of-type {\n",
              "        vertical-align: middle;\n",
              "    }\n",
              "\n",
              "    .dataframe tbody tr th {\n",
              "        vertical-align: top;\n",
              "    }\n",
              "\n",
              "    .dataframe thead th {\n",
              "        text-align: right;\n",
              "    }\n",
              "</style>\n",
              "<table border=\"1\" class=\"dataframe\">\n",
              "  <thead>\n",
              "    <tr style=\"text-align: right;\">\n",
              "      <th></th>\n",
              "      <th>Sentence #</th>\n",
              "      <th>Word</th>\n",
              "      <th>Tag</th>\n",
              "      <th>Class</th>\n",
              "    </tr>\n",
              "  </thead>\n",
              "  <tbody>\n",
              "    <tr>\n",
              "      <th>0</th>\n",
              "      <td>Sentence: 1</td>\n",
              "      <td>Thousands</td>\n",
              "      <td>O</td>\n",
              "      <td>0</td>\n",
              "    </tr>\n",
              "    <tr>\n",
              "      <th>1</th>\n",
              "      <td>NaN</td>\n",
              "      <td>of</td>\n",
              "      <td>O</td>\n",
              "      <td>0</td>\n",
              "    </tr>\n",
              "    <tr>\n",
              "      <th>2</th>\n",
              "      <td>NaN</td>\n",
              "      <td>demonstrators</td>\n",
              "      <td>O</td>\n",
              "      <td>0</td>\n",
              "    </tr>\n",
              "    <tr>\n",
              "      <th>3</th>\n",
              "      <td>NaN</td>\n",
              "      <td>have</td>\n",
              "      <td>O</td>\n",
              "      <td>0</td>\n",
              "    </tr>\n",
              "    <tr>\n",
              "      <th>4</th>\n",
              "      <td>NaN</td>\n",
              "      <td>marched</td>\n",
              "      <td>O</td>\n",
              "      <td>0</td>\n",
              "    </tr>\n",
              "  </tbody>\n",
              "</table>\n",
              "</div>"
            ],
            "text/plain": [
              "    Sentence #           Word Tag  Class\n",
              "0  Sentence: 1      Thousands   O      0\n",
              "1          NaN             of   O      0\n",
              "2          NaN  demonstrators   O      0\n",
              "3          NaN           have   O      0\n",
              "4          NaN        marched   O      0"
            ]
          },
          "metadata": {},
          "execution_count": 9
        }
      ]
    },
    {
      "cell_type": "code",
      "metadata": {
        "colab": {
          "base_uri": "https://localhost:8080/",
          "height": 426
        },
        "id": "gWDMvC26T9dh",
        "outputId": "f420e267-dcc3-4928-9179-834de10a60ca"
      },
      "source": [
        "import matplotlib.pyplot as plt\n",
        "import seaborn as sns\n",
        "\n",
        "plt.figure(figsize = (16,8))\n",
        "sns.set_style('darkgrid')\n",
        "sns.histplot(dataset['Tag'])\n",
        "plt.tight_layout(pad=2)\n",
        "plt.show()"
      ],
      "execution_count": null,
      "outputs": [
        {
          "output_type": "display_data",
          "data": {
            "image/png": "[encoded data removed]",
            "text/plain": [
              "<Figure size 1152x576 with 1 Axes>"
            ]
          },
          "metadata": {
            "needs_background": "light"
          }
        }
      ]
    },
    {
      "cell_type": "code",
      "metadata": {
        "id": "m-trwhTwUTgI"
      },
      "source": [
        "from itertools import chain\n",
        "def get_dict_map(dataset, token_or_tag):\n",
        "    tok2idx = {}\n",
        "    idx2tok = {}\n",
        "    \n",
        "    if token_or_tag == 'token':\n",
        "        vocab = list(set(dataset['Word'].to_list()))\n",
        "    else:\n",
        "        vocab = list(set(dataset['Tag'].to_list()))\n",
        "    \n",
        "    idx2tok = {idx:tok for  idx, tok in enumerate(vocab)}\n",
        "    tok2idx = {tok:idx for  idx, tok in enumerate(vocab)}\n",
        "    return tok2idx, idx2tok, vocab"
      ],
      "execution_count": null,
      "outputs": []
    },
    {
      "cell_type": "code",
      "metadata": {
        "id": "8BCWlh7YUbOa",
        "colab": {
          "base_uri": "https://localhost:8080/"
        },
        "outputId": "2f999e1f-c0ba-43b3-a13a-e1cc4c5188fb"
      },
      "source": [
        "token2idx, idx2token, word_vocab = get_dict_map(dataset, 'token')\n",
        "tag2idx, idx2tag, tag_vocab = get_dict_map(dataset, 'tag')"
      ],
      "execution_count": null,
      "outputs": [
        {
          "output_type": "stream",
          "name": "stdout",
          "text": [
            "35172\n",
            "['I-art', 'B-geo', 'I-gpe', 'I-geo', 'I-eve', 'B-art', 'I-org', 'O', 'B-org', 'B-per', 'I-nat', 'B-eve', 'B-tim', 'I-per', 'I-tim', 'B-nat', 'B-gpe', 'ENDPAD']\n"
          ]
        }
      ]
    },
    {
      "cell_type": "code",
      "source": [
        "# importing the module\n",
        "import json\n",
        " \n",
        "# Opening JSON file\n",
        "def loadJSON(filename):\n",
        "  data = {}\n",
        "  with open(filename) as json_file:\n",
        "      data = json.load(json_file)\n",
        "  return data"
      ],
      "metadata": {
        "id": "nRAQs2ixF_RP"
      },
      "execution_count": null,
      "outputs": []
    },
    {
      "cell_type": "code",
      "source": [
        "idx2tag = loadJSON('/content/drive/MyDrive/Colab Notebooks/FP-KK/output/idx2tag2.json')\n",
        "tag2idx = loadJSON('/content/drive/MyDrive/Colab Notebooks/FP-KK/output/tag2idx2.json')\n",
        "token2idx = loadJSON('/content/drive/MyDrive/Colab Notebooks/FP-KK/output/token2idx2.json')\n",
        "idx2token = loadJSON('/content/drive/MyDrive/Colab Notebooks/FP-KK/output/idx2token2.json')\n",
        "print(idx2tag)"
      ],
      "metadata": {
        "colab": {
          "base_uri": "https://localhost:8080/"
        },
        "id": "81WuxpzTGC46",
        "outputId": "571cfe6e-1c0d-423b-c45b-ce0e33a87d18"
      },
      "execution_count": null,
      "outputs": [
        {
          "output_type": "stream",
          "name": "stdout",
          "text": [
            "{'0': 'O', '1': 'I-org', '2': 'B-nat', '3': 'I-eve', '4': 'B-per', '5': 'I-per', '6': 'B-geo', '7': 'B-gpe', '8': 'B-eve', '9': 'I-art', '10': 'B-org', '11': 'I-tim', '12': 'B-art', '13': 'I-gpe', '14': 'I-geo', '15': 'I-nat', '16': 'B-tim', '17': 'ENDPAD'}\n"
          ]
        }
      ]
    },
    {
      "cell_type": "code",
      "metadata": {
        "id": "Oo-w9qBvw6p1"
      },
      "source": [
        "import json\n",
        "with open(\"/content/drive/MyDrive/Colab Notebooks/FP-KK/output/token2idx2.json\", \"w\") as outfile:\n",
        "    json.dump(token2idx, outfile)\n",
        "with open(\"/content/drive/MyDrive/Colab Notebooks/FP-KK/output/idx2token2.json\", \"w\") as outfile:\n",
        "    json.dump(idx2token, outfile)\n",
        "with open(\"/content/drive/MyDrive/Colab Notebooks/FP-KK/output/tag2idx2.json\", \"w\") as outfile:\n",
        "    json.dump(tag2idx, outfile)\n",
        "with open(\"/content/drive/MyDrive/Colab Notebooks/FP-KK/output/idx2tag2.json\", \"w\") as outfile:\n",
        "    json.dump(idx2tag, outfile)"
      ],
      "execution_count": null,
      "outputs": []
    },
    {
      "cell_type": "code",
      "metadata": {
        "colab": {
          "base_uri": "https://localhost:8080/"
        },
        "id": "2oVV3cvxUlHK",
        "outputId": "73f07ac9-b094-4ee7-9cf9-a5116156e2d0"
      },
      "source": [
        "print(tag2idx)"
      ],
      "execution_count": null,
      "outputs": [
        {
          "output_type": "stream",
          "name": "stdout",
          "text": [
            "{'I-geo': 14, 'I-org': 1, 'B-nat': 2, 'I-eve': 3, 'B-per': 4, 'I-per': 5, 'B-geo': 6, 'B-gpe': 7, 'B-eve': 8, 'I-art': 9, 'B-org': 10, 'I-tim': 11, 'B-art': 12, 'I-gpe': 13, 'O': 0, 'I-nat': 15, 'B-tim': 16, 'ENDPAD': 17}\n"
          ]
        }
      ]
    },
    {
      "cell_type": "code",
      "metadata": {
        "colab": {
          "base_uri": "https://localhost:8080/"
        },
        "id": "jjtFmzgqUpcC",
        "outputId": "63c3fed2-4a72-4ba7-f58e-afa9d440283c"
      },
      "source": [
        "dataset['Word_idx'] = dataset['Word'].map(token2idx)\n",
        "dataset['Tag_idx'] = dataset['Tag'].map(tag2idx)\n",
        "dataset_fillna = dataset.fillna(method='ffill', axis=0)\n",
        "# Groupby and collect columns\n",
        "dataset_group = dataset_fillna.groupby(['Sentence #'], as_index=False)['Word', 'Tag', 'Word_idx', 'Tag_idx'].agg(lambda x: list(x))"
      ],
      "execution_count": null,
      "outputs": [
        {
          "output_type": "stream",
          "name": "stderr",
          "text": [
            "/usr/local/lib/python3.7/dist-packages/ipykernel_launcher.py:5: FutureWarning: Indexing with multiple keys (implicitly converted to a tuple of keys) will be deprecated, use a list instead.\n",
            "  \"\"\"\n"
          ]
        }
      ]
    },
    {
      "cell_type": "markdown",
      "metadata": {
        "id": "PrcMlkRtU4KA"
      },
      "source": [
        "Splitting Train Test"
      ]
    },
    {
      "cell_type": "code",
      "metadata": {
        "colab": {
          "base_uri": "https://localhost:8080/"
        },
        "id": "9OuN9tYkU7xP",
        "outputId": "8cf8b1fe-2f75-4562-a472-c703726de5fd"
      },
      "source": [
        "import math\n",
        "test_size = math.floor(dataset_group.shape[0] * 0.2)\n",
        "test_size"
      ],
      "execution_count": null,
      "outputs": [
        {
          "output_type": "execute_result",
          "data": {
            "text/plain": [
              "9591"
            ]
          },
          "metadata": {},
          "execution_count": 16
        }
      ]
    },
    {
      "cell_type": "code",
      "metadata": {
        "id": "wJqMFhP4VBub"
      },
      "source": [
        "data_test_group = dataset_group.iloc[-test_size:]\n",
        "data_train_group = dataset_group.iloc[:dataset_group.shape[0] - test_size]"
      ],
      "execution_count": null,
      "outputs": []
    },
    {
      "cell_type": "code",
      "metadata": {
        "colab": {
          "base_uri": "https://localhost:8080/",
          "height": 597
        },
        "id": "dfBJC6DhVF4y",
        "outputId": "0a2c2384-240a-4861-b6d9-460c905c04b8"
      },
      "source": [
        "data_test_group.reset_index(drop=True, inplace=True)\n",
        "data_test_group"
      ],
      "execution_count": null,
      "outputs": [
        {
          "output_type": "execute_result",
          "data": {
            "text/html": [
              "<div>\n",
              "<style scoped>\n",
              "    .dataframe tbody tr th:only-of-type {\n",
              "        vertical-align: middle;\n",
              "    }\n",
              "\n",
              "    .dataframe tbody tr th {\n",
              "        vertical-align: top;\n",
              "    }\n",
              "\n",
              "    .dataframe thead th {\n",
              "        text-align: right;\n",
              "    }\n",
              "</style>\n",
              "<table border=\"1\" class=\"dataframe\">\n",
              "  <thead>\n",
              "    <tr style=\"text-align: right;\">\n",
              "      <th></th>\n",
              "      <th>Sentence #</th>\n",
              "      <th>Word</th>\n",
              "      <th>Tag</th>\n",
              "      <th>Word_idx</th>\n",
              "      <th>Tag_idx</th>\n",
              "    </tr>\n",
              "  </thead>\n",
              "  <tbody>\n",
              "    <tr>\n",
              "      <th>0</th>\n",
              "      <td>Sentence: 4453</td>\n",
              "      <td>[In, line, with, IMF, conditions, ,, in, 2009,...</td>\n",
              "      <td>[O, O, O, B-org, O, O, O, B-tim, O, B-org, O, ...</td>\n",
              "      <td>[30235, 27488, 8856, 12526, 9511, 14320, 7258,...</td>\n",
              "      <td>[0, 0, 0, 10, 0, 0, 0, 16, 0, 10, 0, 0, 0, 0, ...</td>\n",
              "    </tr>\n",
              "    <tr>\n",
              "      <th>1</th>\n",
              "      <td>Sentence: 44530</td>\n",
              "      <td>[He, called, for, research, on, hybrid, automo...</td>\n",
              "      <td>[O, O, O, O, O, O, O, O, O, O, O, O, O, O, O, ...</td>\n",
              "      <td>[22908, 28590, 12209, 3234, 29279, 29618, 9023...</td>\n",
              "      <td>[0, 0, 0, 0, 0, 0, 0, 0, 0, 0, 0, 0, 0, 0, 0, ...</td>\n",
              "    </tr>\n",
              "    <tr>\n",
              "      <th>2</th>\n",
              "      <td>Sentence: 44531</td>\n",
              "      <td>[The, president, said, new, technologies, will...</td>\n",
              "      <td>[O, O, O, O, O, O, O, O, B-geo, I-geo, O, O, O...</td>\n",
              "      <td>[20005, 3610, 433, 2083, 33128, 8970, 892, 389...</td>\n",
              "      <td>[0, 0, 0, 0, 0, 0, 0, 0, 6, 14, 0, 0, 0, 0, 0,...</td>\n",
              "    </tr>\n",
              "    <tr>\n",
              "      <th>3</th>\n",
              "      <td>Sentence: 44532</td>\n",
              "      <td>[The, U.S., military, says, it, is, searching,...</td>\n",
              "      <td>[O, B-geo, O, O, O, O, O, O, O, O, O, O, O, B-...</td>\n",
              "      <td>[20005, 2250, 28906, 14379, 6314, 14064, 26378...</td>\n",
              "      <td>[0, 6, 0, 0, 0, 0, 0, 0, 0, 0, 0, 0, 0, 6, 0, ...</td>\n",
              "    </tr>\n",
              "    <tr>\n",
              "      <th>4</th>\n",
              "      <td>Sentence: 44533</td>\n",
              "      <td>[The, team, vanished, just, before, a, helicop...</td>\n",
              "      <td>[O, O, O, O, O, O, O, O, O, O, O, O, O, O, O, ...</td>\n",
              "      <td>[20005, 3986, 29689, 30649, 24475, 28550, 2926...</td>\n",
              "      <td>[0, 0, 0, 0, 0, 0, 0, 0, 0, 0, 0, 0, 0, 0, 0, ...</td>\n",
              "    </tr>\n",
              "    <tr>\n",
              "      <th>...</th>\n",
              "      <td>...</td>\n",
              "      <td>...</td>\n",
              "      <td>...</td>\n",
              "      <td>...</td>\n",
              "      <td>...</td>\n",
              "    </tr>\n",
              "    <tr>\n",
              "      <th>9586</th>\n",
              "      <td>Sentence: 9995</td>\n",
              "      <td>[Opposition, leader, Mir, Hossein, Mousavi, ha...</td>\n",
              "      <td>[O, O, O, B-per, I-per, O, O, O, O, O, O, O, O...</td>\n",
              "      <td>[5220, 20303, 16135, 20188, 7400, 5052, 433, 2...</td>\n",
              "      <td>[0, 0, 0, 4, 5, 0, 0, 0, 0, 0, 0, 0, 0, 0, 0, ...</td>\n",
              "    </tr>\n",
              "    <tr>\n",
              "      <th>9587</th>\n",
              "      <td>Sentence: 9996</td>\n",
              "      <td>[On, Thursday, ,, Iranian, state, media, publi...</td>\n",
              "      <td>[O, B-tim, O, B-gpe, O, O, O, O, O, O, O, O, B...</td>\n",
              "      <td>[30778, 5799, 14320, 34424, 11155, 14159, 3380...</td>\n",
              "      <td>[0, 16, 0, 7, 0, 0, 0, 0, 0, 0, 0, 0, 10, 1, 0...</td>\n",
              "    </tr>\n",
              "    <tr>\n",
              "      <th>9588</th>\n",
              "      <td>Sentence: 9997</td>\n",
              "      <td>[Following, Iran, 's, disputed, June, 12, elec...</td>\n",
              "      <td>[O, B-geo, O, O, B-tim, I-tim, O, O, O, O, O, ...</td>\n",
              "      <td>[25319, 16791, 13786, 9547, 33484, 30, 22059, ...</td>\n",
              "      <td>[0, 6, 0, 0, 16, 11, 0, 0, 0, 0, 0, 0, 0, 0, 0...</td>\n",
              "    </tr>\n",
              "    <tr>\n",
              "      <th>9589</th>\n",
              "      <td>Sentence: 9998</td>\n",
              "      <td>[Since, then, ,, authorities, have, held, publ...</td>\n",
              "      <td>[O, O, O, O, O, O, O, O, O, O, O, O, O, O, O, ...</td>\n",
              "      <td>[27191, 14187, 14320, 20885, 367, 23014, 7, 64...</td>\n",
              "      <td>[0, 0, 0, 0, 0, 0, 0, 0, 0, 0, 0, 0, 0, 0, 0, ...</td>\n",
              "    </tr>\n",
              "    <tr>\n",
              "      <th>9590</th>\n",
              "      <td>Sentence: 9999</td>\n",
              "      <td>[The, United, Nations, is, praising, the, use,...</td>\n",
              "      <td>[O, B-org, I-org, O, O, O, O, O, O, O, O, O, O...</td>\n",
              "      <td>[20005, 18510, 22700, 14064, 35128, 3894, 390,...</td>\n",
              "      <td>[0, 10, 1, 0, 0, 0, 0, 0, 0, 0, 0, 0, 0, 0, 0,...</td>\n",
              "    </tr>\n",
              "  </tbody>\n",
              "</table>\n",
              "<p>9591 rows × 5 columns</p>\n",
              "</div>"
            ],
            "text/plain": [
              "           Sentence #  ...                                            Tag_idx\n",
              "0      Sentence: 4453  ...  [0, 0, 0, 10, 0, 0, 0, 16, 0, 10, 0, 0, 0, 0, ...\n",
              "1     Sentence: 44530  ...  [0, 0, 0, 0, 0, 0, 0, 0, 0, 0, 0, 0, 0, 0, 0, ...\n",
              "2     Sentence: 44531  ...  [0, 0, 0, 0, 0, 0, 0, 0, 6, 14, 0, 0, 0, 0, 0,...\n",
              "3     Sentence: 44532  ...  [0, 6, 0, 0, 0, 0, 0, 0, 0, 0, 0, 0, 0, 6, 0, ...\n",
              "4     Sentence: 44533  ...  [0, 0, 0, 0, 0, 0, 0, 0, 0, 0, 0, 0, 0, 0, 0, ...\n",
              "...               ...  ...                                                ...\n",
              "9586   Sentence: 9995  ...  [0, 0, 0, 4, 5, 0, 0, 0, 0, 0, 0, 0, 0, 0, 0, ...\n",
              "9587   Sentence: 9996  ...  [0, 16, 0, 7, 0, 0, 0, 0, 0, 0, 0, 0, 10, 1, 0...\n",
              "9588   Sentence: 9997  ...  [0, 6, 0, 0, 16, 11, 0, 0, 0, 0, 0, 0, 0, 0, 0...\n",
              "9589   Sentence: 9998  ...  [0, 0, 0, 0, 0, 0, 0, 0, 0, 0, 0, 0, 0, 0, 0, ...\n",
              "9590   Sentence: 9999  ...  [0, 10, 1, 0, 0, 0, 0, 0, 0, 0, 0, 0, 0, 0, 0,...\n",
              "\n",
              "[9591 rows x 5 columns]"
            ]
          },
          "metadata": {},
          "execution_count": 18
        }
      ]
    },
    {
      "cell_type": "code",
      "metadata": {
        "colab": {
          "base_uri": "https://localhost:8080/",
          "height": 667
        },
        "id": "oNHuhh2GVH6A",
        "outputId": "5f306859-59f3-4325-db02-3044552a6527"
      },
      "source": [
        "data_train_group.reset_index(drop=True, inplace=True)\n",
        "data_train_group"
      ],
      "execution_count": null,
      "outputs": [
        {
          "output_type": "execute_result",
          "data": {
            "text/html": [
              "<div>\n",
              "<style scoped>\n",
              "    .dataframe tbody tr th:only-of-type {\n",
              "        vertical-align: middle;\n",
              "    }\n",
              "\n",
              "    .dataframe tbody tr th {\n",
              "        vertical-align: top;\n",
              "    }\n",
              "\n",
              "    .dataframe thead th {\n",
              "        text-align: right;\n",
              "    }\n",
              "</style>\n",
              "<table border=\"1\" class=\"dataframe\">\n",
              "  <thead>\n",
              "    <tr style=\"text-align: right;\">\n",
              "      <th></th>\n",
              "      <th>Sentence #</th>\n",
              "      <th>Word</th>\n",
              "      <th>Tag</th>\n",
              "      <th>Word_idx</th>\n",
              "      <th>Tag_idx</th>\n",
              "    </tr>\n",
              "  </thead>\n",
              "  <tbody>\n",
              "    <tr>\n",
              "      <th>0</th>\n",
              "      <td>Sentence: 1</td>\n",
              "      <td>[Thousands, of, demonstrators, have, marched, ...</td>\n",
              "      <td>[O, O, O, O, O, O, B-geo, O, O, O, O, O, B-geo...</td>\n",
              "      <td>[28285, 15741, 1523, 367, 13632, 7168, 25967, ...</td>\n",
              "      <td>[0, 0, 0, 0, 0, 0, 6, 0, 0, 0, 0, 0, 6, 0, 0, ...</td>\n",
              "    </tr>\n",
              "    <tr>\n",
              "      <th>1</th>\n",
              "      <td>Sentence: 10</td>\n",
              "      <td>[Iranian, officials, say, they, expect, to, ge...</td>\n",
              "      <td>[B-gpe, O, O, O, O, O, O, O, O, O, O, O, O, O,...</td>\n",
              "      <td>[34424, 1990, 32928, 9794, 31792, 34610, 15641...</td>\n",
              "      <td>[7, 0, 0, 0, 0, 0, 0, 0, 0, 0, 0, 0, 0, 0, 0, ...</td>\n",
              "    </tr>\n",
              "    <tr>\n",
              "      <th>2</th>\n",
              "      <td>Sentence: 100</td>\n",
              "      <td>[Helicopter, gunships, Saturday, pounded, mili...</td>\n",
              "      <td>[O, O, B-tim, O, O, O, O, O, B-geo, O, O, O, O...</td>\n",
              "      <td>[28347, 29190, 19208, 2838, 24041, 26531, 7258...</td>\n",
              "      <td>[0, 0, 16, 0, 0, 0, 0, 0, 6, 0, 0, 0, 0, 0, 10...</td>\n",
              "    </tr>\n",
              "    <tr>\n",
              "      <th>3</th>\n",
              "      <td>Sentence: 1000</td>\n",
              "      <td>[They, left, after, a, tense, hour-long, stand...</td>\n",
              "      <td>[O, O, O, O, O, O, O, O, O, O, O]</td>\n",
              "      <td>[4139, 30932, 1336, 28550, 18536, 21258, 26975...</td>\n",
              "      <td>[0, 0, 0, 0, 0, 0, 0, 0, 0, 0, 0]</td>\n",
              "    </tr>\n",
              "    <tr>\n",
              "      <th>4</th>\n",
              "      <td>Sentence: 10000</td>\n",
              "      <td>[U.N., relief, coordinator, Jan, Egeland, said...</td>\n",
              "      <td>[B-geo, O, O, B-per, I-per, O, B-tim, O, B-geo...</td>\n",
              "      <td>[30896, 25325, 14734, 12754, 18505, 433, 7325,...</td>\n",
              "      <td>[6, 0, 0, 4, 5, 0, 16, 0, 6, 0, 7, 0, 7, 0, 0,...</td>\n",
              "    </tr>\n",
              "    <tr>\n",
              "      <th>...</th>\n",
              "      <td>...</td>\n",
              "      <td>...</td>\n",
              "      <td>...</td>\n",
              "      <td>...</td>\n",
              "      <td>...</td>\n",
              "    </tr>\n",
              "    <tr>\n",
              "      <th>38363</th>\n",
              "      <td>Sentence: 44525</td>\n",
              "      <td>[President, Bush, called, on, the, United, Sta...</td>\n",
              "      <td>[B-per, I-per, O, O, O, B-geo, I-geo, O, O, O,...</td>\n",
              "      <td>[344, 19638, 28590, 29279, 3894, 18510, 6565, ...</td>\n",
              "      <td>[4, 5, 0, 0, 0, 6, 14, 0, 0, 0, 0, 0, 0, 0, 0,...</td>\n",
              "    </tr>\n",
              "    <tr>\n",
              "      <th>38364</th>\n",
              "      <td>Sentence: 44526</td>\n",
              "      <td>[Mr., Bush, said, dependence, on, foreign, sou...</td>\n",
              "      <td>[B-per, I-per, O, O, O, O, O, O, O, O, B-geo, ...</td>\n",
              "      <td>[188, 19638, 433, 7527, 29279, 11236, 5495, 15...</td>\n",
              "      <td>[4, 5, 0, 0, 0, 0, 0, 0, 0, 0, 6, 0, 0, 0, 0, ...</td>\n",
              "    </tr>\n",
              "    <tr>\n",
              "      <th>38365</th>\n",
              "      <td>Sentence: 44527</td>\n",
              "      <td>[The, president, called, for, reducing, gasoli...</td>\n",
              "      <td>[O, O, O, O, O, O, O, O, O, B-geo, O, O, O, B-...</td>\n",
              "      <td>[20005, 3610, 28590, 12209, 28521, 30306, 3119...</td>\n",
              "      <td>[0, 0, 0, 0, 0, 0, 0, 0, 0, 6, 0, 0, 0, 16, 0,...</td>\n",
              "    </tr>\n",
              "    <tr>\n",
              "      <th>38366</th>\n",
              "      <td>Sentence: 44528</td>\n",
              "      <td>[He, said, the, goal, can, be, met, by, increa...</td>\n",
              "      <td>[O, O, O, O, O, O, O, O, O, O, O, O, O, O, O, ...</td>\n",
              "      <td>[22908, 433, 3894, 32462, 14067, 26107, 19184,...</td>\n",
              "      <td>[0, 0, 0, 0, 0, 0, 0, 0, 0, 0, 0, 0, 0, 0, 0, ...</td>\n",
              "    </tr>\n",
              "    <tr>\n",
              "      <th>38367</th>\n",
              "      <td>Sentence: 44529</td>\n",
              "      <td>[Mr., Bush, also, called, for, greater, use, o...</td>\n",
              "      <td>[B-per, I-per, O, O, O, O, O, O, O, O, O, O, O...</td>\n",
              "      <td>[188, 19638, 33726, 28590, 12209, 32992, 390, ...</td>\n",
              "      <td>[4, 5, 0, 0, 0, 0, 0, 0, 0, 0, 0, 0, 0, 0, 0, ...</td>\n",
              "    </tr>\n",
              "  </tbody>\n",
              "</table>\n",
              "<p>38368 rows × 5 columns</p>\n",
              "</div>"
            ],
            "text/plain": [
              "            Sentence #  ...                                            Tag_idx\n",
              "0          Sentence: 1  ...  [0, 0, 0, 0, 0, 0, 6, 0, 0, 0, 0, 0, 6, 0, 0, ...\n",
              "1         Sentence: 10  ...  [7, 0, 0, 0, 0, 0, 0, 0, 0, 0, 0, 0, 0, 0, 0, ...\n",
              "2        Sentence: 100  ...  [0, 0, 16, 0, 0, 0, 0, 0, 6, 0, 0, 0, 0, 0, 10...\n",
              "3       Sentence: 1000  ...                  [0, 0, 0, 0, 0, 0, 0, 0, 0, 0, 0]\n",
              "4      Sentence: 10000  ...  [6, 0, 0, 4, 5, 0, 16, 0, 6, 0, 7, 0, 7, 0, 0,...\n",
              "...                ...  ...                                                ...\n",
              "38363  Sentence: 44525  ...  [4, 5, 0, 0, 0, 6, 14, 0, 0, 0, 0, 0, 0, 0, 0,...\n",
              "38364  Sentence: 44526  ...  [4, 5, 0, 0, 0, 0, 0, 0, 0, 0, 6, 0, 0, 0, 0, ...\n",
              "38365  Sentence: 44527  ...  [0, 0, 0, 0, 0, 0, 0, 0, 0, 6, 0, 0, 0, 16, 0,...\n",
              "38366  Sentence: 44528  ...  [0, 0, 0, 0, 0, 0, 0, 0, 0, 0, 0, 0, 0, 0, 0, ...\n",
              "38367  Sentence: 44529  ...  [4, 5, 0, 0, 0, 0, 0, 0, 0, 0, 0, 0, 0, 0, 0, ...\n",
              "\n",
              "[38368 rows x 5 columns]"
            ]
          },
          "metadata": {},
          "execution_count": 19
        }
      ]
    },
    {
      "cell_type": "markdown",
      "metadata": {
        "id": "DG3r7pjaWDvz"
      },
      "source": [
        "Build ulang Data Frame dan export ke CSV"
      ]
    },
    {
      "cell_type": "code",
      "metadata": {
        "id": "FikK1RUCWHAZ"
      },
      "source": [
        "def buildDataFrame(groupedData):\n",
        "  word_list = []\n",
        "  tag_list = []\n",
        "  word_idx = []\n",
        "  tag_idx = []\n",
        "  sentence_list = []\n",
        "  for sentence in range(0, groupedData.shape[0]):\n",
        "    sentence_array = [groupedData.loc[sentence, 'Sentence #']] * len(groupedData.loc[sentence, 'Word'])\n",
        "    sentence_list = sentence_list + sentence_array\n",
        "    word_list = word_list + groupedData.loc[sentence, 'Word']\n",
        "    tag_list = tag_list + groupedData.loc[sentence, 'Tag']\n",
        "    word_idx = word_idx + groupedData.loc[sentence, 'Word_idx']\n",
        "    tag_idx = tag_idx + groupedData.loc[sentence, 'Tag_idx']\n",
        "    # print(sentence_list, word_list, tag_list)\n",
        "  dataFrame = pd.DataFrame({'Sentence #': sentence_list, 'Word': word_list, 'Tag': tag_list, 'Word_idx': word_idx, 'Tag_idx': tag_idx})\n",
        "  # return sentence_list, word_list, tag_list\n",
        "  return dataFrame"
      ],
      "execution_count": null,
      "outputs": []
    },
    {
      "cell_type": "code",
      "metadata": {
        "colab": {
          "base_uri": "https://localhost:8080/",
          "height": 424
        },
        "id": "Wh8KJvjhWKZY",
        "outputId": "fa29e768-13fb-4def-c1a8-3fabf62c28f7"
      },
      "source": [
        "train_df =  buildDataFrame(data_train_group)\n",
        "train_df"
      ],
      "execution_count": null,
      "outputs": [
        {
          "output_type": "execute_result",
          "data": {
            "text/html": [
              "<div>\n",
              "<style scoped>\n",
              "    .dataframe tbody tr th:only-of-type {\n",
              "        vertical-align: middle;\n",
              "    }\n",
              "\n",
              "    .dataframe tbody tr th {\n",
              "        vertical-align: top;\n",
              "    }\n",
              "\n",
              "    .dataframe thead th {\n",
              "        text-align: right;\n",
              "    }\n",
              "</style>\n",
              "<table border=\"1\" class=\"dataframe\">\n",
              "  <thead>\n",
              "    <tr style=\"text-align: right;\">\n",
              "      <th></th>\n",
              "      <th>Sentence #</th>\n",
              "      <th>Word</th>\n",
              "      <th>Tag</th>\n",
              "      <th>Word_idx</th>\n",
              "      <th>Tag_idx</th>\n",
              "    </tr>\n",
              "  </thead>\n",
              "  <tbody>\n",
              "    <tr>\n",
              "      <th>0</th>\n",
              "      <td>Sentence: 1</td>\n",
              "      <td>Thousands</td>\n",
              "      <td>O</td>\n",
              "      <td>28285</td>\n",
              "      <td>0</td>\n",
              "    </tr>\n",
              "    <tr>\n",
              "      <th>1</th>\n",
              "      <td>Sentence: 1</td>\n",
              "      <td>of</td>\n",
              "      <td>O</td>\n",
              "      <td>15741</td>\n",
              "      <td>0</td>\n",
              "    </tr>\n",
              "    <tr>\n",
              "      <th>2</th>\n",
              "      <td>Sentence: 1</td>\n",
              "      <td>demonstrators</td>\n",
              "      <td>O</td>\n",
              "      <td>1523</td>\n",
              "      <td>0</td>\n",
              "    </tr>\n",
              "    <tr>\n",
              "      <th>3</th>\n",
              "      <td>Sentence: 1</td>\n",
              "      <td>have</td>\n",
              "      <td>O</td>\n",
              "      <td>367</td>\n",
              "      <td>0</td>\n",
              "    </tr>\n",
              "    <tr>\n",
              "      <th>4</th>\n",
              "      <td>Sentence: 1</td>\n",
              "      <td>marched</td>\n",
              "      <td>O</td>\n",
              "      <td>13632</td>\n",
              "      <td>0</td>\n",
              "    </tr>\n",
              "    <tr>\n",
              "      <th>...</th>\n",
              "      <td>...</td>\n",
              "      <td>...</td>\n",
              "      <td>...</td>\n",
              "      <td>...</td>\n",
              "      <td>...</td>\n",
              "    </tr>\n",
              "    <tr>\n",
              "      <th>839810</th>\n",
              "      <td>Sentence: 44529</td>\n",
              "      <td>as</td>\n",
              "      <td>O</td>\n",
              "      <td>21619</td>\n",
              "      <td>0</td>\n",
              "    </tr>\n",
              "    <tr>\n",
              "      <th>839811</th>\n",
              "      <td>Sentence: 44529</td>\n",
              "      <td>alternatives</td>\n",
              "      <td>O</td>\n",
              "      <td>21279</td>\n",
              "      <td>0</td>\n",
              "    </tr>\n",
              "    <tr>\n",
              "      <th>839812</th>\n",
              "      <td>Sentence: 44529</td>\n",
              "      <td>to</td>\n",
              "      <td>O</td>\n",
              "      <td>34610</td>\n",
              "      <td>0</td>\n",
              "    </tr>\n",
              "    <tr>\n",
              "      <th>839813</th>\n",
              "      <td>Sentence: 44529</td>\n",
              "      <td>oil</td>\n",
              "      <td>O</td>\n",
              "      <td>23416</td>\n",
              "      <td>0</td>\n",
              "    </tr>\n",
              "    <tr>\n",
              "      <th>839814</th>\n",
              "      <td>Sentence: 44529</td>\n",
              "      <td>.</td>\n",
              "      <td>O</td>\n",
              "      <td>13264</td>\n",
              "      <td>0</td>\n",
              "    </tr>\n",
              "  </tbody>\n",
              "</table>\n",
              "<p>839815 rows × 5 columns</p>\n",
              "</div>"
            ],
            "text/plain": [
              "             Sentence #           Word Tag  Word_idx  Tag_idx\n",
              "0           Sentence: 1      Thousands   O     28285        0\n",
              "1           Sentence: 1             of   O     15741        0\n",
              "2           Sentence: 1  demonstrators   O      1523        0\n",
              "3           Sentence: 1           have   O       367        0\n",
              "4           Sentence: 1        marched   O     13632        0\n",
              "...                 ...            ...  ..       ...      ...\n",
              "839810  Sentence: 44529             as   O     21619        0\n",
              "839811  Sentence: 44529   alternatives   O     21279        0\n",
              "839812  Sentence: 44529             to   O     34610        0\n",
              "839813  Sentence: 44529            oil   O     23416        0\n",
              "839814  Sentence: 44529              .   O     13264        0\n",
              "\n",
              "[839815 rows x 5 columns]"
            ]
          },
          "metadata": {},
          "execution_count": 21
        }
      ]
    },
    {
      "cell_type": "code",
      "metadata": {
        "colab": {
          "base_uri": "https://localhost:8080/",
          "height": 424
        },
        "id": "hodZAJqDWR46",
        "outputId": "0560f16c-c4bb-451e-f632-33ba86ed7225"
      },
      "source": [
        "test_df =  buildDataFrame(data_test_group)\n",
        "test_df"
      ],
      "execution_count": null,
      "outputs": [
        {
          "output_type": "execute_result",
          "data": {
            "text/html": [
              "<div>\n",
              "<style scoped>\n",
              "    .dataframe tbody tr th:only-of-type {\n",
              "        vertical-align: middle;\n",
              "    }\n",
              "\n",
              "    .dataframe tbody tr th {\n",
              "        vertical-align: top;\n",
              "    }\n",
              "\n",
              "    .dataframe thead th {\n",
              "        text-align: right;\n",
              "    }\n",
              "</style>\n",
              "<table border=\"1\" class=\"dataframe\">\n",
              "  <thead>\n",
              "    <tr style=\"text-align: right;\">\n",
              "      <th></th>\n",
              "      <th>Sentence #</th>\n",
              "      <th>Word</th>\n",
              "      <th>Tag</th>\n",
              "      <th>Word_idx</th>\n",
              "      <th>Tag_idx</th>\n",
              "    </tr>\n",
              "  </thead>\n",
              "  <tbody>\n",
              "    <tr>\n",
              "      <th>0</th>\n",
              "      <td>Sentence: 4453</td>\n",
              "      <td>In</td>\n",
              "      <td>O</td>\n",
              "      <td>30235</td>\n",
              "      <td>0</td>\n",
              "    </tr>\n",
              "    <tr>\n",
              "      <th>1</th>\n",
              "      <td>Sentence: 4453</td>\n",
              "      <td>line</td>\n",
              "      <td>O</td>\n",
              "      <td>27488</td>\n",
              "      <td>0</td>\n",
              "    </tr>\n",
              "    <tr>\n",
              "      <th>2</th>\n",
              "      <td>Sentence: 4453</td>\n",
              "      <td>with</td>\n",
              "      <td>O</td>\n",
              "      <td>8856</td>\n",
              "      <td>0</td>\n",
              "    </tr>\n",
              "    <tr>\n",
              "      <th>3</th>\n",
              "      <td>Sentence: 4453</td>\n",
              "      <td>IMF</td>\n",
              "      <td>B-org</td>\n",
              "      <td>12526</td>\n",
              "      <td>10</td>\n",
              "    </tr>\n",
              "    <tr>\n",
              "      <th>4</th>\n",
              "      <td>Sentence: 4453</td>\n",
              "      <td>conditions</td>\n",
              "      <td>O</td>\n",
              "      <td>9511</td>\n",
              "      <td>0</td>\n",
              "    </tr>\n",
              "    <tr>\n",
              "      <th>...</th>\n",
              "      <td>...</td>\n",
              "      <td>...</td>\n",
              "      <td>...</td>\n",
              "      <td>...</td>\n",
              "      <td>...</td>\n",
              "    </tr>\n",
              "    <tr>\n",
              "      <th>208755</th>\n",
              "      <td>Sentence: 9999</td>\n",
              "      <td>weight</td>\n",
              "      <td>O</td>\n",
              "      <td>28563</td>\n",
              "      <td>0</td>\n",
              "    </tr>\n",
              "    <tr>\n",
              "      <th>208756</th>\n",
              "      <td>Sentence: 9999</td>\n",
              "      <td>in</td>\n",
              "      <td>O</td>\n",
              "      <td>7258</td>\n",
              "      <td>0</td>\n",
              "    </tr>\n",
              "    <tr>\n",
              "      <th>208757</th>\n",
              "      <td>Sentence: 9999</td>\n",
              "      <td>gold</td>\n",
              "      <td>O</td>\n",
              "      <td>1317</td>\n",
              "      <td>0</td>\n",
              "    </tr>\n",
              "    <tr>\n",
              "      <th>208758</th>\n",
              "      <td>Sentence: 9999</td>\n",
              "      <td>.</td>\n",
              "      <td>O</td>\n",
              "      <td>13264</td>\n",
              "      <td>0</td>\n",
              "    </tr>\n",
              "    <tr>\n",
              "      <th>208759</th>\n",
              "      <td>Sentence: 9999</td>\n",
              "      <td>\"</td>\n",
              "      <td>O</td>\n",
              "      <td>26944</td>\n",
              "      <td>0</td>\n",
              "    </tr>\n",
              "  </tbody>\n",
              "</table>\n",
              "<p>208760 rows × 5 columns</p>\n",
              "</div>"
            ],
            "text/plain": [
              "            Sentence #        Word    Tag  Word_idx  Tag_idx\n",
              "0       Sentence: 4453          In      O     30235        0\n",
              "1       Sentence: 4453        line      O     27488        0\n",
              "2       Sentence: 4453        with      O      8856        0\n",
              "3       Sentence: 4453         IMF  B-org     12526       10\n",
              "4       Sentence: 4453  conditions      O      9511        0\n",
              "...                ...         ...    ...       ...      ...\n",
              "208755  Sentence: 9999      weight      O     28563        0\n",
              "208756  Sentence: 9999          in      O      7258        0\n",
              "208757  Sentence: 9999        gold      O      1317        0\n",
              "208758  Sentence: 9999           .      O     13264        0\n",
              "208759  Sentence: 9999           \"      O     26944        0\n",
              "\n",
              "[208760 rows x 5 columns]"
            ]
          },
          "metadata": {},
          "execution_count": 22
        }
      ]
    },
    {
      "cell_type": "markdown",
      "metadata": {
        "id": "IxmkEpPYaQlH"
      },
      "source": [
        "Export ke csv untuk digunakan membangun model klasifikasi"
      ]
    },
    {
      "cell_type": "code",
      "metadata": {
        "id": "A6NtljjRaVFz"
      },
      "source": [
        "train_df.to_csv('/content/drive/MyDrive/Colab Notebooks/FP-KK/dataset/train_baseline_fix_index.csv')"
      ],
      "execution_count": null,
      "outputs": []
    },
    {
      "cell_type": "code",
      "metadata": {
        "id": "hAY2lXj8bVVE"
      },
      "source": [
        "test_df.to_csv('/content/drive/MyDrive/Colab Notebooks/FP-KK/dataset/test_baseline_fix_index.csv')"
      ],
      "execution_count": null,
      "outputs": []
    },
    {
      "cell_type": "code",
      "metadata": {
        "id": "Sxthn_sFyO7Y"
      },
      "source": [
        "merged_df = train_df.append([test_df])"
      ],
      "execution_count": null,
      "outputs": []
    },
    {
      "cell_type": "code",
      "source": [
        "import math\n",
        "split_size = math.floor(merged_df.shape[0] * 0.5)\n",
        "split_size"
      ],
      "metadata": {
        "id": "_tdpSyrJX24i"
      },
      "execution_count": null,
      "outputs": []
    },
    {
      "cell_type": "code",
      "source": [
        "train1 = merged_df.iloc[-split_size:]\n",
        "train2 = merged_df.iloc[:merged_df.shape[0] - split_size]"
      ],
      "metadata": {
        "id": "7NKiCLnhYAWo"
      },
      "execution_count": null,
      "outputs": []
    },
    {
      "cell_type": "code",
      "metadata": {
        "id": "H5NbcASWyZcE"
      },
      "source": [
        "train1.to_csv('/content/drive/MyDrive/Colab Notebooks/FP-KK/dataset/merged_baseline_1.csv')\n",
        "train2.to_csv('/content/drive/MyDrive/Colab Notebooks/FP-KK/dataset/merged_baseline_2.csv')"
      ],
      "execution_count": null,
      "outputs": []
    }
  ]
}