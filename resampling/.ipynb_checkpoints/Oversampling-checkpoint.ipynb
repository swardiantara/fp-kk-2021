{
 "cells": [
  {
   "cell_type": "code",
   "execution_count": 1,
   "metadata": {
    "id": "CKMlGhEl6fD4"
   },
   "outputs": [],
   "source": [
    "import tensorflow as tf\n",
    "import pandas as pd\n",
    "import numpy as np"
   ]
  },
  {
   "cell_type": "code",
   "execution_count": 2,
   "metadata": {
    "colab": {
     "base_uri": "https://localhost:8080/"
    },
    "id": "aO_HHsKF6t8x",
    "outputId": "71a32b6c-a083-4ec2-d740-dd613756e6f1"
   },
   "outputs": [
    {
     "name": "stdout",
     "output_type": "stream",
     "text": [
      "Drive already mounted at /content/drive; to attempt to forcibly remount, call drive.mount(\"/content/drive\", force_remount=True).\n"
     ]
    }
   ],
   "source": [
    "from google.colab import drive\n",
    "drive.mount('/content/drive')"
   ]
  },
  {
   "cell_type": "code",
   "execution_count": 3,
   "metadata": {
    "colab": {
     "base_uri": "https://localhost:8080/"
    },
    "id": "bnbRRQGg66Wh",
    "outputId": "7d0ee6d3-1573-41df-941a-ec22555defaa"
   },
   "outputs": [
    {
     "data": {
      "text/plain": [
       "(839815, 6)"
      ]
     },
     "execution_count": 3,
     "metadata": {},
     "output_type": "execute_result"
    }
   ],
   "source": [
    "dataset_path = '/content/drive/MyDrive/Colab Notebooks/FP-KK/dataset/train_baseline.csv'\n",
    "dataset = pd.read_csv(dataset_path, encoding= 'unicode_escape')\n",
    "dataset.shape"
   ]
  },
  {
   "cell_type": "code",
   "execution_count": 4,
   "metadata": {
    "colab": {
     "base_uri": "https://localhost:8080/",
     "height": 424
    },
    "id": "uylb0EDB7XPe",
    "outputId": "0699b752-a1a7-46bc-f26d-69aa34a83354"
   },
   "outputs": [
    {
     "data": {
      "text/html": [
       "<div>\n",
       "<style scoped>\n",
       "    .dataframe tbody tr th:only-of-type {\n",
       "        vertical-align: middle;\n",
       "    }\n",
       "\n",
       "    .dataframe tbody tr th {\n",
       "        vertical-align: top;\n",
       "    }\n",
       "\n",
       "    .dataframe thead th {\n",
       "        text-align: right;\n",
       "    }\n",
       "</style>\n",
       "<table border=\"1\" class=\"dataframe\">\n",
       "  <thead>\n",
       "    <tr style=\"text-align: right;\">\n",
       "      <th></th>\n",
       "      <th>Sentence #</th>\n",
       "      <th>Word</th>\n",
       "      <th>Tag</th>\n",
       "      <th>Word_idx</th>\n",
       "      <th>Tag_idx</th>\n",
       "    </tr>\n",
       "  </thead>\n",
       "  <tbody>\n",
       "    <tr>\n",
       "      <th>0</th>\n",
       "      <td>Sentence: 1</td>\n",
       "      <td>Thousands</td>\n",
       "      <td>O</td>\n",
       "      <td>28285</td>\n",
       "      <td>14</td>\n",
       "    </tr>\n",
       "    <tr>\n",
       "      <th>1</th>\n",
       "      <td>Sentence: 1</td>\n",
       "      <td>of</td>\n",
       "      <td>O</td>\n",
       "      <td>15741</td>\n",
       "      <td>14</td>\n",
       "    </tr>\n",
       "    <tr>\n",
       "      <th>2</th>\n",
       "      <td>Sentence: 1</td>\n",
       "      <td>demonstrators</td>\n",
       "      <td>O</td>\n",
       "      <td>1523</td>\n",
       "      <td>14</td>\n",
       "    </tr>\n",
       "    <tr>\n",
       "      <th>3</th>\n",
       "      <td>Sentence: 1</td>\n",
       "      <td>have</td>\n",
       "      <td>O</td>\n",
       "      <td>367</td>\n",
       "      <td>14</td>\n",
       "    </tr>\n",
       "    <tr>\n",
       "      <th>4</th>\n",
       "      <td>Sentence: 1</td>\n",
       "      <td>marched</td>\n",
       "      <td>O</td>\n",
       "      <td>13632</td>\n",
       "      <td>14</td>\n",
       "    </tr>\n",
       "    <tr>\n",
       "      <th>...</th>\n",
       "      <td>...</td>\n",
       "      <td>...</td>\n",
       "      <td>...</td>\n",
       "      <td>...</td>\n",
       "      <td>...</td>\n",
       "    </tr>\n",
       "    <tr>\n",
       "      <th>839810</th>\n",
       "      <td>Sentence: 44529</td>\n",
       "      <td>as</td>\n",
       "      <td>O</td>\n",
       "      <td>21619</td>\n",
       "      <td>14</td>\n",
       "    </tr>\n",
       "    <tr>\n",
       "      <th>839811</th>\n",
       "      <td>Sentence: 44529</td>\n",
       "      <td>alternatives</td>\n",
       "      <td>O</td>\n",
       "      <td>21279</td>\n",
       "      <td>14</td>\n",
       "    </tr>\n",
       "    <tr>\n",
       "      <th>839812</th>\n",
       "      <td>Sentence: 44529</td>\n",
       "      <td>to</td>\n",
       "      <td>O</td>\n",
       "      <td>34610</td>\n",
       "      <td>14</td>\n",
       "    </tr>\n",
       "    <tr>\n",
       "      <th>839813</th>\n",
       "      <td>Sentence: 44529</td>\n",
       "      <td>oil</td>\n",
       "      <td>O</td>\n",
       "      <td>23416</td>\n",
       "      <td>14</td>\n",
       "    </tr>\n",
       "    <tr>\n",
       "      <th>839814</th>\n",
       "      <td>Sentence: 44529</td>\n",
       "      <td>.</td>\n",
       "      <td>O</td>\n",
       "      <td>13264</td>\n",
       "      <td>14</td>\n",
       "    </tr>\n",
       "  </tbody>\n",
       "</table>\n",
       "<p>839815 rows × 5 columns</p>\n",
       "</div>"
      ],
      "text/plain": [
       "             Sentence #           Word Tag  Word_idx  Tag_idx\n",
       "0           Sentence: 1      Thousands   O     28285       14\n",
       "1           Sentence: 1             of   O     15741       14\n",
       "2           Sentence: 1  demonstrators   O      1523       14\n",
       "3           Sentence: 1           have   O       367       14\n",
       "4           Sentence: 1        marched   O     13632       14\n",
       "...                 ...            ...  ..       ...      ...\n",
       "839810  Sentence: 44529             as   O     21619       14\n",
       "839811  Sentence: 44529   alternatives   O     21279       14\n",
       "839812  Sentence: 44529             to   O     34610       14\n",
       "839813  Sentence: 44529            oil   O     23416       14\n",
       "839814  Sentence: 44529              .   O     13264       14\n",
       "\n",
       "[839815 rows x 5 columns]"
      ]
     },
     "execution_count": 4,
     "metadata": {},
     "output_type": "execute_result"
    }
   ],
   "source": [
    "dataset.drop(['Unnamed: 0'], inplace=True, axis=1)\n",
    "dataset"
   ]
  },
  {
   "cell_type": "code",
   "execution_count": 5,
   "metadata": {
    "colab": {
     "base_uri": "https://localhost:8080/"
    },
    "id": "Ns8UebCt7gnd",
    "outputId": "b14159ac-0203-4de2-be87-239b13437301"
   },
   "outputs": [
    {
     "data": {
      "text/plain": [
       "O        711029\n",
       "B-geo     30162\n",
       "B-tim     16251\n",
       "B-org     16125\n",
       "I-per     13917\n",
       "B-per     13667\n",
       "I-org     13583\n",
       "B-gpe     12492\n",
       "I-geo      5959\n",
       "I-tim      5269\n",
       "B-art       319\n",
       "I-art       252\n",
       "B-eve       240\n",
       "I-eve       200\n",
       "B-nat       162\n",
       "I-gpe       154\n",
       "I-nat        34\n",
       "Name: Tag, dtype: int64"
      ]
     },
     "execution_count": 5,
     "metadata": {},
     "output_type": "execute_result"
    }
   ],
   "source": [
    "dataset[\"Tag\"].value_counts()"
   ]
  },
  {
   "cell_type": "code",
   "execution_count": 6,
   "metadata": {
    "colab": {
     "base_uri": "https://localhost:8080/",
     "height": 567
    },
    "id": "vVT3L2jO7lle",
    "outputId": "c878e301-ed2c-4b54-c4c6-77e63a365097"
   },
   "outputs": [
    {
     "data": {
      "image/png": "[encoded data removed]",
      "text/plain": [
       "<Figure size 1152x576 with 1 Axes>"
      ]
     },
     "metadata": {
      "needs_background": "light"
     },
     "output_type": "display_data"
    }
   ],
   "source": [
    "import matplotlib.pyplot as plt\n",
    "import seaborn as sns\n",
    "\n",
    "plt.figure(figsize = (16,8))\n",
    "sns.set_style('darkgrid')\n",
    "sns.histplot(dataset['Tag'])\n",
    "plt.tight_layout(pad=2)\n",
    "plt.show()"
   ]
  },
  {
   "cell_type": "code",
   "execution_count": 7,
   "metadata": {
    "colab": {
     "base_uri": "https://localhost:8080/"
    },
    "id": "DHRFNS2I7snb",
    "outputId": "63ff7af0-4dcb-4dfa-b4b9-50b9fa5c78d4"
   },
   "outputs": [
    {
     "name": "stderr",
     "output_type": "stream",
     "text": [
      "/usr/local/lib/python3.7/dist-packages/ipykernel_launcher.py:2: FutureWarning: Indexing with multiple keys (implicitly converted to a tuple of keys) will be deprecated, use a list instead.\n",
      "  \n"
     ]
    }
   ],
   "source": [
    "dataset_fillna = dataset.fillna(method='ffill', axis=0)\n",
    "dataset_group = dataset_fillna.groupby(['Sentence #'], as_index=False)['Word', 'Tag', 'Word_idx', 'Tag_idx'].agg(lambda x: list(x))"
   ]
  },
  {
   "cell_type": "code",
   "execution_count": 8,
   "metadata": {
    "colab": {
     "base_uri": "https://localhost:8080/",
     "height": 424
    },
    "id": "n4JJpaE27_9Z",
    "outputId": "a68b05cb-6ba1-4e5c-b150-74548fef1d3a"
   },
   "outputs": [
    {
     "data": {
      "text/html": [
       "<div>\n",
       "<style scoped>\n",
       "    .dataframe tbody tr th:only-of-type {\n",
       "        vertical-align: middle;\n",
       "    }\n",
       "\n",
       "    .dataframe tbody tr th {\n",
       "        vertical-align: top;\n",
       "    }\n",
       "\n",
       "    .dataframe thead th {\n",
       "        text-align: right;\n",
       "    }\n",
       "</style>\n",
       "<table border=\"1\" class=\"dataframe\">\n",
       "  <thead>\n",
       "    <tr style=\"text-align: right;\">\n",
       "      <th></th>\n",
       "      <th>Sentence #</th>\n",
       "      <th>Word</th>\n",
       "      <th>Tag</th>\n",
       "      <th>Word_idx</th>\n",
       "      <th>Tag_idx</th>\n",
       "    </tr>\n",
       "  </thead>\n",
       "  <tbody>\n",
       "    <tr>\n",
       "      <th>0</th>\n",
       "      <td>Sentence: 1</td>\n",
       "      <td>[Thousands, of, demonstrators, have, marched, ...</td>\n",
       "      <td>[O, O, O, O, O, O, B-geo, O, O, O, O, O, B-geo...</td>\n",
       "      <td>[28285, 15741, 1523, 367, 13632, 7168, 25967, ...</td>\n",
       "      <td>[14, 14, 14, 14, 14, 14, 6, 14, 14, 14, 14, 14...</td>\n",
       "    </tr>\n",
       "    <tr>\n",
       "      <th>1</th>\n",
       "      <td>Sentence: 10</td>\n",
       "      <td>[Iranian, officials, say, they, expect, to, ge...</td>\n",
       "      <td>[B-gpe, O, O, O, O, O, O, O, O, O, O, O, O, O,...</td>\n",
       "      <td>[34424, 1990, 32928, 9794, 31792, 34610, 15641...</td>\n",
       "      <td>[7, 14, 14, 14, 14, 14, 14, 14, 14, 14, 14, 14...</td>\n",
       "    </tr>\n",
       "    <tr>\n",
       "      <th>2</th>\n",
       "      <td>Sentence: 100</td>\n",
       "      <td>[Helicopter, gunships, Saturday, pounded, mili...</td>\n",
       "      <td>[O, O, B-tim, O, O, O, O, O, B-geo, O, O, O, O...</td>\n",
       "      <td>[28347, 29190, 19208, 2838, 24041, 26531, 7258...</td>\n",
       "      <td>[14, 14, 16, 14, 14, 14, 14, 14, 6, 14, 14, 14...</td>\n",
       "    </tr>\n",
       "    <tr>\n",
       "      <th>3</th>\n",
       "      <td>Sentence: 1000</td>\n",
       "      <td>[They, left, after, a, tense, hour-long, stand...</td>\n",
       "      <td>[O, O, O, O, O, O, O, O, O, O, O]</td>\n",
       "      <td>[4139, 30932, 1336, 28550, 18536, 21258, 26975...</td>\n",
       "      <td>[14, 14, 14, 14, 14, 14, 14, 14, 14, 14, 14]</td>\n",
       "    </tr>\n",
       "    <tr>\n",
       "      <th>4</th>\n",
       "      <td>Sentence: 10000</td>\n",
       "      <td>[U.N., relief, coordinator, Jan, Egeland, said...</td>\n",
       "      <td>[B-geo, O, O, B-per, I-per, O, B-tim, O, B-geo...</td>\n",
       "      <td>[30896, 25325, 14734, 12754, 18505, 433, 7325,...</td>\n",
       "      <td>[6, 14, 14, 4, 5, 14, 16, 14, 6, 14, 7, 14, 7,...</td>\n",
       "    </tr>\n",
       "    <tr>\n",
       "      <th>...</th>\n",
       "      <td>...</td>\n",
       "      <td>...</td>\n",
       "      <td>...</td>\n",
       "      <td>...</td>\n",
       "      <td>...</td>\n",
       "    </tr>\n",
       "    <tr>\n",
       "      <th>38363</th>\n",
       "      <td>Sentence: 44525</td>\n",
       "      <td>[President, Bush, called, on, the, United, Sta...</td>\n",
       "      <td>[B-per, I-per, O, O, O, B-geo, I-geo, O, O, O,...</td>\n",
       "      <td>[344, 19638, 28590, 29279, 3894, 18510, 6565, ...</td>\n",
       "      <td>[4, 5, 14, 14, 14, 6, 0, 14, 14, 14, 14, 14, 1...</td>\n",
       "    </tr>\n",
       "    <tr>\n",
       "      <th>38364</th>\n",
       "      <td>Sentence: 44526</td>\n",
       "      <td>[Mr., Bush, said, dependence, on, foreign, sou...</td>\n",
       "      <td>[B-per, I-per, O, O, O, O, O, O, O, O, B-geo, ...</td>\n",
       "      <td>[188, 19638, 433, 7527, 29279, 11236, 5495, 15...</td>\n",
       "      <td>[4, 5, 14, 14, 14, 14, 14, 14, 14, 14, 6, 14, ...</td>\n",
       "    </tr>\n",
       "    <tr>\n",
       "      <th>38365</th>\n",
       "      <td>Sentence: 44527</td>\n",
       "      <td>[The, president, called, for, reducing, gasoli...</td>\n",
       "      <td>[O, O, O, O, O, O, O, O, O, B-geo, O, O, O, B-...</td>\n",
       "      <td>[20005, 3610, 28590, 12209, 28521, 30306, 3119...</td>\n",
       "      <td>[14, 14, 14, 14, 14, 14, 14, 14, 14, 6, 14, 14...</td>\n",
       "    </tr>\n",
       "    <tr>\n",
       "      <th>38366</th>\n",
       "      <td>Sentence: 44528</td>\n",
       "      <td>[He, said, the, goal, can, be, met, by, increa...</td>\n",
       "      <td>[O, O, O, O, O, O, O, O, O, O, O, O, O, O, O, ...</td>\n",
       "      <td>[22908, 433, 3894, 32462, 14067, 26107, 19184,...</td>\n",
       "      <td>[14, 14, 14, 14, 14, 14, 14, 14, 14, 14, 14, 1...</td>\n",
       "    </tr>\n",
       "    <tr>\n",
       "      <th>38367</th>\n",
       "      <td>Sentence: 44529</td>\n",
       "      <td>[Mr., Bush, also, called, for, greater, use, o...</td>\n",
       "      <td>[B-per, I-per, O, O, O, O, O, O, O, O, O, O, O...</td>\n",
       "      <td>[188, 19638, 33726, 28590, 12209, 32992, 390, ...</td>\n",
       "      <td>[4, 5, 14, 14, 14, 14, 14, 14, 14, 14, 14, 14,...</td>\n",
       "    </tr>\n",
       "  </tbody>\n",
       "</table>\n",
       "<p>38368 rows × 5 columns</p>\n",
       "</div>"
      ],
      "text/plain": [
       "            Sentence #  ...                                            Tag_idx\n",
       "0          Sentence: 1  ...  [14, 14, 14, 14, 14, 14, 6, 14, 14, 14, 14, 14...\n",
       "1         Sentence: 10  ...  [7, 14, 14, 14, 14, 14, 14, 14, 14, 14, 14, 14...\n",
       "2        Sentence: 100  ...  [14, 14, 16, 14, 14, 14, 14, 14, 6, 14, 14, 14...\n",
       "3       Sentence: 1000  ...       [14, 14, 14, 14, 14, 14, 14, 14, 14, 14, 14]\n",
       "4      Sentence: 10000  ...  [6, 14, 14, 4, 5, 14, 16, 14, 6, 14, 7, 14, 7,...\n",
       "...                ...  ...                                                ...\n",
       "38363  Sentence: 44525  ...  [4, 5, 14, 14, 14, 6, 0, 14, 14, 14, 14, 14, 1...\n",
       "38364  Sentence: 44526  ...  [4, 5, 14, 14, 14, 14, 14, 14, 14, 14, 6, 14, ...\n",
       "38365  Sentence: 44527  ...  [14, 14, 14, 14, 14, 14, 14, 14, 14, 6, 14, 14...\n",
       "38366  Sentence: 44528  ...  [14, 14, 14, 14, 14, 14, 14, 14, 14, 14, 14, 1...\n",
       "38367  Sentence: 44529  ...  [4, 5, 14, 14, 14, 14, 14, 14, 14, 14, 14, 14,...\n",
       "\n",
       "[38368 rows x 5 columns]"
      ]
     },
     "execution_count": 8,
     "metadata": {},
     "output_type": "execute_result"
    }
   ],
   "source": [
    "dataset_group"
   ]
  },
  {
   "cell_type": "markdown",
   "metadata": {
    "id": "NP-DaSCW8FMj"
   },
   "source": [
    "Membuat list data kandidat yang akan digunakan saat melakukan oversampling. Data-data ini diambil secara acak dari dataset awal, sehingga metode ini mengandung unsur random oversampling pada sisi pengambilan kandidat data yang akan dibangkitkan"
   ]
  },
  {
   "cell_type": "code",
   "execution_count": 9,
   "metadata": {
    "id": "1I9-O-gX8EiD"
   },
   "outputs": [],
   "source": [
    "geoList = [\"States\", \"City\", \"Province\", \"Islands\", \"Republic\"]\n",
    "orgList = [\"Agency\", \"Council\", \"Association\", \"Company\", \"Community\", \"Committee\", \"Department\", \"Organization\"]\n",
    "perList = [\"Pinochet\", \"Montiglio\", \"George\", \"Laurent\", \"Levy\", \"Abbas\", \"Felipe\", \"Sharon\", \"Ariel\", \"Lavrov\", \"Bush\", \"Silva\", \"Putin\", \"Chavez\", \"Rosales\", \"Howard\", \"Bashar\", \"Nahles\", \"Johnson\", \"Morris\", \"Davis\", \"Robert\", \"Karzai\", \"Jalal\"]"
   ]
  },
  {
   "cell_type": "code",
   "execution_count": 10,
   "metadata": {
    "id": "WKjQEH9J8vax"
   },
   "outputs": [],
   "source": [
    "import random\n",
    "def generateRandomEntity(entityType):\n",
    "  if(entityType == 'GEO'):\n",
    "    return random.choice(geoList)\n",
    "  elif(entityType == 'ORG'):\n",
    "    return random.choice(orgList)\n",
    "  else:\n",
    "    return random.choice(perList)"
   ]
  },
  {
   "cell_type": "markdown",
   "metadata": {
    "id": "aox5wE-v83D4"
   },
   "source": [
    "Load dictionary dari hasil preprocessing untuk memetakan token2idx dan sebaliknya serta tag2idx dan sebaliknya."
   ]
  },
  {
   "cell_type": "code",
   "execution_count": 11,
   "metadata": {
    "id": "RkXPSxAr9JGJ"
   },
   "outputs": [],
   "source": [
    "# importing the module\n",
    "import json\n",
    " \n",
    "# Opening JSON file\n",
    "def loadJSON(filename):\n",
    "  data = {}\n",
    "  with open(filename) as json_file:\n",
    "      data = json.load(json_file)\n",
    "  return data"
   ]
  },
  {
   "cell_type": "code",
   "execution_count": 12,
   "metadata": {
    "colab": {
     "base_uri": "https://localhost:8080/"
    },
    "id": "cSZhIafA9j8y",
    "outputId": "bbc626c1-4f59-45d5-fe6f-e0268afcaee5"
   },
   "outputs": [
    {
     "name": "stdout",
     "output_type": "stream",
     "text": [
      "{'0': 'I-geo', '1': 'I-org', '2': 'B-nat', '3': 'I-eve', '4': 'B-per', '5': 'I-per', '6': 'B-geo', '7': 'B-gpe', '8': 'B-eve', '9': 'I-art', '10': 'B-org', '11': 'I-tim', '12': 'B-art', '13': 'I-gpe', '14': 'O', '15': 'I-nat', '16': 'B-tim'}\n"
     ]
    }
   ],
   "source": [
    "idx2tag = loadJSON('/content/drive/MyDrive/Colab Notebooks/FP-KK/output/idx2tag.json')\n",
    "tag2idx = loadJSON('/content/drive/MyDrive/Colab Notebooks/FP-KK/output/tag2idx.json')\n",
    "token2idx = loadJSON('/content/drive/MyDrive/Colab Notebooks/FP-KK/output/token2idx.json')\n",
    "idx2token = loadJSON('/content/drive/MyDrive/Colab Notebooks/FP-KK/output/idx2token.json')\n",
    "print(idx2tag)"
   ]
  },
  {
   "cell_type": "code",
   "execution_count": 13,
   "metadata": {
    "id": "RgXuAyDO-cBV"
   },
   "outputs": [],
   "source": [
    "def nerOversample(dataset):\n",
    "  last = False\n",
    "  for sentence in range(0, dataset.shape[0]):\n",
    "    for tag in range(0, len(dataset.loc[sentence, 'Tag'])):\n",
    "      if (tag == len(dataset.loc[sentence, 'Tag']) - 1): \n",
    "        last = True\n",
    "      if((dataset.loc[sentence, 'Tag'][tag] == 'B-geo' and last == True) or (dataset.loc[sentence, 'Tag'][tag] == 'B-geo' and dataset.loc[sentence, 'Tag'][tag+1] == 'O')):\n",
    "        if(last==False): \n",
    "          print(sentence, tag)\n",
    "          print(dataset.loc[sentence, 'Word'][tag], dataset.loc[sentence, 'Word'][tag+1], dataset.loc[sentence, 'Tag'][tag], dataset.loc[sentence, 'Tag'][tag+1])\n",
    "        random_word = generateRandomEntity('GEO')\n",
    "        dataset.loc[sentence, 'Word'].insert(tag+1, random_word)\n",
    "        dataset.loc[sentence, 'Word_idx'].insert(tag+1, token2idx.get(random_word))\n",
    "        dataset.loc[sentence, 'Tag'].insert(tag+1, 'I-geo')\n",
    "        dataset.loc[sentence, 'Tag_idx'].insert(tag+1, tag2idx.get('I-geo'))\n",
    "      elif((dataset.loc[sentence, 'Tag'][tag] == 'B-org' and last == True) or (dataset.loc[sentence, 'Tag'][tag] == 'B-org' and dataset.loc[sentence, 'Tag'][tag+1] == 'O')):\n",
    "        if(last==False): \n",
    "          print(sentence, tag)\n",
    "          print(dataset.loc[sentence, 'Word'][tag], dataset.loc[sentence, 'Word'][tag+1], dataset.loc[sentence, 'Tag'][tag], dataset.loc[sentence, 'Tag'][tag+1])\n",
    "        random_word = generateRandomEntity('ORG')\n",
    "        dataset.loc[sentence, 'Word'].insert(tag+1, random_word)\n",
    "        dataset.loc[sentence, 'Word_idx'].insert(tag+1, token2idx.get(random_word))\n",
    "        dataset.loc[sentence, 'Tag'].insert(tag+1, 'I-org')\n",
    "        dataset.loc[sentence, 'Tag_idx'].insert(tag+1, tag2idx.get('I-org'))\n",
    "      elif((dataset.loc[sentence, 'Tag'][tag] == 'B-per' and last == True) or (dataset.loc[sentence, 'Tag'][tag] == 'B-per' and dataset.loc[sentence, 'Tag'][tag+1] == 'O')):\n",
    "        if(last==False):\n",
    "          print(sentence, tag)\n",
    "          print(dataset.loc[sentence, 'Word'][tag], dataset.loc[sentence, 'Word'][tag+1], dataset.loc[sentence, 'Tag'][tag], dataset.loc[sentence, 'Tag'][tag+1])\n",
    "        random_word = generateRandomEntity('PER')\n",
    "        dataset.loc[sentence, 'Word'].insert(tag+1, random_word)\n",
    "        dataset.loc[sentence, 'Word_idx'].insert(tag+1, token2idx.get(random_word))\n",
    "        dataset.loc[sentence, 'Tag'].insert(tag+1, 'I-per')\n",
    "        dataset.loc[sentence, 'Tag_idx'].insert(tag+1, tag2idx.get('I-per'))\n",
    "  return dataset"
   ]
  },
  {
   "cell_type": "markdown",
   "metadata": {
    "id": "aVpC3yZKCA-D"
   },
   "source": [
    "Backup dataset sebelum melakukan oversampling"
   ]
  },
  {
   "cell_type": "code",
   "execution_count": 14,
   "metadata": {
    "id": "RJCQ-0BmB5na"
   },
   "outputs": [],
   "source": [
    "data_backup = dataset_group.copy()\n",
    "dataset_untuk_sample = data_backup.copy()"
   ]
  },
  {
   "cell_type": "code",
   "execution_count": 15,
   "metadata": {
    "colab": {
     "base_uri": "https://localhost:8080/",
     "height": 424
    },
    "id": "i7VIRbqoFF-g",
    "outputId": "02c625d6-baeb-4f0f-cb88-310a87e46019"
   },
   "outputs": [
    {
     "data": {
      "text/html": [
       "<div>\n",
       "<style scoped>\n",
       "    .dataframe tbody tr th:only-of-type {\n",
       "        vertical-align: middle;\n",
       "    }\n",
       "\n",
       "    .dataframe tbody tr th {\n",
       "        vertical-align: top;\n",
       "    }\n",
       "\n",
       "    .dataframe thead th {\n",
       "        text-align: right;\n",
       "    }\n",
       "</style>\n",
       "<table border=\"1\" class=\"dataframe\">\n",
       "  <thead>\n",
       "    <tr style=\"text-align: right;\">\n",
       "      <th></th>\n",
       "      <th>Sentence #</th>\n",
       "      <th>Word</th>\n",
       "      <th>Tag</th>\n",
       "      <th>Word_idx</th>\n",
       "      <th>Tag_idx</th>\n",
       "    </tr>\n",
       "  </thead>\n",
       "  <tbody>\n",
       "    <tr>\n",
       "      <th>0</th>\n",
       "      <td>Sentence: 1</td>\n",
       "      <td>[Thousands, of, demonstrators, have, marched, ...</td>\n",
       "      <td>[O, O, O, O, O, O, B-geo, O, O, O, O, O, B-geo...</td>\n",
       "      <td>[28285, 15741, 1523, 367, 13632, 7168, 25967, ...</td>\n",
       "      <td>[14, 14, 14, 14, 14, 14, 6, 14, 14, 14, 14, 14...</td>\n",
       "    </tr>\n",
       "    <tr>\n",
       "      <th>1</th>\n",
       "      <td>Sentence: 10</td>\n",
       "      <td>[Iranian, officials, say, they, expect, to, ge...</td>\n",
       "      <td>[B-gpe, O, O, O, O, O, O, O, O, O, O, O, O, O,...</td>\n",
       "      <td>[34424, 1990, 32928, 9794, 31792, 34610, 15641...</td>\n",
       "      <td>[7, 14, 14, 14, 14, 14, 14, 14, 14, 14, 14, 14...</td>\n",
       "    </tr>\n",
       "    <tr>\n",
       "      <th>2</th>\n",
       "      <td>Sentence: 100</td>\n",
       "      <td>[Helicopter, gunships, Saturday, pounded, mili...</td>\n",
       "      <td>[O, O, B-tim, O, O, O, O, O, B-geo, O, O, O, O...</td>\n",
       "      <td>[28347, 29190, 19208, 2838, 24041, 26531, 7258...</td>\n",
       "      <td>[14, 14, 16, 14, 14, 14, 14, 14, 6, 14, 14, 14...</td>\n",
       "    </tr>\n",
       "    <tr>\n",
       "      <th>3</th>\n",
       "      <td>Sentence: 1000</td>\n",
       "      <td>[They, left, after, a, tense, hour-long, stand...</td>\n",
       "      <td>[O, O, O, O, O, O, O, O, O, O, O]</td>\n",
       "      <td>[4139, 30932, 1336, 28550, 18536, 21258, 26975...</td>\n",
       "      <td>[14, 14, 14, 14, 14, 14, 14, 14, 14, 14, 14]</td>\n",
       "    </tr>\n",
       "    <tr>\n",
       "      <th>4</th>\n",
       "      <td>Sentence: 10000</td>\n",
       "      <td>[U.N., relief, coordinator, Jan, Egeland, said...</td>\n",
       "      <td>[B-geo, O, O, B-per, I-per, O, B-tim, O, B-geo...</td>\n",
       "      <td>[30896, 25325, 14734, 12754, 18505, 433, 7325,...</td>\n",
       "      <td>[6, 14, 14, 4, 5, 14, 16, 14, 6, 14, 7, 14, 7,...</td>\n",
       "    </tr>\n",
       "    <tr>\n",
       "      <th>...</th>\n",
       "      <td>...</td>\n",
       "      <td>...</td>\n",
       "      <td>...</td>\n",
       "      <td>...</td>\n",
       "      <td>...</td>\n",
       "    </tr>\n",
       "    <tr>\n",
       "      <th>38363</th>\n",
       "      <td>Sentence: 44525</td>\n",
       "      <td>[President, Bush, called, on, the, United, Sta...</td>\n",
       "      <td>[B-per, I-per, O, O, O, B-geo, I-geo, O, O, O,...</td>\n",
       "      <td>[344, 19638, 28590, 29279, 3894, 18510, 6565, ...</td>\n",
       "      <td>[4, 5, 14, 14, 14, 6, 0, 14, 14, 14, 14, 14, 1...</td>\n",
       "    </tr>\n",
       "    <tr>\n",
       "      <th>38364</th>\n",
       "      <td>Sentence: 44526</td>\n",
       "      <td>[Mr., Bush, said, dependence, on, foreign, sou...</td>\n",
       "      <td>[B-per, I-per, O, O, O, O, O, O, O, O, B-geo, ...</td>\n",
       "      <td>[188, 19638, 433, 7527, 29279, 11236, 5495, 15...</td>\n",
       "      <td>[4, 5, 14, 14, 14, 14, 14, 14, 14, 14, 6, 14, ...</td>\n",
       "    </tr>\n",
       "    <tr>\n",
       "      <th>38365</th>\n",
       "      <td>Sentence: 44527</td>\n",
       "      <td>[The, president, called, for, reducing, gasoli...</td>\n",
       "      <td>[O, O, O, O, O, O, O, O, O, B-geo, O, O, O, B-...</td>\n",
       "      <td>[20005, 3610, 28590, 12209, 28521, 30306, 3119...</td>\n",
       "      <td>[14, 14, 14, 14, 14, 14, 14, 14, 14, 6, 14, 14...</td>\n",
       "    </tr>\n",
       "    <tr>\n",
       "      <th>38366</th>\n",
       "      <td>Sentence: 44528</td>\n",
       "      <td>[He, said, the, goal, can, be, met, by, increa...</td>\n",
       "      <td>[O, O, O, O, O, O, O, O, O, O, O, O, O, O, O, ...</td>\n",
       "      <td>[22908, 433, 3894, 32462, 14067, 26107, 19184,...</td>\n",
       "      <td>[14, 14, 14, 14, 14, 14, 14, 14, 14, 14, 14, 1...</td>\n",
       "    </tr>\n",
       "    <tr>\n",
       "      <th>38367</th>\n",
       "      <td>Sentence: 44529</td>\n",
       "      <td>[Mr., Bush, also, called, for, greater, use, o...</td>\n",
       "      <td>[B-per, I-per, O, O, O, O, O, O, O, O, O, O, O...</td>\n",
       "      <td>[188, 19638, 33726, 28590, 12209, 32992, 390, ...</td>\n",
       "      <td>[4, 5, 14, 14, 14, 14, 14, 14, 14, 14, 14, 14,...</td>\n",
       "    </tr>\n",
       "  </tbody>\n",
       "</table>\n",
       "<p>38368 rows × 5 columns</p>\n",
       "</div>"
      ],
      "text/plain": [
       "            Sentence #  ...                                            Tag_idx\n",
       "0          Sentence: 1  ...  [14, 14, 14, 14, 14, 14, 6, 14, 14, 14, 14, 14...\n",
       "1         Sentence: 10  ...  [7, 14, 14, 14, 14, 14, 14, 14, 14, 14, 14, 14...\n",
       "2        Sentence: 100  ...  [14, 14, 16, 14, 14, 14, 14, 14, 6, 14, 14, 14...\n",
       "3       Sentence: 1000  ...       [14, 14, 14, 14, 14, 14, 14, 14, 14, 14, 14]\n",
       "4      Sentence: 10000  ...  [6, 14, 14, 4, 5, 14, 16, 14, 6, 14, 7, 14, 7,...\n",
       "...                ...  ...                                                ...\n",
       "38363  Sentence: 44525  ...  [4, 5, 14, 14, 14, 6, 0, 14, 14, 14, 14, 14, 1...\n",
       "38364  Sentence: 44526  ...  [4, 5, 14, 14, 14, 14, 14, 14, 14, 14, 6, 14, ...\n",
       "38365  Sentence: 44527  ...  [14, 14, 14, 14, 14, 14, 14, 14, 14, 6, 14, 14...\n",
       "38366  Sentence: 44528  ...  [14, 14, 14, 14, 14, 14, 14, 14, 14, 14, 14, 1...\n",
       "38367  Sentence: 44529  ...  [4, 5, 14, 14, 14, 14, 14, 14, 14, 14, 14, 14,...\n",
       "\n",
       "[38368 rows x 5 columns]"
      ]
     },
     "execution_count": 15,
     "metadata": {},
     "output_type": "execute_result"
    }
   ],
   "source": [
    "data_backup"
   ]
  },
  {
   "cell_type": "code",
   "execution_count": 21,
   "metadata": {
    "colab": {
     "base_uri": "https://localhost:8080/",
     "height": 35
    },
    "id": "hA2SODP6Q2FU",
    "outputId": "55dd8133-9926-4a53-c54b-3d8dcac99b28"
   },
   "outputs": [
    {
     "data": {
      "application/vnd.google.colaboratory.intrinsic+json": {
       "type": "string"
      },
      "text/plain": [
       "'Orakzai'"
      ]
     },
     "execution_count": 21,
     "metadata": {},
     "output_type": "execute_result"
    }
   ],
   "source": [
    "data_backup.loc[2, 'Word'][8]"
   ]
  },
  {
   "cell_type": "code",
   "execution_count": 16,
   "metadata": {
    "colab": {
     "base_uri": "https://localhost:8080/",
     "height": 485
    },
    "id": "ZEQLGirKCFWL",
    "outputId": "dc42d12c-947a-4230-9348-20c54bb5bbdf"
   },
   "outputs": [
    {
     "name": "stdout",
     "output_type": "stream",
     "text": [
      "0 6\n",
      "London to B-geo O\n",
      "0 13\n",
      "Iraq and B-geo O\n",
      "1 19\n",
      "IAEA surveillance B-org O\n",
      "2 8\n",
      "Orakzai tribal B-geo O\n",
      "2 15\n",
      "Taliban militants B-org O\n"
     ]
    },
    {
     "ename": "KeyboardInterrupt",
     "evalue": "ignored",
     "output_type": "error",
     "traceback": [
      "\u001b[0;31m---------------------------------------------------------------------------\u001b[0m",
      "\u001b[0;31mKeyboardInterrupt\u001b[0m                         Traceback (most recent call last)",
      "\u001b[0;32m<ipython-input-16-4dd99fd15de5>\u001b[0m in \u001b[0;36m<module>\u001b[0;34m()\u001b[0m\n\u001b[0;32m----> 1\u001b[0;31m \u001b[0mdataset_sampled\u001b[0m \u001b[0;34m=\u001b[0m \u001b[0mnerOversample\u001b[0m\u001b[0;34m(\u001b[0m\u001b[0mdataset_untuk_sample\u001b[0m\u001b[0;34m)\u001b[0m\u001b[0;34m\u001b[0m\u001b[0;34m\u001b[0m\u001b[0m\n\u001b[0m",
      "\u001b[0;32m<ipython-input-13-f82b32ed8bb3>\u001b[0m in \u001b[0;36mnerOversample\u001b[0;34m(dataset)\u001b[0m\n\u001b[1;32m     14\u001b[0m         \u001b[0mdataset\u001b[0m\u001b[0;34m.\u001b[0m\u001b[0mloc\u001b[0m\u001b[0;34m[\u001b[0m\u001b[0msentence\u001b[0m\u001b[0;34m,\u001b[0m \u001b[0;34m'Tag'\u001b[0m\u001b[0;34m]\u001b[0m\u001b[0;34m.\u001b[0m\u001b[0minsert\u001b[0m\u001b[0;34m(\u001b[0m\u001b[0mtag\u001b[0m\u001b[0;34m+\u001b[0m\u001b[0;36m1\u001b[0m\u001b[0;34m,\u001b[0m \u001b[0;34m'I-geo'\u001b[0m\u001b[0;34m)\u001b[0m\u001b[0;34m\u001b[0m\u001b[0;34m\u001b[0m\u001b[0m\n\u001b[1;32m     15\u001b[0m         \u001b[0mdataset\u001b[0m\u001b[0;34m.\u001b[0m\u001b[0mloc\u001b[0m\u001b[0;34m[\u001b[0m\u001b[0msentence\u001b[0m\u001b[0;34m,\u001b[0m \u001b[0;34m'Tag_idx'\u001b[0m\u001b[0;34m]\u001b[0m\u001b[0;34m.\u001b[0m\u001b[0minsert\u001b[0m\u001b[0;34m(\u001b[0m\u001b[0mtag\u001b[0m\u001b[0;34m+\u001b[0m\u001b[0;36m1\u001b[0m\u001b[0;34m,\u001b[0m \u001b[0mtag2idx\u001b[0m\u001b[0;34m.\u001b[0m\u001b[0mget\u001b[0m\u001b[0;34m(\u001b[0m\u001b[0;34m'I-geo'\u001b[0m\u001b[0;34m)\u001b[0m\u001b[0;34m)\u001b[0m\u001b[0;34m\u001b[0m\u001b[0;34m\u001b[0m\u001b[0m\n\u001b[0;32m---> 16\u001b[0;31m       \u001b[0;32melif\u001b[0m\u001b[0;34m(\u001b[0m\u001b[0;34m(\u001b[0m\u001b[0mdataset\u001b[0m\u001b[0;34m.\u001b[0m\u001b[0mloc\u001b[0m\u001b[0;34m[\u001b[0m\u001b[0msentence\u001b[0m\u001b[0;34m,\u001b[0m \u001b[0;34m'Tag'\u001b[0m\u001b[0;34m]\u001b[0m\u001b[0;34m[\u001b[0m\u001b[0mtag\u001b[0m\u001b[0;34m]\u001b[0m \u001b[0;34m==\u001b[0m \u001b[0;34m'B-org'\u001b[0m \u001b[0;32mand\u001b[0m \u001b[0mlast\u001b[0m \u001b[0;34m==\u001b[0m \u001b[0;32mTrue\u001b[0m\u001b[0;34m)\u001b[0m \u001b[0;32mor\u001b[0m \u001b[0;34m(\u001b[0m\u001b[0mdataset\u001b[0m\u001b[0;34m.\u001b[0m\u001b[0mloc\u001b[0m\u001b[0;34m[\u001b[0m\u001b[0msentence\u001b[0m\u001b[0;34m,\u001b[0m \u001b[0;34m'Tag'\u001b[0m\u001b[0;34m]\u001b[0m\u001b[0;34m[\u001b[0m\u001b[0mtag\u001b[0m\u001b[0;34m]\u001b[0m \u001b[0;34m==\u001b[0m \u001b[0;34m'B-org'\u001b[0m \u001b[0;32mand\u001b[0m \u001b[0mdataset\u001b[0m\u001b[0;34m.\u001b[0m\u001b[0mloc\u001b[0m\u001b[0;34m[\u001b[0m\u001b[0msentence\u001b[0m\u001b[0;34m,\u001b[0m \u001b[0;34m'Tag'\u001b[0m\u001b[0;34m]\u001b[0m\u001b[0;34m[\u001b[0m\u001b[0mtag\u001b[0m\u001b[0;34m+\u001b[0m\u001b[0;36m1\u001b[0m\u001b[0;34m]\u001b[0m \u001b[0;34m==\u001b[0m \u001b[0;34m'O'\u001b[0m\u001b[0;34m)\u001b[0m\u001b[0;34m)\u001b[0m\u001b[0;34m:\u001b[0m\u001b[0;34m\u001b[0m\u001b[0;34m\u001b[0m\u001b[0m\n\u001b[0m\u001b[1;32m     17\u001b[0m         \u001b[0;32mif\u001b[0m\u001b[0;34m(\u001b[0m\u001b[0mlast\u001b[0m\u001b[0;34m==\u001b[0m\u001b[0;32mFalse\u001b[0m\u001b[0;34m)\u001b[0m\u001b[0;34m:\u001b[0m\u001b[0;34m\u001b[0m\u001b[0;34m\u001b[0m\u001b[0m\n\u001b[1;32m     18\u001b[0m           \u001b[0mprint\u001b[0m\u001b[0;34m(\u001b[0m\u001b[0msentence\u001b[0m\u001b[0;34m,\u001b[0m \u001b[0mtag\u001b[0m\u001b[0;34m)\u001b[0m\u001b[0;34m\u001b[0m\u001b[0;34m\u001b[0m\u001b[0m\n",
      "\u001b[0;32m/usr/local/lib/python3.7/dist-packages/pandas/core/indexing.py\u001b[0m in \u001b[0;36m__getitem__\u001b[0;34m(self, key)\u001b[0m\n\u001b[1;32m    862\u001b[0m         \u001b[0;32mraise\u001b[0m \u001b[0mAbstractMethodError\u001b[0m\u001b[0;34m(\u001b[0m\u001b[0mself\u001b[0m\u001b[0;34m)\u001b[0m\u001b[0;34m\u001b[0m\u001b[0;34m\u001b[0m\u001b[0m\n\u001b[1;32m    863\u001b[0m \u001b[0;34m\u001b[0m\u001b[0m\n\u001b[0;32m--> 864\u001b[0;31m     \u001b[0;32mdef\u001b[0m \u001b[0m__getitem__\u001b[0m\u001b[0;34m(\u001b[0m\u001b[0mself\u001b[0m\u001b[0;34m,\u001b[0m \u001b[0mkey\u001b[0m\u001b[0;34m)\u001b[0m\u001b[0;34m:\u001b[0m\u001b[0;34m\u001b[0m\u001b[0;34m\u001b[0m\u001b[0m\n\u001b[0m\u001b[1;32m    865\u001b[0m         \u001b[0;32mif\u001b[0m \u001b[0mtype\u001b[0m\u001b[0;34m(\u001b[0m\u001b[0mkey\u001b[0m\u001b[0;34m)\u001b[0m \u001b[0;32mis\u001b[0m \u001b[0mtuple\u001b[0m\u001b[0;34m:\u001b[0m\u001b[0;34m\u001b[0m\u001b[0;34m\u001b[0m\u001b[0m\n\u001b[1;32m    866\u001b[0m             \u001b[0mkey\u001b[0m \u001b[0;34m=\u001b[0m \u001b[0mtuple\u001b[0m\u001b[0;34m(\u001b[0m\u001b[0mcom\u001b[0m\u001b[0;34m.\u001b[0m\u001b[0mapply_if_callable\u001b[0m\u001b[0;34m(\u001b[0m\u001b[0mx\u001b[0m\u001b[0;34m,\u001b[0m \u001b[0mself\u001b[0m\u001b[0;34m.\u001b[0m\u001b[0mobj\u001b[0m\u001b[0;34m)\u001b[0m \u001b[0;32mfor\u001b[0m \u001b[0mx\u001b[0m \u001b[0;32min\u001b[0m \u001b[0mkey\u001b[0m\u001b[0;34m)\u001b[0m\u001b[0;34m\u001b[0m\u001b[0;34m\u001b[0m\u001b[0m\n",
      "\u001b[0;31mKeyboardInterrupt\u001b[0m: "
     ]
    }
   ],
   "source": [
    "dataset_sampled = nerOversample(dataset_untuk_sample)"
   ]
  },
  {
   "cell_type": "code",
   "execution_count": null,
   "metadata": {
    "id": "oYg6wB8ECvT1"
   },
   "outputs": [],
   "source": [
    "dataset_sampled"
   ]
  },
  {
   "cell_type": "markdown",
   "metadata": {
    "id": "NbOqc9VcDGc1"
   },
   "source": [
    "Kembalikan dataframe untuk melihat hasil oversampling"
   ]
  },
  {
   "cell_type": "code",
   "execution_count": null,
   "metadata": {
    "id": "1_OMxFRhDJlt"
   },
   "outputs": [],
   "source": [
    "def buildDataFrame(groupedData):\n",
    "  word_list = []\n",
    "  tag_list = []\n",
    "  sentence_list = []\n",
    "  word_idx = []\n",
    "  tag_idx = []\n",
    "  for sentence in range(0, groupedData.shape[0]):\n",
    "    sentence_array = [groupedData.loc[sentence, 'Sentence #']] * len(groupedData.loc[sentence, 'Word'])\n",
    "    sentence_list = sentence_list + sentence_array\n",
    "    word_list = word_list + groupedData.loc[sentence, 'Word']\n",
    "    tag_list = tag_list + groupedData.loc[sentence, 'Tag']\n",
    "    word_idx = tag_list + groupedData.loc[sentence, 'Word_idx']\n",
    "    tag_idx = tag_list + groupedData.loc[sentence, 'Tag_idx']\n",
    "\n",
    "    # print(sentence_list, word_list, tag_list)\n",
    "  dataFrame = pd.DataFrame({'Sentence #': sentence_list, 'Word': word_list, 'Tag': tag_list, 'Word_idx': word_idx, 'Tag_idx': tag_idx})\n",
    "  # return sentence_list, word_list, tag_list\n",
    "  return dataFrame"
   ]
  },
  {
   "cell_type": "code",
   "execution_count": null,
   "metadata": {
    "id": "h-c2z6LtDm3o"
   },
   "outputs": [],
   "source": [
    "train_df_after_sampling =  buildDataFrame(dataset_sampled)"
   ]
  },
  {
   "cell_type": "code",
   "execution_count": null,
   "metadata": {
    "id": "-ky16p2ND1zP"
   },
   "outputs": [],
   "source": [
    "train_df_after_sampling[\"Tag\"].value_counts()"
   ]
  },
  {
   "cell_type": "code",
   "execution_count": null,
   "metadata": {
    "id": "PM4eObS2EL8e"
   },
   "outputs": [],
   "source": [
    "train_df_after_sampling.to_csv('/content/drive/MyDrive/Colab Notebooks/FP-KK/dataset/train_nerOversampled.csv')"
   ]
  }
 ],
 "metadata": {
  "colab": {
   "collapsed_sections": [],
   "name": "Oversampling.ipynb",
   "provenance": []
  },
  "kernelspec": {
   "display_name": "Python 3 (ipykernel)",
   "language": "python",
   "name": "python3"
  },
  "language_info": {
   "codemirror_mode": {
    "name": "ipython",
    "version": 3
   },
   "file_extension": ".py",
   "mimetype": "text/x-python",
   "name": "python",
   "nbconvert_exporter": "python",
   "pygments_lexer": "ipython3",
   "version": "3.8.12"
  }
 },
 "nbformat": 4,
 "nbformat_minor": 1
}
