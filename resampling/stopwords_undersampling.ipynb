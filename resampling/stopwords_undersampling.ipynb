{
  "nbformat": 4,
  "nbformat_minor": 0,
  "metadata": {
    "colab": {
      "name": "stopwords_undersampling.ipynb",
      "provenance": []
    },
    "kernelspec": {
      "name": "python3",
      "display_name": "Python 3"
    },
    "language_info": {
      "name": "python"
    }
  },
  "cells": [
    {
      "cell_type": "code",
      "execution_count": 1,
      "metadata": {
        "id": "ZV420pT0bVc7"
      },
      "outputs": [],
      "source": [
        "import tensorflow as tf\n",
        "import pandas as pd\n",
        "import numpy as np"
      ]
    },
    {
      "cell_type": "code",
      "source": [
        "from google.colab import drive\n",
        "drive.mount('/content/drive')"
      ],
      "metadata": {
        "colab": {
          "base_uri": "https://localhost:8080/"
        },
        "id": "OrN0Vc2fcI6U",
        "outputId": "4dde4a85-f171-4547-9b93-caa43e58d727"
      },
      "execution_count": 2,
      "outputs": [
        {
          "output_type": "stream",
          "name": "stdout",
          "text": [
            "Drive already mounted at /content/drive; to attempt to forcibly remount, call drive.mount(\"/content/drive\", force_remount=True).\n"
          ]
        }
      ]
    },
    {
      "cell_type": "code",
      "source": [
        "dataset_path = '/content/drive/MyDrive/Colab Notebooks/FP-KK/dataset/train_baseline.csv'\n",
        "dataset = pd.read_csv(dataset_path, encoding= 'unicode_escape')\n",
        "dataset.shape"
      ],
      "metadata": {
        "colab": {
          "base_uri": "https://localhost:8080/"
        },
        "id": "m_LieiSkcOdC",
        "outputId": "51d4ef8c-8994-4d9a-dd90-f4dd38b36f5e"
      },
      "execution_count": 3,
      "outputs": [
        {
          "output_type": "execute_result",
          "data": {
            "text/plain": [
              "(839815, 6)"
            ]
          },
          "metadata": {},
          "execution_count": 3
        }
      ]
    },
    {
      "cell_type": "code",
      "source": [
        "dataset.drop(['Unnamed: 0'], inplace=True, axis=1)\n",
        "dataset"
      ],
      "metadata": {
        "colab": {
          "base_uri": "https://localhost:8080/",
          "height": 424
        },
        "id": "wSsxGSZscSdH",
        "outputId": "c4406532-efe2-4ca2-b081-f1a5bef0a6a9"
      },
      "execution_count": 4,
      "outputs": [
        {
          "output_type": "execute_result",
          "data": {
            "text/html": [
              "<div>\n",
              "<style scoped>\n",
              "    .dataframe tbody tr th:only-of-type {\n",
              "        vertical-align: middle;\n",
              "    }\n",
              "\n",
              "    .dataframe tbody tr th {\n",
              "        vertical-align: top;\n",
              "    }\n",
              "\n",
              "    .dataframe thead th {\n",
              "        text-align: right;\n",
              "    }\n",
              "</style>\n",
              "<table border=\"1\" class=\"dataframe\">\n",
              "  <thead>\n",
              "    <tr style=\"text-align: right;\">\n",
              "      <th></th>\n",
              "      <th>Sentence #</th>\n",
              "      <th>Word</th>\n",
              "      <th>Tag</th>\n",
              "      <th>Word_idx</th>\n",
              "      <th>Tag_idx</th>\n",
              "    </tr>\n",
              "  </thead>\n",
              "  <tbody>\n",
              "    <tr>\n",
              "      <th>0</th>\n",
              "      <td>Sentence: 1</td>\n",
              "      <td>Thousands</td>\n",
              "      <td>O</td>\n",
              "      <td>28285</td>\n",
              "      <td>14</td>\n",
              "    </tr>\n",
              "    <tr>\n",
              "      <th>1</th>\n",
              "      <td>Sentence: 1</td>\n",
              "      <td>of</td>\n",
              "      <td>O</td>\n",
              "      <td>15741</td>\n",
              "      <td>14</td>\n",
              "    </tr>\n",
              "    <tr>\n",
              "      <th>2</th>\n",
              "      <td>Sentence: 1</td>\n",
              "      <td>demonstrators</td>\n",
              "      <td>O</td>\n",
              "      <td>1523</td>\n",
              "      <td>14</td>\n",
              "    </tr>\n",
              "    <tr>\n",
              "      <th>3</th>\n",
              "      <td>Sentence: 1</td>\n",
              "      <td>have</td>\n",
              "      <td>O</td>\n",
              "      <td>367</td>\n",
              "      <td>14</td>\n",
              "    </tr>\n",
              "    <tr>\n",
              "      <th>4</th>\n",
              "      <td>Sentence: 1</td>\n",
              "      <td>marched</td>\n",
              "      <td>O</td>\n",
              "      <td>13632</td>\n",
              "      <td>14</td>\n",
              "    </tr>\n",
              "    <tr>\n",
              "      <th>...</th>\n",
              "      <td>...</td>\n",
              "      <td>...</td>\n",
              "      <td>...</td>\n",
              "      <td>...</td>\n",
              "      <td>...</td>\n",
              "    </tr>\n",
              "    <tr>\n",
              "      <th>839810</th>\n",
              "      <td>Sentence: 44529</td>\n",
              "      <td>as</td>\n",
              "      <td>O</td>\n",
              "      <td>21619</td>\n",
              "      <td>14</td>\n",
              "    </tr>\n",
              "    <tr>\n",
              "      <th>839811</th>\n",
              "      <td>Sentence: 44529</td>\n",
              "      <td>alternatives</td>\n",
              "      <td>O</td>\n",
              "      <td>21279</td>\n",
              "      <td>14</td>\n",
              "    </tr>\n",
              "    <tr>\n",
              "      <th>839812</th>\n",
              "      <td>Sentence: 44529</td>\n",
              "      <td>to</td>\n",
              "      <td>O</td>\n",
              "      <td>34610</td>\n",
              "      <td>14</td>\n",
              "    </tr>\n",
              "    <tr>\n",
              "      <th>839813</th>\n",
              "      <td>Sentence: 44529</td>\n",
              "      <td>oil</td>\n",
              "      <td>O</td>\n",
              "      <td>23416</td>\n",
              "      <td>14</td>\n",
              "    </tr>\n",
              "    <tr>\n",
              "      <th>839814</th>\n",
              "      <td>Sentence: 44529</td>\n",
              "      <td>.</td>\n",
              "      <td>O</td>\n",
              "      <td>13264</td>\n",
              "      <td>14</td>\n",
              "    </tr>\n",
              "  </tbody>\n",
              "</table>\n",
              "<p>839815 rows × 5 columns</p>\n",
              "</div>"
            ],
            "text/plain": [
              "             Sentence #           Word Tag  Word_idx  Tag_idx\n",
              "0           Sentence: 1      Thousands   O     28285       14\n",
              "1           Sentence: 1             of   O     15741       14\n",
              "2           Sentence: 1  demonstrators   O      1523       14\n",
              "3           Sentence: 1           have   O       367       14\n",
              "4           Sentence: 1        marched   O     13632       14\n",
              "...                 ...            ...  ..       ...      ...\n",
              "839810  Sentence: 44529             as   O     21619       14\n",
              "839811  Sentence: 44529   alternatives   O     21279       14\n",
              "839812  Sentence: 44529             to   O     34610       14\n",
              "839813  Sentence: 44529            oil   O     23416       14\n",
              "839814  Sentence: 44529              .   O     13264       14\n",
              "\n",
              "[839815 rows x 5 columns]"
            ]
          },
          "metadata": {},
          "execution_count": 4
        }
      ]
    },
    {
      "cell_type": "code",
      "source": [
        "dataset[\"Tag\"].value_counts()"
      ],
      "metadata": {
        "colab": {
          "base_uri": "https://localhost:8080/"
        },
        "id": "mZ4D2BttcUc0",
        "outputId": "c69fb7c2-4592-4ec9-fc27-c54a35cbae83"
      },
      "execution_count": 5,
      "outputs": [
        {
          "output_type": "execute_result",
          "data": {
            "text/plain": [
              "O        711029\n",
              "B-geo     30162\n",
              "B-tim     16251\n",
              "B-org     16125\n",
              "I-per     13917\n",
              "B-per     13667\n",
              "I-org     13583\n",
              "B-gpe     12492\n",
              "I-geo      5959\n",
              "I-tim      5269\n",
              "B-art       319\n",
              "I-art       252\n",
              "B-eve       240\n",
              "I-eve       200\n",
              "B-nat       162\n",
              "I-gpe       154\n",
              "I-nat        34\n",
              "Name: Tag, dtype: int64"
            ]
          },
          "metadata": {},
          "execution_count": 5
        }
      ]
    },
    {
      "cell_type": "code",
      "source": [
        "import matplotlib.pyplot as plt\n",
        "import seaborn as sns\n",
        "\n",
        "plt.figure(figsize = (16,8))\n",
        "sns.set_style('darkgrid')\n",
        "sns.histplot(dataset['Tag'])\n",
        "plt.tight_layout(pad=2)\n",
        "plt.show()"
      ],
      "metadata": {
        "colab": {
          "base_uri": "https://localhost:8080/",
          "height": 567
        },
        "id": "XdkXdyOhcWoX",
        "outputId": "24dfbfd8-760c-4d7c-c90b-18afe769223c"
      },
      "execution_count": 6,
      "outputs": [
        {
          "output_type": "display_data",
          "data": {
            "image/png": "[encoded data removed]",
            "text/plain": [
              "<Figure size 1152x576 with 1 Axes>"
            ]
          },
          "metadata": {
            "needs_background": "light"
          }
        }
      ]
    },
    {
      "cell_type": "code",
      "source": [
        "dataset_fillna = dataset.fillna(method='ffill', axis=0)\n",
        "dataset_group = dataset_fillna.groupby(['Sentence #'], as_index=False)['Word', 'Tag', 'Word_idx', 'Tag_idx'].agg(lambda x: list(x))"
      ],
      "metadata": {
        "colab": {
          "base_uri": "https://localhost:8080/"
        },
        "id": "UqPzAnNIcaaR",
        "outputId": "c3f25be5-8325-4f29-a057-6f2cc725c931"
      },
      "execution_count": 7,
      "outputs": [
        {
          "output_type": "stream",
          "name": "stderr",
          "text": [
            "/usr/local/lib/python3.7/dist-packages/ipykernel_launcher.py:2: FutureWarning: Indexing with multiple keys (implicitly converted to a tuple of keys) will be deprecated, use a list instead.\n",
            "  \n"
          ]
        }
      ]
    },
    {
      "cell_type": "code",
      "source": [
        "dataset_group"
      ],
      "metadata": {
        "colab": {
          "base_uri": "https://localhost:8080/",
          "height": 424
        },
        "id": "4x9NYF1ncdYS",
        "outputId": "5c37c196-8225-46c0-86de-e2cb418d1360"
      },
      "execution_count": 8,
      "outputs": [
        {
          "output_type": "execute_result",
          "data": {
            "text/html": [
              "<div>\n",
              "<style scoped>\n",
              "    .dataframe tbody tr th:only-of-type {\n",
              "        vertical-align: middle;\n",
              "    }\n",
              "\n",
              "    .dataframe tbody tr th {\n",
              "        vertical-align: top;\n",
              "    }\n",
              "\n",
              "    .dataframe thead th {\n",
              "        text-align: right;\n",
              "    }\n",
              "</style>\n",
              "<table border=\"1\" class=\"dataframe\">\n",
              "  <thead>\n",
              "    <tr style=\"text-align: right;\">\n",
              "      <th></th>\n",
              "      <th>Sentence #</th>\n",
              "      <th>Word</th>\n",
              "      <th>Tag</th>\n",
              "      <th>Word_idx</th>\n",
              "      <th>Tag_idx</th>\n",
              "    </tr>\n",
              "  </thead>\n",
              "  <tbody>\n",
              "    <tr>\n",
              "      <th>0</th>\n",
              "      <td>Sentence: 1</td>\n",
              "      <td>[Thousands, of, demonstrators, have, marched, ...</td>\n",
              "      <td>[O, O, O, O, O, O, B-geo, O, O, O, O, O, B-geo...</td>\n",
              "      <td>[28285, 15741, 1523, 367, 13632, 7168, 25967, ...</td>\n",
              "      <td>[14, 14, 14, 14, 14, 14, 6, 14, 14, 14, 14, 14...</td>\n",
              "    </tr>\n",
              "    <tr>\n",
              "      <th>1</th>\n",
              "      <td>Sentence: 10</td>\n",
              "      <td>[Iranian, officials, say, they, expect, to, ge...</td>\n",
              "      <td>[B-gpe, O, O, O, O, O, O, O, O, O, O, O, O, O,...</td>\n",
              "      <td>[34424, 1990, 32928, 9794, 31792, 34610, 15641...</td>\n",
              "      <td>[7, 14, 14, 14, 14, 14, 14, 14, 14, 14, 14, 14...</td>\n",
              "    </tr>\n",
              "    <tr>\n",
              "      <th>2</th>\n",
              "      <td>Sentence: 100</td>\n",
              "      <td>[Helicopter, gunships, Saturday, pounded, mili...</td>\n",
              "      <td>[O, O, B-tim, O, O, O, O, O, B-geo, O, O, O, O...</td>\n",
              "      <td>[28347, 29190, 19208, 2838, 24041, 26531, 7258...</td>\n",
              "      <td>[14, 14, 16, 14, 14, 14, 14, 14, 6, 14, 14, 14...</td>\n",
              "    </tr>\n",
              "    <tr>\n",
              "      <th>3</th>\n",
              "      <td>Sentence: 1000</td>\n",
              "      <td>[They, left, after, a, tense, hour-long, stand...</td>\n",
              "      <td>[O, O, O, O, O, O, O, O, O, O, O]</td>\n",
              "      <td>[4139, 30932, 1336, 28550, 18536, 21258, 26975...</td>\n",
              "      <td>[14, 14, 14, 14, 14, 14, 14, 14, 14, 14, 14]</td>\n",
              "    </tr>\n",
              "    <tr>\n",
              "      <th>4</th>\n",
              "      <td>Sentence: 10000</td>\n",
              "      <td>[U.N., relief, coordinator, Jan, Egeland, said...</td>\n",
              "      <td>[B-geo, O, O, B-per, I-per, O, B-tim, O, B-geo...</td>\n",
              "      <td>[30896, 25325, 14734, 12754, 18505, 433, 7325,...</td>\n",
              "      <td>[6, 14, 14, 4, 5, 14, 16, 14, 6, 14, 7, 14, 7,...</td>\n",
              "    </tr>\n",
              "    <tr>\n",
              "      <th>...</th>\n",
              "      <td>...</td>\n",
              "      <td>...</td>\n",
              "      <td>...</td>\n",
              "      <td>...</td>\n",
              "      <td>...</td>\n",
              "    </tr>\n",
              "    <tr>\n",
              "      <th>38363</th>\n",
              "      <td>Sentence: 44525</td>\n",
              "      <td>[President, Bush, called, on, the, United, Sta...</td>\n",
              "      <td>[B-per, I-per, O, O, O, B-geo, I-geo, O, O, O,...</td>\n",
              "      <td>[344, 19638, 28590, 29279, 3894, 18510, 6565, ...</td>\n",
              "      <td>[4, 5, 14, 14, 14, 6, 0, 14, 14, 14, 14, 14, 1...</td>\n",
              "    </tr>\n",
              "    <tr>\n",
              "      <th>38364</th>\n",
              "      <td>Sentence: 44526</td>\n",
              "      <td>[Mr., Bush, said, dependence, on, foreign, sou...</td>\n",
              "      <td>[B-per, I-per, O, O, O, O, O, O, O, O, B-geo, ...</td>\n",
              "      <td>[188, 19638, 433, 7527, 29279, 11236, 5495, 15...</td>\n",
              "      <td>[4, 5, 14, 14, 14, 14, 14, 14, 14, 14, 6, 14, ...</td>\n",
              "    </tr>\n",
              "    <tr>\n",
              "      <th>38365</th>\n",
              "      <td>Sentence: 44527</td>\n",
              "      <td>[The, president, called, for, reducing, gasoli...</td>\n",
              "      <td>[O, O, O, O, O, O, O, O, O, B-geo, O, O, O, B-...</td>\n",
              "      <td>[20005, 3610, 28590, 12209, 28521, 30306, 3119...</td>\n",
              "      <td>[14, 14, 14, 14, 14, 14, 14, 14, 14, 6, 14, 14...</td>\n",
              "    </tr>\n",
              "    <tr>\n",
              "      <th>38366</th>\n",
              "      <td>Sentence: 44528</td>\n",
              "      <td>[He, said, the, goal, can, be, met, by, increa...</td>\n",
              "      <td>[O, O, O, O, O, O, O, O, O, O, O, O, O, O, O, ...</td>\n",
              "      <td>[22908, 433, 3894, 32462, 14067, 26107, 19184,...</td>\n",
              "      <td>[14, 14, 14, 14, 14, 14, 14, 14, 14, 14, 14, 1...</td>\n",
              "    </tr>\n",
              "    <tr>\n",
              "      <th>38367</th>\n",
              "      <td>Sentence: 44529</td>\n",
              "      <td>[Mr., Bush, also, called, for, greater, use, o...</td>\n",
              "      <td>[B-per, I-per, O, O, O, O, O, O, O, O, O, O, O...</td>\n",
              "      <td>[188, 19638, 33726, 28590, 12209, 32992, 390, ...</td>\n",
              "      <td>[4, 5, 14, 14, 14, 14, 14, 14, 14, 14, 14, 14,...</td>\n",
              "    </tr>\n",
              "  </tbody>\n",
              "</table>\n",
              "<p>38368 rows × 5 columns</p>\n",
              "</div>"
            ],
            "text/plain": [
              "            Sentence #  ...                                            Tag_idx\n",
              "0          Sentence: 1  ...  [14, 14, 14, 14, 14, 14, 6, 14, 14, 14, 14, 14...\n",
              "1         Sentence: 10  ...  [7, 14, 14, 14, 14, 14, 14, 14, 14, 14, 14, 14...\n",
              "2        Sentence: 100  ...  [14, 14, 16, 14, 14, 14, 14, 14, 6, 14, 14, 14...\n",
              "3       Sentence: 1000  ...       [14, 14, 14, 14, 14, 14, 14, 14, 14, 14, 14]\n",
              "4      Sentence: 10000  ...  [6, 14, 14, 4, 5, 14, 16, 14, 6, 14, 7, 14, 7,...\n",
              "...                ...  ...                                                ...\n",
              "38363  Sentence: 44525  ...  [4, 5, 14, 14, 14, 6, 0, 14, 14, 14, 14, 14, 1...\n",
              "38364  Sentence: 44526  ...  [4, 5, 14, 14, 14, 14, 14, 14, 14, 14, 6, 14, ...\n",
              "38365  Sentence: 44527  ...  [14, 14, 14, 14, 14, 14, 14, 14, 14, 6, 14, 14...\n",
              "38366  Sentence: 44528  ...  [14, 14, 14, 14, 14, 14, 14, 14, 14, 14, 14, 1...\n",
              "38367  Sentence: 44529  ...  [4, 5, 14, 14, 14, 14, 14, 14, 14, 14, 14, 14,...\n",
              "\n",
              "[38368 rows x 5 columns]"
            ]
          },
          "metadata": {},
          "execution_count": 8
        }
      ]
    },
    {
      "cell_type": "markdown",
      "source": [
        "Selanjutnya akan dilakukan stopwords removal. Pada konteks NER, hal ini termasuk proses undersampling, yaitu mengeliminasi stopwords yang diasumsikan merupakan kelas negatif yang dominan, yaitu token dengan tag O"
      ],
      "metadata": {
        "id": "gpPV9ex0ck0U"
      }
    },
    {
      "cell_type": "code",
      "source": [
        "import nltk\n",
        "from nltk.corpus import stopwords\n",
        "nltk.download('stopwords')\n",
        "stop_words = list(set(stopwords.words('english')))"
      ],
      "metadata": {
        "colab": {
          "base_uri": "https://localhost:8080/"
        },
        "id": "8c_Qp-qxcyTz",
        "outputId": "9789d965-6cb6-47e7-9958-852db0da0cec"
      },
      "execution_count": 9,
      "outputs": [
        {
          "output_type": "stream",
          "name": "stdout",
          "text": [
            "[nltk_data] Downloading package stopwords to /root/nltk_data...\n",
            "[nltk_data]   Package stopwords is already up-to-date!\n"
          ]
        }
      ]
    },
    {
      "cell_type": "code",
      "source": [
        "print(stop_words)"
      ],
      "metadata": {
        "colab": {
          "base_uri": "https://localhost:8080/"
        },
        "id": "MREzXBZLc1TM",
        "outputId": "79549cbc-dbf4-4a3d-dc86-08e17224f27e"
      },
      "execution_count": 10,
      "outputs": [
        {
          "output_type": "stream",
          "name": "stdout",
          "text": [
            "['was', \"mustn't\", 'to', 'that', 'no', 'yours', 'more', \"haven't\", \"isn't\", 'having', 'had', \"couldn't\", 'mightn', 'off', 'down', 'now', 'them', 'same', 'those', 'further', 'doing', 'has', 've', 'where', 'shouldn', \"shan't\", 'should', 'against', 'which', 'because', 'her', 'during', 'there', 'she', 'other', 'only', 'his', 'they', 'our', \"don't\", 'needn', 'the', 'were', 'just', \"aren't\", 'he', \"she's\", \"hadn't\", 'such', 'hasn', \"wasn't\", 'isn', 'll', 'does', 'it', 'did', \"won't\", \"you're\", 'from', 'both', 're', 't', 'then', \"needn't\", 'wasn', 'you', \"you've\", 'an', 'this', 'and', 'ma', \"it's\", 'nor', 'aren', 'me', 'him', \"doesn't\", 'for', 'how', 'haven', 'any', 'shan', 'ain', \"you'll\", 'its', \"that'll\", 'than', 'too', \"weren't\", 'once', 'itself', 'in', 'couldn', 'have', 'will', 'if', 'few', \"shouldn't\", 'whom', 'themselves', 'when', 'ourselves', 'over', 'between', 'through', 'some', \"you'd\", 'wouldn', 'don', 'what', 'very', 'didn', 'd', 'ours', 'himself', 'so', 'm', 'o', 'hadn', 'with', 'am', 'again', 'about', 'herself', 'these', 'i', 'up', 'on', 'is', 'of', \"wouldn't\", 'while', 'doesn', 'most', 'under', 'but', 'or', 'own', 'after', 'who', 'my', 'out', 's', 'mustn', 'above', 'yourself', 'why', 'a', 'into', 'by', 'can', \"hasn't\", 'each', 'been', 'until', 'weren', 'theirs', 'before', 'we', 'not', \"mightn't\", 'yourselves', \"didn't\", 'below', 'won', 'do', 'all', 'y', 'myself', 'their', 'your', 'as', \"should've\", 'here', 'are', 'being', 'at', 'be', 'hers']\n"
          ]
        }
      ]
    },
    {
      "cell_type": "code",
      "source": [
        "def removeStopWord(dataset):\n",
        "  for sentence_idx in range(0, dataset.shape[0]):\n",
        "    stop_word_idx = []\n",
        "    for word_idx in range(0, len(dataset.loc[sentence_idx, 'Word'])):\n",
        "      if (dataset.loc[sentence_idx, 'Word'][word_idx] in stop_words):\n",
        "        stop_word_idx.append(word_idx)\n",
        "    \n",
        "    for index in sorted(stop_word_idx, reverse=True):\n",
        "      dataset.loc[sentence_idx, 'Word'].pop(index)\n",
        "      dataset.loc[sentence_idx, 'Tag'].pop(index)\n",
        "      dataset.loc[sentence_idx, 'Word_idx'].pop(index)\n",
        "      dataset.loc[sentence_idx, 'Tag_idx'].pop(index)\n",
        "  return dataset"
      ],
      "metadata": {
        "id": "iRTxNMf-c8X6"
      },
      "execution_count": 11,
      "outputs": []
    },
    {
      "cell_type": "code",
      "source": [
        "dataset_backup = dataset_group.copy()"
      ],
      "metadata": {
        "id": "8TgXn7YhdGhX"
      },
      "execution_count": 12,
      "outputs": []
    },
    {
      "cell_type": "code",
      "source": [
        "dataset_for_stopword_removal = dataset_group.copy()"
      ],
      "metadata": {
        "id": "xBBcUFITdIDQ"
      },
      "execution_count": 13,
      "outputs": []
    },
    {
      "cell_type": "code",
      "source": [
        "dataset_stopwords_removed = removeStopWord(dataset_for_stopword_removal)"
      ],
      "metadata": {
        "id": "NRcu5sjsdJ4u"
      },
      "execution_count": 14,
      "outputs": []
    },
    {
      "cell_type": "code",
      "source": [
        "dataset_stopwords_removed"
      ],
      "metadata": {
        "colab": {
          "base_uri": "https://localhost:8080/",
          "height": 424
        },
        "id": "AYFWshOsdslN",
        "outputId": "b0c852a2-63e4-472d-acc5-43273c556d97"
      },
      "execution_count": 15,
      "outputs": [
        {
          "output_type": "execute_result",
          "data": {
            "text/html": [
              "<div>\n",
              "<style scoped>\n",
              "    .dataframe tbody tr th:only-of-type {\n",
              "        vertical-align: middle;\n",
              "    }\n",
              "\n",
              "    .dataframe tbody tr th {\n",
              "        vertical-align: top;\n",
              "    }\n",
              "\n",
              "    .dataframe thead th {\n",
              "        text-align: right;\n",
              "    }\n",
              "</style>\n",
              "<table border=\"1\" class=\"dataframe\">\n",
              "  <thead>\n",
              "    <tr style=\"text-align: right;\">\n",
              "      <th></th>\n",
              "      <th>Sentence #</th>\n",
              "      <th>Word</th>\n",
              "      <th>Tag</th>\n",
              "      <th>Word_idx</th>\n",
              "      <th>Tag_idx</th>\n",
              "    </tr>\n",
              "  </thead>\n",
              "  <tbody>\n",
              "    <tr>\n",
              "      <th>0</th>\n",
              "      <td>Sentence: 1</td>\n",
              "      <td>[Thousands, demonstrators, marched, London, pr...</td>\n",
              "      <td>[O, O, O, B-geo, O, O, B-geo, O, O, B-gpe, O, ...</td>\n",
              "      <td>[28285, 1523, 13632, 25967, 18998, 10476, 4183...</td>\n",
              "      <td>[14, 14, 14, 6, 14, 14, 6, 14, 14, 7, 14, 14, 14]</td>\n",
              "    </tr>\n",
              "    <tr>\n",
              "      <th>1</th>\n",
              "      <td>Sentence: 10</td>\n",
              "      <td>[Iranian, officials, say, expect, get, access,...</td>\n",
              "      <td>[B-gpe, O, O, O, O, O, O, O, O, O, B-tim, O, B...</td>\n",
              "      <td>[34424, 1990, 32928, 31792, 15641, 10244, 7760...</td>\n",
              "      <td>[7, 14, 14, 14, 14, 14, 14, 14, 14, 14, 16, 14...</td>\n",
              "    </tr>\n",
              "    <tr>\n",
              "      <th>2</th>\n",
              "      <td>Sentence: 100</td>\n",
              "      <td>[Helicopter, gunships, Saturday, pounded, mili...</td>\n",
              "      <td>[O, O, B-tim, O, O, O, B-geo, O, O, O, O, B-or...</td>\n",
              "      <td>[28347, 29190, 19208, 2838, 24041, 26531, 4722...</td>\n",
              "      <td>[14, 14, 16, 14, 14, 14, 6, 14, 14, 14, 14, 10...</td>\n",
              "    </tr>\n",
              "    <tr>\n",
              "      <th>3</th>\n",
              "      <td>Sentence: 1000</td>\n",
              "      <td>[They, left, tense, hour-long, standoff, riot,...</td>\n",
              "      <td>[O, O, O, O, O, O, O, O]</td>\n",
              "      <td>[4139, 30932, 18536, 21258, 26975, 16894, 2241...</td>\n",
              "      <td>[14, 14, 14, 14, 14, 14, 14, 14]</td>\n",
              "    </tr>\n",
              "    <tr>\n",
              "      <th>4</th>\n",
              "      <td>Sentence: 10000</td>\n",
              "      <td>[U.N., relief, coordinator, Jan, Egeland, said...</td>\n",
              "      <td>[B-geo, O, O, B-per, I-per, O, B-tim, O, B-geo...</td>\n",
              "      <td>[30896, 25325, 14734, 12754, 18505, 433, 7325,...</td>\n",
              "      <td>[6, 14, 14, 4, 5, 14, 16, 14, 6, 14, 7, 7, 14,...</td>\n",
              "    </tr>\n",
              "    <tr>\n",
              "      <th>...</th>\n",
              "      <td>...</td>\n",
              "      <td>...</td>\n",
              "      <td>...</td>\n",
              "      <td>...</td>\n",
              "      <td>...</td>\n",
              "    </tr>\n",
              "    <tr>\n",
              "      <th>38363</th>\n",
              "      <td>Sentence: 44525</td>\n",
              "      <td>[President, Bush, called, United, States, dive...</td>\n",
              "      <td>[B-per, I-per, O, B-geo, I-geo, O, O, O, O, O,...</td>\n",
              "      <td>[344, 19638, 28590, 18510, 6565, 8393, 5495, 1...</td>\n",
              "      <td>[4, 5, 14, 6, 0, 14, 14, 14, 14, 14, 10, 14, 14]</td>\n",
              "    </tr>\n",
              "    <tr>\n",
              "      <th>38364</th>\n",
              "      <td>Sentence: 44526</td>\n",
              "      <td>[Mr., Bush, said, dependence, foreign, sources...</td>\n",
              "      <td>[B-per, I-per, O, O, O, O, O, O, B-geo, O, O, ...</td>\n",
              "      <td>[188, 19638, 433, 7527, 11236, 5495, 23416, 11...</td>\n",
              "      <td>[4, 5, 14, 14, 14, 14, 14, 14, 6, 14, 14, 14, ...</td>\n",
              "    </tr>\n",
              "    <tr>\n",
              "      <th>38365</th>\n",
              "      <td>Sentence: 44527</td>\n",
              "      <td>[The, president, called, reducing, gasoline, u...</td>\n",
              "      <td>[O, O, O, O, O, O, B-geo, O, O, O, B-tim, O]</td>\n",
              "      <td>[20005, 3610, 28590, 28521, 30306, 31192, 2250...</td>\n",
              "      <td>[14, 14, 14, 14, 14, 14, 6, 14, 14, 14, 16, 14]</td>\n",
              "    </tr>\n",
              "    <tr>\n",
              "      <th>38366</th>\n",
              "      <td>Sentence: 44528</td>\n",
              "      <td>[He, said, goal, met, increasing, supply, rene...</td>\n",
              "      <td>[O, O, O, O, O, O, O, O, O, O, O, O, O, O, O]</td>\n",
              "      <td>[22908, 433, 32462, 19184, 16073, 20284, 405, ...</td>\n",
              "      <td>[14, 14, 14, 14, 14, 14, 14, 14, 14, 14, 14, 1...</td>\n",
              "    </tr>\n",
              "    <tr>\n",
              "      <th>38367</th>\n",
              "      <td>Sentence: 44529</td>\n",
              "      <td>[Mr., Bush, also, called, greater, use, clean,...</td>\n",
              "      <td>[B-per, I-per, O, O, O, O, O, O, O, O, O, O, O...</td>\n",
              "      <td>[188, 19638, 33726, 28590, 32992, 390, 12067, ...</td>\n",
              "      <td>[4, 5, 14, 14, 14, 14, 14, 14, 14, 14, 14, 14,...</td>\n",
              "    </tr>\n",
              "  </tbody>\n",
              "</table>\n",
              "<p>38368 rows × 5 columns</p>\n",
              "</div>"
            ],
            "text/plain": [
              "            Sentence #  ...                                            Tag_idx\n",
              "0          Sentence: 1  ...  [14, 14, 14, 6, 14, 14, 6, 14, 14, 7, 14, 14, 14]\n",
              "1         Sentence: 10  ...  [7, 14, 14, 14, 14, 14, 14, 14, 14, 14, 16, 14...\n",
              "2        Sentence: 100  ...  [14, 14, 16, 14, 14, 14, 6, 14, 14, 14, 14, 10...\n",
              "3       Sentence: 1000  ...                   [14, 14, 14, 14, 14, 14, 14, 14]\n",
              "4      Sentence: 10000  ...  [6, 14, 14, 4, 5, 14, 16, 14, 6, 14, 7, 7, 14,...\n",
              "...                ...  ...                                                ...\n",
              "38363  Sentence: 44525  ...   [4, 5, 14, 6, 0, 14, 14, 14, 14, 14, 10, 14, 14]\n",
              "38364  Sentence: 44526  ...  [4, 5, 14, 14, 14, 14, 14, 14, 6, 14, 14, 14, ...\n",
              "38365  Sentence: 44527  ...    [14, 14, 14, 14, 14, 14, 6, 14, 14, 14, 16, 14]\n",
              "38366  Sentence: 44528  ...  [14, 14, 14, 14, 14, 14, 14, 14, 14, 14, 14, 1...\n",
              "38367  Sentence: 44529  ...  [4, 5, 14, 14, 14, 14, 14, 14, 14, 14, 14, 14,...\n",
              "\n",
              "[38368 rows x 5 columns]"
            ]
          },
          "metadata": {},
          "execution_count": 15
        }
      ]
    },
    {
      "cell_type": "code",
      "source": [
        "dataset_stopwords_removed_backup = dataset_stopwords_removed.copy()"
      ],
      "metadata": {
        "id": "eIWhwJIrdzkw"
      },
      "execution_count": 16,
      "outputs": []
    },
    {
      "cell_type": "code",
      "source": [
        "def buildDataFrame(groupedData):\n",
        "  word_list = []\n",
        "  tag_list = []\n",
        "  sentence_list = []\n",
        "  word_idx = []\n",
        "  tag_idx = []\n",
        "  for sentence in range(0, groupedData.shape[0]):\n",
        "    sentence_array = [groupedData.loc[sentence, 'Sentence #']] * len(groupedData.loc[sentence, 'Word'])\n",
        "    sentence_list = sentence_list + sentence_array\n",
        "    word_list = word_list + groupedData.loc[sentence, 'Word']\n",
        "    tag_list = tag_list + groupedData.loc[sentence, 'Tag']\n",
        "    word_idx = word_idx + groupedData.loc[sentence, 'Word_idx']\n",
        "    tag_idx = tag_idx + groupedData.loc[sentence, 'Tag_idx']\n",
        "    # print(sentence, len(sentence_list), len(word_list), len(tag_list), len(word_idx), len(tag_idx))\n",
        "    # dataFrameLoop = pd.DataFrame({'Sentence #': sentence_list, 'Word': word_list, 'Tag': tag_list, 'Word_idx': word_idx, 'Tag_idx': tag_idx})\n",
        "    # dataFrame = dataFrame.append([dataFrameLoop])\n",
        "    # print(sentence_list, word_list, tag_list)\n",
        "  dataFrame = pd.DataFrame({'Sentence #': sentence_list, 'Word': word_list, 'Tag': tag_list, 'Word_idx': word_idx, 'Tag_idx': tag_idx})\n",
        "  # return sentence_list, word_list, tag_list\n",
        "  return dataFrame"
      ],
      "metadata": {
        "id": "2lR425y8eAHW"
      },
      "execution_count": 17,
      "outputs": []
    },
    {
      "cell_type": "code",
      "source": [
        "train_df_after_sampling =  buildDataFrame(dataset_stopwords_removed)"
      ],
      "metadata": {
        "id": "RvwfOreWeJhO"
      },
      "execution_count": 18,
      "outputs": []
    },
    {
      "cell_type": "code",
      "source": [
        "train_df_after_sampling[\"Tag\"].value_counts()"
      ],
      "metadata": {
        "colab": {
          "base_uri": "https://localhost:8080/"
        },
        "id": "vvYTgm72ekoG",
        "outputId": "71fa7145-599b-438f-ffa4-4cb3ac1a1c3d"
      },
      "execution_count": 19,
      "outputs": [
        {
          "output_type": "execute_result",
          "data": {
            "text/plain": [
              "O        453993\n",
              "B-geo     29976\n",
              "B-org     16077\n",
              "B-tim     15776\n",
              "I-per     13906\n",
              "B-per     13667\n",
              "I-org     12631\n",
              "B-gpe     12492\n",
              "I-geo      5803\n",
              "I-tim      4493\n",
              "B-art       318\n",
              "B-eve       240\n",
              "I-art       239\n",
              "I-eve       197\n",
              "B-nat       162\n",
              "I-gpe       152\n",
              "I-nat        34\n",
              "Name: Tag, dtype: int64"
            ]
          },
          "metadata": {},
          "execution_count": 19
        }
      ]
    },
    {
      "cell_type": "code",
      "source": [
        "train_df_after_sampling.to_csv('/content/drive/MyDrive/Colab Notebooks/FP-KK/dataset/train_stopwords.csv')"
      ],
      "metadata": {
        "id": "IDSRIAfQenNM"
      },
      "execution_count": 20,
      "outputs": []
    }
  ]
}