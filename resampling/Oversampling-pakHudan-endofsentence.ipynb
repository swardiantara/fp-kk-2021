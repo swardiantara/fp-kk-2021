{
  "nbformat": 4,
  "nbformat_minor": 0,
  "metadata": {
    "colab": {
      "name": "Oversampling.ipynb",
      "provenance": [],
      "collapsed_sections": []
    },
    "kernelspec": {
      "name": "python3",
      "display_name": "Python 3"
    },
    "language_info": {
      "name": "python"
    }
  },
  "cells": [
    {
      "cell_type": "code",
      "metadata": {
        "id": "CKMlGhEl6fD4"
      },
      "source": [
        "import tensorflow as tf\n",
        "import pandas as pd\n",
        "import numpy as np"
      ],
      "execution_count": 24,
      "outputs": []
    },
    {
      "cell_type": "code",
      "metadata": {
        "colab": {
          "base_uri": "https://localhost:8080/"
        },
        "id": "aO_HHsKF6t8x",
        "outputId": "06be3194-9045-474e-de54-c34e91f2d36a"
      },
      "source": [
        "from google.colab import drive\n",
        "drive.mount('/content/drive')"
      ],
      "execution_count": 25,
      "outputs": [
        {
          "output_type": "stream",
          "name": "stdout",
          "text": [
            "Drive already mounted at /content/drive; to attempt to forcibly remount, call drive.mount(\"/content/drive\", force_remount=True).\n"
          ]
        }
      ]
    },
    {
      "cell_type": "code",
      "metadata": {
        "colab": {
          "base_uri": "https://localhost:8080/"
        },
        "id": "bnbRRQGg66Wh",
        "outputId": "184112cb-92fa-42aa-e3f1-336c8a5a26c4"
      },
      "source": [
        "dataset_path = '/content/drive/MyDrive/Colab Notebooks/FP-KK/dataset/train_baseline.csv'\n",
        "dataset = pd.read_csv(dataset_path, encoding= 'unicode_escape')\n",
        "dataset.shape"
      ],
      "execution_count": 26,
      "outputs": [
        {
          "output_type": "execute_result",
          "data": {
            "text/plain": [
              "(839815, 6)"
            ]
          },
          "metadata": {},
          "execution_count": 26
        }
      ]
    },
    {
      "cell_type": "code",
      "metadata": {
        "colab": {
          "base_uri": "https://localhost:8080/",
          "height": 424
        },
        "id": "uylb0EDB7XPe",
        "outputId": "9844419a-16a4-4eee-a34c-bfabf85fe2e8"
      },
      "source": [
        "dataset.drop(['Unnamed: 0'], inplace=True, axis=1)\n",
        "dataset"
      ],
      "execution_count": 27,
      "outputs": [
        {
          "output_type": "execute_result",
          "data": {
            "text/html": [
              "<div>\n",
              "<style scoped>\n",
              "    .dataframe tbody tr th:only-of-type {\n",
              "        vertical-align: middle;\n",
              "    }\n",
              "\n",
              "    .dataframe tbody tr th {\n",
              "        vertical-align: top;\n",
              "    }\n",
              "\n",
              "    .dataframe thead th {\n",
              "        text-align: right;\n",
              "    }\n",
              "</style>\n",
              "<table border=\"1\" class=\"dataframe\">\n",
              "  <thead>\n",
              "    <tr style=\"text-align: right;\">\n",
              "      <th></th>\n",
              "      <th>Sentence #</th>\n",
              "      <th>Word</th>\n",
              "      <th>Tag</th>\n",
              "      <th>Word_idx</th>\n",
              "      <th>Tag_idx</th>\n",
              "    </tr>\n",
              "  </thead>\n",
              "  <tbody>\n",
              "    <tr>\n",
              "      <th>0</th>\n",
              "      <td>Sentence: 1</td>\n",
              "      <td>Thousands</td>\n",
              "      <td>O</td>\n",
              "      <td>28285</td>\n",
              "      <td>14</td>\n",
              "    </tr>\n",
              "    <tr>\n",
              "      <th>1</th>\n",
              "      <td>Sentence: 1</td>\n",
              "      <td>of</td>\n",
              "      <td>O</td>\n",
              "      <td>15741</td>\n",
              "      <td>14</td>\n",
              "    </tr>\n",
              "    <tr>\n",
              "      <th>2</th>\n",
              "      <td>Sentence: 1</td>\n",
              "      <td>demonstrators</td>\n",
              "      <td>O</td>\n",
              "      <td>1523</td>\n",
              "      <td>14</td>\n",
              "    </tr>\n",
              "    <tr>\n",
              "      <th>3</th>\n",
              "      <td>Sentence: 1</td>\n",
              "      <td>have</td>\n",
              "      <td>O</td>\n",
              "      <td>367</td>\n",
              "      <td>14</td>\n",
              "    </tr>\n",
              "    <tr>\n",
              "      <th>4</th>\n",
              "      <td>Sentence: 1</td>\n",
              "      <td>marched</td>\n",
              "      <td>O</td>\n",
              "      <td>13632</td>\n",
              "      <td>14</td>\n",
              "    </tr>\n",
              "    <tr>\n",
              "      <th>...</th>\n",
              "      <td>...</td>\n",
              "      <td>...</td>\n",
              "      <td>...</td>\n",
              "      <td>...</td>\n",
              "      <td>...</td>\n",
              "    </tr>\n",
              "    <tr>\n",
              "      <th>839810</th>\n",
              "      <td>Sentence: 44529</td>\n",
              "      <td>as</td>\n",
              "      <td>O</td>\n",
              "      <td>21619</td>\n",
              "      <td>14</td>\n",
              "    </tr>\n",
              "    <tr>\n",
              "      <th>839811</th>\n",
              "      <td>Sentence: 44529</td>\n",
              "      <td>alternatives</td>\n",
              "      <td>O</td>\n",
              "      <td>21279</td>\n",
              "      <td>14</td>\n",
              "    </tr>\n",
              "    <tr>\n",
              "      <th>839812</th>\n",
              "      <td>Sentence: 44529</td>\n",
              "      <td>to</td>\n",
              "      <td>O</td>\n",
              "      <td>34610</td>\n",
              "      <td>14</td>\n",
              "    </tr>\n",
              "    <tr>\n",
              "      <th>839813</th>\n",
              "      <td>Sentence: 44529</td>\n",
              "      <td>oil</td>\n",
              "      <td>O</td>\n",
              "      <td>23416</td>\n",
              "      <td>14</td>\n",
              "    </tr>\n",
              "    <tr>\n",
              "      <th>839814</th>\n",
              "      <td>Sentence: 44529</td>\n",
              "      <td>.</td>\n",
              "      <td>O</td>\n",
              "      <td>13264</td>\n",
              "      <td>14</td>\n",
              "    </tr>\n",
              "  </tbody>\n",
              "</table>\n",
              "<p>839815 rows × 5 columns</p>\n",
              "</div>"
            ],
            "text/plain": [
              "             Sentence #           Word Tag  Word_idx  Tag_idx\n",
              "0           Sentence: 1      Thousands   O     28285       14\n",
              "1           Sentence: 1             of   O     15741       14\n",
              "2           Sentence: 1  demonstrators   O      1523       14\n",
              "3           Sentence: 1           have   O       367       14\n",
              "4           Sentence: 1        marched   O     13632       14\n",
              "...                 ...            ...  ..       ...      ...\n",
              "839810  Sentence: 44529             as   O     21619       14\n",
              "839811  Sentence: 44529   alternatives   O     21279       14\n",
              "839812  Sentence: 44529             to   O     34610       14\n",
              "839813  Sentence: 44529            oil   O     23416       14\n",
              "839814  Sentence: 44529              .   O     13264       14\n",
              "\n",
              "[839815 rows x 5 columns]"
            ]
          },
          "metadata": {},
          "execution_count": 27
        }
      ]
    },
    {
      "cell_type": "code",
      "metadata": {
        "colab": {
          "base_uri": "https://localhost:8080/"
        },
        "id": "Ns8UebCt7gnd",
        "outputId": "8c09ee80-ca10-43c6-bab2-00e29f6c9720"
      },
      "source": [
        "dataset[\"Tag\"].value_counts()"
      ],
      "execution_count": 28,
      "outputs": [
        {
          "output_type": "execute_result",
          "data": {
            "text/plain": [
              "O        711029\n",
              "B-geo     30162\n",
              "B-tim     16251\n",
              "B-org     16125\n",
              "I-per     13917\n",
              "B-per     13667\n",
              "I-org     13583\n",
              "B-gpe     12492\n",
              "I-geo      5959\n",
              "I-tim      5269\n",
              "B-art       319\n",
              "I-art       252\n",
              "B-eve       240\n",
              "I-eve       200\n",
              "B-nat       162\n",
              "I-gpe       154\n",
              "I-nat        34\n",
              "Name: Tag, dtype: int64"
            ]
          },
          "metadata": {},
          "execution_count": 28
        }
      ]
    },
    {
      "cell_type": "code",
      "metadata": {
        "colab": {
          "base_uri": "https://localhost:8080/",
          "height": 567
        },
        "id": "vVT3L2jO7lle",
        "outputId": "5a962a90-11d6-4d29-e43e-b84528bcd249"
      },
      "source": [
        "import matplotlib.pyplot as plt\n",
        "import seaborn as sns\n",
        "\n",
        "plt.figure(figsize = (16,8))\n",
        "sns.set_style('darkgrid')\n",
        "sns.histplot(dataset['Tag'])\n",
        "plt.tight_layout(pad=2)\n",
        "plt.show()"
      ],
      "execution_count": 29,
      "outputs": [
        {
          "output_type": "display_data",
          "data": {
            "image/png": "[encoded data removed]",
            "text/plain": [
              "<Figure size 1152x576 with 1 Axes>"
            ]
          },
          "metadata": {}
        }
      ]
    },
    {
      "cell_type": "code",
      "metadata": {
        "colab": {
          "base_uri": "https://localhost:8080/"
        },
        "id": "DHRFNS2I7snb",
        "outputId": "b6f51ccf-5e39-4b99-c2d0-651881e110c0"
      },
      "source": [
        "dataset_fillna = dataset.fillna(method='ffill', axis=0)\n",
        "dataset_group = dataset_fillna.groupby(['Sentence #'], as_index=False)['Word', 'Tag', 'Word_idx', 'Tag_idx'].agg(lambda x: list(x))"
      ],
      "execution_count": 30,
      "outputs": [
        {
          "output_type": "stream",
          "name": "stderr",
          "text": [
            "/usr/local/lib/python3.7/dist-packages/ipykernel_launcher.py:2: FutureWarning: Indexing with multiple keys (implicitly converted to a tuple of keys) will be deprecated, use a list instead.\n",
            "  \n"
          ]
        }
      ]
    },
    {
      "cell_type": "code",
      "metadata": {
        "colab": {
          "base_uri": "https://localhost:8080/",
          "height": 424
        },
        "id": "n4JJpaE27_9Z",
        "outputId": "c68e1b31-3622-459d-fabf-6ccf0003c481"
      },
      "source": [
        "dataset_group"
      ],
      "execution_count": 31,
      "outputs": [
        {
          "output_type": "execute_result",
          "data": {
            "text/html": [
              "<div>\n",
              "<style scoped>\n",
              "    .dataframe tbody tr th:only-of-type {\n",
              "        vertical-align: middle;\n",
              "    }\n",
              "\n",
              "    .dataframe tbody tr th {\n",
              "        vertical-align: top;\n",
              "    }\n",
              "\n",
              "    .dataframe thead th {\n",
              "        text-align: right;\n",
              "    }\n",
              "</style>\n",
              "<table border=\"1\" class=\"dataframe\">\n",
              "  <thead>\n",
              "    <tr style=\"text-align: right;\">\n",
              "      <th></th>\n",
              "      <th>Sentence #</th>\n",
              "      <th>Word</th>\n",
              "      <th>Tag</th>\n",
              "      <th>Word_idx</th>\n",
              "      <th>Tag_idx</th>\n",
              "    </tr>\n",
              "  </thead>\n",
              "  <tbody>\n",
              "    <tr>\n",
              "      <th>0</th>\n",
              "      <td>Sentence: 1</td>\n",
              "      <td>[Thousands, of, demonstrators, have, marched, ...</td>\n",
              "      <td>[O, O, O, O, O, O, B-geo, O, O, O, O, O, B-geo...</td>\n",
              "      <td>[28285, 15741, 1523, 367, 13632, 7168, 25967, ...</td>\n",
              "      <td>[14, 14, 14, 14, 14, 14, 6, 14, 14, 14, 14, 14...</td>\n",
              "    </tr>\n",
              "    <tr>\n",
              "      <th>1</th>\n",
              "      <td>Sentence: 10</td>\n",
              "      <td>[Iranian, officials, say, they, expect, to, ge...</td>\n",
              "      <td>[B-gpe, O, O, O, O, O, O, O, O, O, O, O, O, O,...</td>\n",
              "      <td>[34424, 1990, 32928, 9794, 31792, 34610, 15641...</td>\n",
              "      <td>[7, 14, 14, 14, 14, 14, 14, 14, 14, 14, 14, 14...</td>\n",
              "    </tr>\n",
              "    <tr>\n",
              "      <th>2</th>\n",
              "      <td>Sentence: 100</td>\n",
              "      <td>[Helicopter, gunships, Saturday, pounded, mili...</td>\n",
              "      <td>[O, O, B-tim, O, O, O, O, O, B-geo, O, O, O, O...</td>\n",
              "      <td>[28347, 29190, 19208, 2838, 24041, 26531, 7258...</td>\n",
              "      <td>[14, 14, 16, 14, 14, 14, 14, 14, 6, 14, 14, 14...</td>\n",
              "    </tr>\n",
              "    <tr>\n",
              "      <th>3</th>\n",
              "      <td>Sentence: 1000</td>\n",
              "      <td>[They, left, after, a, tense, hour-long, stand...</td>\n",
              "      <td>[O, O, O, O, O, O, O, O, O, O, O]</td>\n",
              "      <td>[4139, 30932, 1336, 28550, 18536, 21258, 26975...</td>\n",
              "      <td>[14, 14, 14, 14, 14, 14, 14, 14, 14, 14, 14]</td>\n",
              "    </tr>\n",
              "    <tr>\n",
              "      <th>4</th>\n",
              "      <td>Sentence: 10000</td>\n",
              "      <td>[U.N., relief, coordinator, Jan, Egeland, said...</td>\n",
              "      <td>[B-geo, O, O, B-per, I-per, O, B-tim, O, B-geo...</td>\n",
              "      <td>[30896, 25325, 14734, 12754, 18505, 433, 7325,...</td>\n",
              "      <td>[6, 14, 14, 4, 5, 14, 16, 14, 6, 14, 7, 14, 7,...</td>\n",
              "    </tr>\n",
              "    <tr>\n",
              "      <th>...</th>\n",
              "      <td>...</td>\n",
              "      <td>...</td>\n",
              "      <td>...</td>\n",
              "      <td>...</td>\n",
              "      <td>...</td>\n",
              "    </tr>\n",
              "    <tr>\n",
              "      <th>38363</th>\n",
              "      <td>Sentence: 44525</td>\n",
              "      <td>[President, Bush, called, on, the, United, Sta...</td>\n",
              "      <td>[B-per, I-per, O, O, O, B-geo, I-geo, O, O, O,...</td>\n",
              "      <td>[344, 19638, 28590, 29279, 3894, 18510, 6565, ...</td>\n",
              "      <td>[4, 5, 14, 14, 14, 6, 0, 14, 14, 14, 14, 14, 1...</td>\n",
              "    </tr>\n",
              "    <tr>\n",
              "      <th>38364</th>\n",
              "      <td>Sentence: 44526</td>\n",
              "      <td>[Mr., Bush, said, dependence, on, foreign, sou...</td>\n",
              "      <td>[B-per, I-per, O, O, O, O, O, O, O, O, B-geo, ...</td>\n",
              "      <td>[188, 19638, 433, 7527, 29279, 11236, 5495, 15...</td>\n",
              "      <td>[4, 5, 14, 14, 14, 14, 14, 14, 14, 14, 6, 14, ...</td>\n",
              "    </tr>\n",
              "    <tr>\n",
              "      <th>38365</th>\n",
              "      <td>Sentence: 44527</td>\n",
              "      <td>[The, president, called, for, reducing, gasoli...</td>\n",
              "      <td>[O, O, O, O, O, O, O, O, O, B-geo, O, O, O, B-...</td>\n",
              "      <td>[20005, 3610, 28590, 12209, 28521, 30306, 3119...</td>\n",
              "      <td>[14, 14, 14, 14, 14, 14, 14, 14, 14, 6, 14, 14...</td>\n",
              "    </tr>\n",
              "    <tr>\n",
              "      <th>38366</th>\n",
              "      <td>Sentence: 44528</td>\n",
              "      <td>[He, said, the, goal, can, be, met, by, increa...</td>\n",
              "      <td>[O, O, O, O, O, O, O, O, O, O, O, O, O, O, O, ...</td>\n",
              "      <td>[22908, 433, 3894, 32462, 14067, 26107, 19184,...</td>\n",
              "      <td>[14, 14, 14, 14, 14, 14, 14, 14, 14, 14, 14, 1...</td>\n",
              "    </tr>\n",
              "    <tr>\n",
              "      <th>38367</th>\n",
              "      <td>Sentence: 44529</td>\n",
              "      <td>[Mr., Bush, also, called, for, greater, use, o...</td>\n",
              "      <td>[B-per, I-per, O, O, O, O, O, O, O, O, O, O, O...</td>\n",
              "      <td>[188, 19638, 33726, 28590, 12209, 32992, 390, ...</td>\n",
              "      <td>[4, 5, 14, 14, 14, 14, 14, 14, 14, 14, 14, 14,...</td>\n",
              "    </tr>\n",
              "  </tbody>\n",
              "</table>\n",
              "<p>38368 rows × 5 columns</p>\n",
              "</div>"
            ],
            "text/plain": [
              "            Sentence #  ...                                            Tag_idx\n",
              "0          Sentence: 1  ...  [14, 14, 14, 14, 14, 14, 6, 14, 14, 14, 14, 14...\n",
              "1         Sentence: 10  ...  [7, 14, 14, 14, 14, 14, 14, 14, 14, 14, 14, 14...\n",
              "2        Sentence: 100  ...  [14, 14, 16, 14, 14, 14, 14, 14, 6, 14, 14, 14...\n",
              "3       Sentence: 1000  ...       [14, 14, 14, 14, 14, 14, 14, 14, 14, 14, 14]\n",
              "4      Sentence: 10000  ...  [6, 14, 14, 4, 5, 14, 16, 14, 6, 14, 7, 14, 7,...\n",
              "...                ...  ...                                                ...\n",
              "38363  Sentence: 44525  ...  [4, 5, 14, 14, 14, 6, 0, 14, 14, 14, 14, 14, 1...\n",
              "38364  Sentence: 44526  ...  [4, 5, 14, 14, 14, 14, 14, 14, 14, 14, 6, 14, ...\n",
              "38365  Sentence: 44527  ...  [14, 14, 14, 14, 14, 14, 14, 14, 14, 6, 14, 14...\n",
              "38366  Sentence: 44528  ...  [14, 14, 14, 14, 14, 14, 14, 14, 14, 14, 14, 1...\n",
              "38367  Sentence: 44529  ...  [4, 5, 14, 14, 14, 14, 14, 14, 14, 14, 14, 14,...\n",
              "\n",
              "[38368 rows x 5 columns]"
            ]
          },
          "metadata": {},
          "execution_count": 31
        }
      ]
    },
    {
      "cell_type": "markdown",
      "metadata": {
        "id": "NP-DaSCW8FMj"
      },
      "source": [
        "Membuat list data kandidat yang akan digunakan saat melakukan oversampling. Data-data ini diambil secara acak dari dataset awal, sehingga metode ini mengandung unsur random oversampling pada sisi pengambilan kandidat data yang akan dibangkitkan"
      ]
    },
    {
      "cell_type": "code",
      "metadata": {
        "id": "1I9-O-gX8EiD"
      },
      "source": [
        "geoList = [\"States\", \"City\", \"Province\", \"Islands\", \"Republic\"]\n",
        "orgList = [\"Agency\", \"Council\", \"Association\", \"Company\", \"Community\", \"Committee\", \"Department\", \"Organization\"]\n",
        "perList = [\"Pinochet\", \"Montiglio\", \"George\", \"Laurent\", \"Levy\", \"Abbas\", \"Felipe\", \"Sharon\", \"Ariel\", \"Lavrov\", \"Bush\", \"Silva\", \"Putin\", \"Chavez\", \"Rosales\", \"Howard\", \"Bashar\", \"Nahles\", \"Johnson\", \"Morris\", \"Davis\", \"Robert\", \"Karzai\", \"Jalal\"]"
      ],
      "execution_count": 32,
      "outputs": []
    },
    {
      "cell_type": "code",
      "metadata": {
        "id": "WKjQEH9J8vax"
      },
      "source": [
        "import random\n",
        "def generateRandomEntity(entityType):\n",
        "  if(entityType == 'GEO'):\n",
        "    return random.choice(geoList)\n",
        "  elif(entityType == 'ORG'):\n",
        "    return random.choice(orgList)\n",
        "  else:\n",
        "    return random.choice(perList)"
      ],
      "execution_count": 33,
      "outputs": []
    },
    {
      "cell_type": "markdown",
      "metadata": {
        "id": "aox5wE-v83D4"
      },
      "source": [
        "Load dictionary dari hasil preprocessing untuk memetakan token2idx dan sebaliknya serta tag2idx dan sebaliknya."
      ]
    },
    {
      "cell_type": "code",
      "metadata": {
        "id": "RkXPSxAr9JGJ"
      },
      "source": [
        "# importing the module\n",
        "import json\n",
        " \n",
        "# Opening JSON file\n",
        "def loadJSON(filename):\n",
        "  data = {}\n",
        "  with open(filename) as json_file:\n",
        "      data = json.load(json_file)\n",
        "  return data"
      ],
      "execution_count": 34,
      "outputs": []
    },
    {
      "cell_type": "code",
      "metadata": {
        "colab": {
          "base_uri": "https://localhost:8080/"
        },
        "id": "cSZhIafA9j8y",
        "outputId": "9cef75ed-e246-4526-ae0e-b49bc66ad4ca"
      },
      "source": [
        "idx2tag = loadJSON('/content/drive/MyDrive/Colab Notebooks/FP-KK/output/idx2tag.json')\n",
        "tag2idx = loadJSON('/content/drive/MyDrive/Colab Notebooks/FP-KK/output/tag2idx.json')\n",
        "token2idx = loadJSON('/content/drive/MyDrive/Colab Notebooks/FP-KK/output/token2idx.json')\n",
        "idx2token = loadJSON('/content/drive/MyDrive/Colab Notebooks/FP-KK/output/idx2token.json')\n",
        "print(idx2tag)"
      ],
      "execution_count": 35,
      "outputs": [
        {
          "output_type": "stream",
          "name": "stdout",
          "text": [
            "{'0': 'I-geo', '1': 'I-org', '2': 'B-nat', '3': 'I-eve', '4': 'B-per', '5': 'I-per', '6': 'B-geo', '7': 'B-gpe', '8': 'B-eve', '9': 'I-art', '10': 'B-org', '11': 'I-tim', '12': 'B-art', '13': 'I-gpe', '14': 'O', '15': 'I-nat', '16': 'B-tim'}\n"
          ]
        }
      ]
    },
    {
      "cell_type": "code",
      "source": [
        "def oversample(data):\n",
        "  for sentenceIdx in range(0, data.shape[0]):\n",
        "    last = False\n",
        "    for tagIdx in range(0, len(data.loc[sentenceIdx, 'Tag'])):\n",
        "      if(tagIdx == len(data.loc[sentenceIdx, 'Tag']) - 1):\n",
        "        last = True\n",
        "      # Oversampling process\n",
        "      if((data.loc[sentenceIdx, 'Tag'][tagIdx] == 'B-geo' and last == True) or (data.loc[sentenceIdx, 'Tag'][tagIdx] == 'B-geo' and data.loc[sentenceIdx, 'Tag'][tagIdx + 1] == 'O')):\n",
        "        random_word = generateRandomEntity('GEO')\n",
        "        data.loc[sentenceIdx, 'Word'].insert(tagIdx + 1, random_word)\n",
        "        data.loc[sentenceIdx, 'Word_idx'].insert(tagIdx + 1, token2idx.get(random_word))\n",
        "        data.loc[sentenceIdx, 'Tag'].insert(tagIdx + 1, 'I-geo')\n",
        "        data.loc[sentenceIdx, 'Tag_idx'].insert(tagIdx + 1, tag2idx.get('I-geo'))\n",
        "      elif((data.loc[sentenceIdx, 'Tag'][tagIdx] == 'B-org' and last == True) or (data.loc[sentenceIdx, 'Tag'][tagIdx] == 'B-org' and data.loc[sentenceIdx, 'Tag'][tagIdx + 1] == 'O')):\n",
        "        random_word = generateRandomEntity('ORG')\n",
        "        data.loc[sentenceIdx, 'Word'].insert(tagIdx + 1, random_word)\n",
        "        data.loc[sentenceIdx, 'Word_idx'].insert(tagIdx + 1, token2idx.get(random_word))\n",
        "        data.loc[sentenceIdx, 'Tag'].insert(tagIdx + 1, 'I-org')\n",
        "        data.loc[sentenceIdx, 'Tag_idx'].insert(tagIdx + 1, tag2idx.get('I-org'))\n",
        "      elif((data.loc[sentenceIdx, 'Tag'][tagIdx] == 'B-per' and last == True) or (data.loc[sentenceIdx, 'Tag'][tagIdx] == 'B-per' and data.loc[sentenceIdx, 'Tag'][tagIdx + 1] == 'O')):\n",
        "        random_word = generateRandomEntity('PER')\n",
        "        data.loc[sentenceIdx, 'Word'].insert(tagIdx + 1, random_word)\n",
        "        data.loc[sentenceIdx, 'Word_idx'].insert(tagIdx + 1, token2idx.get(random_word))\n",
        "        data.loc[sentenceIdx, 'Tag'].insert(tagIdx + 1, 'I-per')\n",
        "        data.loc[sentenceIdx, 'Tag_idx'].insert(tagIdx + 1, tag2idx.get('I-per'))\n",
        "\n",
        "  return data"
      ],
      "metadata": {
        "id": "Itg3_g1IWZcA"
      },
      "execution_count": 36,
      "outputs": []
    },
    {
      "cell_type": "code",
      "metadata": {
        "id": "RgXuAyDO-cBV"
      },
      "source": [
        "def nerOversample2(dataset):\n",
        "  for sentence in range(0, dataset.shape[0]):\n",
        "    last = False\n",
        "    word_num = len(dataset.loc[sentence, 'Word'])\n",
        "    for tag in range(0, word_num):\n",
        "      if (tag == word_num - 1):\n",
        "        last = True\n",
        "      # Oversampling process\n",
        "      if((dataset.loc[sentence, 'Tag'][tag] == 'B-geo' and last == True) or (dataset.loc[sentence, 'Tag'][tag] == 'B-geo' and dataset.loc[sentence, 'Tag'][tag+1] == 'O')):\n",
        "        word = dataset.loc[sentence, 'Word'][tag]\n",
        "        dataset.loc[sentence, 'Word'].insert(word_num - 1, word)\n",
        "        dataset.loc[sentence, 'Word_idx'].insert(word_num - 1, token2idx.get(word))\n",
        "        dataset.loc[sentence, 'Tag'].insert(word_num - 1, 'B-geo')\n",
        "        dataset.loc[sentence, 'Tag_idx'].insert(word_num - 1, tag2idx.get('B-geo'))\n",
        "      elif((dataset.loc[sentence, 'Tag'][tag] == 'B-org' and last == True) or (dataset.loc[sentence, 'Tag'][tag] == 'B-org' and dataset.loc[sentence, 'Tag'][tag+1] == 'O')):\n",
        "        random_word = generateRandomEntity('ORG')\n",
        "        dataset.loc[sentence, 'Word'].insert(tag+1, random_word)\n",
        "        dataset.loc[sentence, 'Word_idx'].insert(tag+1, token2idx.get(random_word))\n",
        "        dataset.loc[sentence, 'Tag'].insert(tag+1, 'I-org')\n",
        "        dataset.loc[sentence, 'Tag_idx'].insert(tag+1, tag2idx.get('I-org'))\n",
        "      elif((dataset.loc[sentence, 'Tag'][tag] == 'B-per' and last == True) or (dataset.loc[sentence, 'Tag'][tag] == 'B-per' and dataset.loc[sentence, 'Tag'][tag+1] == 'O')):\n",
        "        random_word = generateRandomEntity('PER')\n",
        "        dataset.loc[sentence, 'Word'].insert(tag+1, random_word)\n",
        "        dataset.loc[sentence, 'Word_idx'].insert(tag+1, token2idx.get(random_word))\n",
        "        dataset.loc[sentence, 'Tag'].insert(tag+1, 'I-per')\n",
        "        dataset.loc[sentence, 'Tag_idx'].insert(tag+1, tag2idx.get('I-per'))\n",
        "  return dataset"
      ],
      "execution_count": 37,
      "outputs": []
    },
    {
      "cell_type": "markdown",
      "metadata": {
        "id": "aVpC3yZKCA-D"
      },
      "source": [
        "Backup dataset sebelum melakukan oversampling"
      ]
    },
    {
      "cell_type": "code",
      "metadata": {
        "id": "RJCQ-0BmB5na"
      },
      "source": [
        "data_backup = dataset_group.copy()\n",
        "dataset_untuk_sample = data_backup.copy()"
      ],
      "execution_count": 38,
      "outputs": []
    },
    {
      "cell_type": "code",
      "metadata": {
        "colab": {
          "base_uri": "https://localhost:8080/",
          "height": 424
        },
        "id": "i7VIRbqoFF-g",
        "outputId": "8e721b0c-28b2-4f4e-c587-f7c99f7dd3b5"
      },
      "source": [
        "data_backup"
      ],
      "execution_count": 39,
      "outputs": [
        {
          "output_type": "execute_result",
          "data": {
            "text/html": [
              "<div>\n",
              "<style scoped>\n",
              "    .dataframe tbody tr th:only-of-type {\n",
              "        vertical-align: middle;\n",
              "    }\n",
              "\n",
              "    .dataframe tbody tr th {\n",
              "        vertical-align: top;\n",
              "    }\n",
              "\n",
              "    .dataframe thead th {\n",
              "        text-align: right;\n",
              "    }\n",
              "</style>\n",
              "<table border=\"1\" class=\"dataframe\">\n",
              "  <thead>\n",
              "    <tr style=\"text-align: right;\">\n",
              "      <th></th>\n",
              "      <th>Sentence #</th>\n",
              "      <th>Word</th>\n",
              "      <th>Tag</th>\n",
              "      <th>Word_idx</th>\n",
              "      <th>Tag_idx</th>\n",
              "    </tr>\n",
              "  </thead>\n",
              "  <tbody>\n",
              "    <tr>\n",
              "      <th>0</th>\n",
              "      <td>Sentence: 1</td>\n",
              "      <td>[Thousands, of, demonstrators, have, marched, ...</td>\n",
              "      <td>[O, O, O, O, O, O, B-geo, O, O, O, O, O, B-geo...</td>\n",
              "      <td>[28285, 15741, 1523, 367, 13632, 7168, 25967, ...</td>\n",
              "      <td>[14, 14, 14, 14, 14, 14, 6, 14, 14, 14, 14, 14...</td>\n",
              "    </tr>\n",
              "    <tr>\n",
              "      <th>1</th>\n",
              "      <td>Sentence: 10</td>\n",
              "      <td>[Iranian, officials, say, they, expect, to, ge...</td>\n",
              "      <td>[B-gpe, O, O, O, O, O, O, O, O, O, O, O, O, O,...</td>\n",
              "      <td>[34424, 1990, 32928, 9794, 31792, 34610, 15641...</td>\n",
              "      <td>[7, 14, 14, 14, 14, 14, 14, 14, 14, 14, 14, 14...</td>\n",
              "    </tr>\n",
              "    <tr>\n",
              "      <th>2</th>\n",
              "      <td>Sentence: 100</td>\n",
              "      <td>[Helicopter, gunships, Saturday, pounded, mili...</td>\n",
              "      <td>[O, O, B-tim, O, O, O, O, O, B-geo, O, O, O, O...</td>\n",
              "      <td>[28347, 29190, 19208, 2838, 24041, 26531, 7258...</td>\n",
              "      <td>[14, 14, 16, 14, 14, 14, 14, 14, 6, 14, 14, 14...</td>\n",
              "    </tr>\n",
              "    <tr>\n",
              "      <th>3</th>\n",
              "      <td>Sentence: 1000</td>\n",
              "      <td>[They, left, after, a, tense, hour-long, stand...</td>\n",
              "      <td>[O, O, O, O, O, O, O, O, O, O, O]</td>\n",
              "      <td>[4139, 30932, 1336, 28550, 18536, 21258, 26975...</td>\n",
              "      <td>[14, 14, 14, 14, 14, 14, 14, 14, 14, 14, 14]</td>\n",
              "    </tr>\n",
              "    <tr>\n",
              "      <th>4</th>\n",
              "      <td>Sentence: 10000</td>\n",
              "      <td>[U.N., relief, coordinator, Jan, Egeland, said...</td>\n",
              "      <td>[B-geo, O, O, B-per, I-per, O, B-tim, O, B-geo...</td>\n",
              "      <td>[30896, 25325, 14734, 12754, 18505, 433, 7325,...</td>\n",
              "      <td>[6, 14, 14, 4, 5, 14, 16, 14, 6, 14, 7, 14, 7,...</td>\n",
              "    </tr>\n",
              "    <tr>\n",
              "      <th>...</th>\n",
              "      <td>...</td>\n",
              "      <td>...</td>\n",
              "      <td>...</td>\n",
              "      <td>...</td>\n",
              "      <td>...</td>\n",
              "    </tr>\n",
              "    <tr>\n",
              "      <th>38363</th>\n",
              "      <td>Sentence: 44525</td>\n",
              "      <td>[President, Bush, called, on, the, United, Sta...</td>\n",
              "      <td>[B-per, I-per, O, O, O, B-geo, I-geo, O, O, O,...</td>\n",
              "      <td>[344, 19638, 28590, 29279, 3894, 18510, 6565, ...</td>\n",
              "      <td>[4, 5, 14, 14, 14, 6, 0, 14, 14, 14, 14, 14, 1...</td>\n",
              "    </tr>\n",
              "    <tr>\n",
              "      <th>38364</th>\n",
              "      <td>Sentence: 44526</td>\n",
              "      <td>[Mr., Bush, said, dependence, on, foreign, sou...</td>\n",
              "      <td>[B-per, I-per, O, O, O, O, O, O, O, O, B-geo, ...</td>\n",
              "      <td>[188, 19638, 433, 7527, 29279, 11236, 5495, 15...</td>\n",
              "      <td>[4, 5, 14, 14, 14, 14, 14, 14, 14, 14, 6, 14, ...</td>\n",
              "    </tr>\n",
              "    <tr>\n",
              "      <th>38365</th>\n",
              "      <td>Sentence: 44527</td>\n",
              "      <td>[The, president, called, for, reducing, gasoli...</td>\n",
              "      <td>[O, O, O, O, O, O, O, O, O, B-geo, O, O, O, B-...</td>\n",
              "      <td>[20005, 3610, 28590, 12209, 28521, 30306, 3119...</td>\n",
              "      <td>[14, 14, 14, 14, 14, 14, 14, 14, 14, 6, 14, 14...</td>\n",
              "    </tr>\n",
              "    <tr>\n",
              "      <th>38366</th>\n",
              "      <td>Sentence: 44528</td>\n",
              "      <td>[He, said, the, goal, can, be, met, by, increa...</td>\n",
              "      <td>[O, O, O, O, O, O, O, O, O, O, O, O, O, O, O, ...</td>\n",
              "      <td>[22908, 433, 3894, 32462, 14067, 26107, 19184,...</td>\n",
              "      <td>[14, 14, 14, 14, 14, 14, 14, 14, 14, 14, 14, 1...</td>\n",
              "    </tr>\n",
              "    <tr>\n",
              "      <th>38367</th>\n",
              "      <td>Sentence: 44529</td>\n",
              "      <td>[Mr., Bush, also, called, for, greater, use, o...</td>\n",
              "      <td>[B-per, I-per, O, O, O, O, O, O, O, O, O, O, O...</td>\n",
              "      <td>[188, 19638, 33726, 28590, 12209, 32992, 390, ...</td>\n",
              "      <td>[4, 5, 14, 14, 14, 14, 14, 14, 14, 14, 14, 14,...</td>\n",
              "    </tr>\n",
              "  </tbody>\n",
              "</table>\n",
              "<p>38368 rows × 5 columns</p>\n",
              "</div>"
            ],
            "text/plain": [
              "            Sentence #  ...                                            Tag_idx\n",
              "0          Sentence: 1  ...  [14, 14, 14, 14, 14, 14, 6, 14, 14, 14, 14, 14...\n",
              "1         Sentence: 10  ...  [7, 14, 14, 14, 14, 14, 14, 14, 14, 14, 14, 14...\n",
              "2        Sentence: 100  ...  [14, 14, 16, 14, 14, 14, 14, 14, 6, 14, 14, 14...\n",
              "3       Sentence: 1000  ...       [14, 14, 14, 14, 14, 14, 14, 14, 14, 14, 14]\n",
              "4      Sentence: 10000  ...  [6, 14, 14, 4, 5, 14, 16, 14, 6, 14, 7, 14, 7,...\n",
              "...                ...  ...                                                ...\n",
              "38363  Sentence: 44525  ...  [4, 5, 14, 14, 14, 6, 0, 14, 14, 14, 14, 14, 1...\n",
              "38364  Sentence: 44526  ...  [4, 5, 14, 14, 14, 14, 14, 14, 14, 14, 6, 14, ...\n",
              "38365  Sentence: 44527  ...  [14, 14, 14, 14, 14, 14, 14, 14, 14, 6, 14, 14...\n",
              "38366  Sentence: 44528  ...  [14, 14, 14, 14, 14, 14, 14, 14, 14, 14, 14, 1...\n",
              "38367  Sentence: 44529  ...  [4, 5, 14, 14, 14, 14, 14, 14, 14, 14, 14, 14,...\n",
              "\n",
              "[38368 rows x 5 columns]"
            ]
          },
          "metadata": {},
          "execution_count": 39
        }
      ]
    },
    {
      "cell_type": "code",
      "source": [
        "data_backup.loc[2, 'Word'][8]"
      ],
      "metadata": {
        "colab": {
          "base_uri": "https://localhost:8080/",
          "height": 35
        },
        "id": "hA2SODP6Q2FU",
        "outputId": "a23ca96b-0575-4881-9b03-1f82ad2e8e4d"
      },
      "execution_count": 40,
      "outputs": [
        {
          "output_type": "execute_result",
          "data": {
            "application/vnd.google.colaboratory.intrinsic+json": {
              "type": "string"
            },
            "text/plain": [
              "'Orakzai'"
            ]
          },
          "metadata": {},
          "execution_count": 40
        }
      ]
    },
    {
      "cell_type": "code",
      "metadata": {
        "id": "ZEQLGirKCFWL"
      },
      "source": [
        "dataset_sampled = nerOversample2(dataset_untuk_sample)"
      ],
      "execution_count": 41,
      "outputs": []
    },
    {
      "cell_type": "code",
      "metadata": {
        "colab": {
          "base_uri": "https://localhost:8080/",
          "height": 424
        },
        "id": "oYg6wB8ECvT1",
        "outputId": "01569806-afbb-4e9d-e23d-45346150f0a8"
      },
      "source": [
        "dataset_sampled"
      ],
      "execution_count": 42,
      "outputs": [
        {
          "output_type": "execute_result",
          "data": {
            "text/html": [
              "<div>\n",
              "<style scoped>\n",
              "    .dataframe tbody tr th:only-of-type {\n",
              "        vertical-align: middle;\n",
              "    }\n",
              "\n",
              "    .dataframe tbody tr th {\n",
              "        vertical-align: top;\n",
              "    }\n",
              "\n",
              "    .dataframe thead th {\n",
              "        text-align: right;\n",
              "    }\n",
              "</style>\n",
              "<table border=\"1\" class=\"dataframe\">\n",
              "  <thead>\n",
              "    <tr style=\"text-align: right;\">\n",
              "      <th></th>\n",
              "      <th>Sentence #</th>\n",
              "      <th>Word</th>\n",
              "      <th>Tag</th>\n",
              "      <th>Word_idx</th>\n",
              "      <th>Tag_idx</th>\n",
              "    </tr>\n",
              "  </thead>\n",
              "  <tbody>\n",
              "    <tr>\n",
              "      <th>0</th>\n",
              "      <td>Sentence: 1</td>\n",
              "      <td>[Thousands, of, demonstrators, have, marched, ...</td>\n",
              "      <td>[O, O, O, O, O, O, B-geo, O, O, O, O, O, B-geo...</td>\n",
              "      <td>[28285, 15741, 1523, 367, 13632, 7168, 25967, ...</td>\n",
              "      <td>[14, 14, 14, 14, 14, 14, 6, 14, 14, 14, 14, 14...</td>\n",
              "    </tr>\n",
              "    <tr>\n",
              "      <th>1</th>\n",
              "      <td>Sentence: 10</td>\n",
              "      <td>[Iranian, officials, say, they, expect, to, ge...</td>\n",
              "      <td>[B-gpe, O, O, O, O, O, O, O, O, O, O, O, O, O,...</td>\n",
              "      <td>[34424, 1990, 32928, 9794, 31792, 34610, 15641...</td>\n",
              "      <td>[7, 14, 14, 14, 14, 14, 14, 14, 14, 14, 14, 14...</td>\n",
              "    </tr>\n",
              "    <tr>\n",
              "      <th>2</th>\n",
              "      <td>Sentence: 100</td>\n",
              "      <td>[Helicopter, gunships, Saturday, pounded, mili...</td>\n",
              "      <td>[O, O, B-tim, O, O, O, O, O, B-geo, O, O, O, O...</td>\n",
              "      <td>[28347, 29190, 19208, 2838, 24041, 26531, 7258...</td>\n",
              "      <td>[14, 14, 16, 14, 14, 14, 14, 14, 6, 14, 14, 14...</td>\n",
              "    </tr>\n",
              "    <tr>\n",
              "      <th>3</th>\n",
              "      <td>Sentence: 1000</td>\n",
              "      <td>[They, left, after, a, tense, hour-long, stand...</td>\n",
              "      <td>[O, O, O, O, O, O, O, O, O, O, O]</td>\n",
              "      <td>[4139, 30932, 1336, 28550, 18536, 21258, 26975...</td>\n",
              "      <td>[14, 14, 14, 14, 14, 14, 14, 14, 14, 14, 14]</td>\n",
              "    </tr>\n",
              "    <tr>\n",
              "      <th>4</th>\n",
              "      <td>Sentence: 10000</td>\n",
              "      <td>[U.N., relief, coordinator, Jan, Egeland, said...</td>\n",
              "      <td>[B-geo, O, O, B-per, I-per, O, B-tim, O, B-geo...</td>\n",
              "      <td>[30896, 25325, 14734, 12754, 18505, 433, 7325,...</td>\n",
              "      <td>[6, 14, 14, 4, 5, 14, 16, 14, 6, 14, 7, 14, 7,...</td>\n",
              "    </tr>\n",
              "    <tr>\n",
              "      <th>...</th>\n",
              "      <td>...</td>\n",
              "      <td>...</td>\n",
              "      <td>...</td>\n",
              "      <td>...</td>\n",
              "      <td>...</td>\n",
              "    </tr>\n",
              "    <tr>\n",
              "      <th>38363</th>\n",
              "      <td>Sentence: 44525</td>\n",
              "      <td>[President, Bush, called, on, the, United, Sta...</td>\n",
              "      <td>[B-per, I-per, O, O, O, B-geo, I-geo, O, O, O,...</td>\n",
              "      <td>[344, 19638, 28590, 29279, 3894, 18510, 6565, ...</td>\n",
              "      <td>[4, 5, 14, 14, 14, 6, 0, 14, 14, 14, 14, 14, 1...</td>\n",
              "    </tr>\n",
              "    <tr>\n",
              "      <th>38364</th>\n",
              "      <td>Sentence: 44526</td>\n",
              "      <td>[Mr., Bush, said, dependence, on, foreign, sou...</td>\n",
              "      <td>[B-per, I-per, O, O, O, O, O, O, O, O, B-geo, ...</td>\n",
              "      <td>[188, 19638, 433, 7527, 29279, 11236, 5495, 15...</td>\n",
              "      <td>[4, 5, 14, 14, 14, 14, 14, 14, 14, 14, 6, 14, ...</td>\n",
              "    </tr>\n",
              "    <tr>\n",
              "      <th>38365</th>\n",
              "      <td>Sentence: 44527</td>\n",
              "      <td>[The, president, called, for, reducing, gasoli...</td>\n",
              "      <td>[O, O, O, O, O, O, O, O, O, B-geo, O, O, O, B-...</td>\n",
              "      <td>[20005, 3610, 28590, 12209, 28521, 30306, 3119...</td>\n",
              "      <td>[14, 14, 14, 14, 14, 14, 14, 14, 14, 6, 14, 14...</td>\n",
              "    </tr>\n",
              "    <tr>\n",
              "      <th>38366</th>\n",
              "      <td>Sentence: 44528</td>\n",
              "      <td>[He, said, the, goal, can, be, met, by, increa...</td>\n",
              "      <td>[O, O, O, O, O, O, O, O, O, O, O, O, O, O, O, ...</td>\n",
              "      <td>[22908, 433, 3894, 32462, 14067, 26107, 19184,...</td>\n",
              "      <td>[14, 14, 14, 14, 14, 14, 14, 14, 14, 14, 14, 1...</td>\n",
              "    </tr>\n",
              "    <tr>\n",
              "      <th>38367</th>\n",
              "      <td>Sentence: 44529</td>\n",
              "      <td>[Mr., Bush, also, called, for, greater, use, o...</td>\n",
              "      <td>[B-per, I-per, O, O, O, O, O, O, O, O, O, O, O...</td>\n",
              "      <td>[188, 19638, 33726, 28590, 12209, 32992, 390, ...</td>\n",
              "      <td>[4, 5, 14, 14, 14, 14, 14, 14, 14, 14, 14, 14,...</td>\n",
              "    </tr>\n",
              "  </tbody>\n",
              "</table>\n",
              "<p>38368 rows × 5 columns</p>\n",
              "</div>"
            ],
            "text/plain": [
              "            Sentence #  ...                                            Tag_idx\n",
              "0          Sentence: 1  ...  [14, 14, 14, 14, 14, 14, 6, 14, 14, 14, 14, 14...\n",
              "1         Sentence: 10  ...  [7, 14, 14, 14, 14, 14, 14, 14, 14, 14, 14, 14...\n",
              "2        Sentence: 100  ...  [14, 14, 16, 14, 14, 14, 14, 14, 6, 14, 14, 14...\n",
              "3       Sentence: 1000  ...       [14, 14, 14, 14, 14, 14, 14, 14, 14, 14, 14]\n",
              "4      Sentence: 10000  ...  [6, 14, 14, 4, 5, 14, 16, 14, 6, 14, 7, 14, 7,...\n",
              "...                ...  ...                                                ...\n",
              "38363  Sentence: 44525  ...  [4, 5, 14, 14, 14, 6, 0, 14, 14, 14, 14, 14, 1...\n",
              "38364  Sentence: 44526  ...  [4, 5, 14, 14, 14, 14, 14, 14, 14, 14, 6, 14, ...\n",
              "38365  Sentence: 44527  ...  [14, 14, 14, 14, 14, 14, 14, 14, 14, 6, 14, 14...\n",
              "38366  Sentence: 44528  ...  [14, 14, 14, 14, 14, 14, 14, 14, 14, 14, 14, 1...\n",
              "38367  Sentence: 44529  ...  [4, 5, 14, 14, 14, 14, 14, 14, 14, 14, 14, 14,...\n",
              "\n",
              "[38368 rows x 5 columns]"
            ]
          },
          "metadata": {},
          "execution_count": 42
        }
      ]
    },
    {
      "cell_type": "markdown",
      "metadata": {
        "id": "NbOqc9VcDGc1"
      },
      "source": [
        "Kembalikan dataframe untuk melihat hasil oversampling"
      ]
    },
    {
      "cell_type": "code",
      "metadata": {
        "id": "1_OMxFRhDJlt"
      },
      "source": [
        "def buildDataFrame(groupedData):\n",
        "  word_list = []\n",
        "  tag_list = []\n",
        "  sentence_list = []\n",
        "  word_idx = []\n",
        "  tag_idx = []\n",
        "  for sentence in range(0, groupedData.shape[0]):\n",
        "    sentence_array = [groupedData.loc[sentence, 'Sentence #']] * len(groupedData.loc[sentence, 'Word'])\n",
        "    sentence_list = sentence_list + sentence_array\n",
        "    word_list = word_list + groupedData.loc[sentence, 'Word']\n",
        "    tag_list = tag_list + groupedData.loc[sentence, 'Tag']\n",
        "    word_idx = word_idx + groupedData.loc[sentence, 'Word_idx']\n",
        "    tag_idx = tag_idx + groupedData.loc[sentence, 'Tag_idx']\n",
        "    # print(sentence, len(sentence_list), len(word_list), len(tag_list), len(word_idx), len(tag_idx))\n",
        "    # dataFrameLoop = pd.DataFrame({'Sentence #': sentence_list, 'Word': word_list, 'Tag': tag_list, 'Word_idx': word_idx, 'Tag_idx': tag_idx})\n",
        "    # dataFrame = dataFrame.append([dataFrameLoop])\n",
        "    # print(sentence_list, word_list, tag_list)\n",
        "  dataFrame = pd.DataFrame({'Sentence #': sentence_list, 'Word': word_list, 'Tag': tag_list, 'Word_idx': word_idx, 'Tag_idx': tag_idx})\n",
        "  # return sentence_list, word_list, tag_list\n",
        "  return dataFrame"
      ],
      "execution_count": 43,
      "outputs": []
    },
    {
      "cell_type": "code",
      "metadata": {
        "id": "h-c2z6LtDm3o"
      },
      "source": [
        "train_df_after_sampling =  buildDataFrame(dataset_sampled)"
      ],
      "execution_count": 44,
      "outputs": []
    },
    {
      "cell_type": "code",
      "metadata": {
        "id": "-ky16p2ND1zP",
        "colab": {
          "base_uri": "https://localhost:8080/"
        },
        "outputId": "d1d62abe-1307-4e86-b039-a44f21fc9602"
      },
      "source": [
        "train_df_after_sampling[\"Tag\"].value_counts()"
      ],
      "execution_count": 45,
      "outputs": [
        {
          "output_type": "execute_result",
          "data": {
            "text/plain": [
              "O        711029\n",
              "B-geo     67438\n",
              "I-org     21377\n",
              "I-per     16853\n",
              "B-tim     16251\n",
              "B-org     16125\n",
              "B-per     13667\n",
              "B-gpe     12492\n",
              "I-geo      5959\n",
              "I-tim      5269\n",
              "B-art       319\n",
              "I-art       252\n",
              "B-eve       240\n",
              "I-eve       200\n",
              "B-nat       162\n",
              "I-gpe       154\n",
              "I-nat        34\n",
              "Name: Tag, dtype: int64"
            ]
          },
          "metadata": {},
          "execution_count": 45
        }
      ]
    },
    {
      "cell_type": "code",
      "metadata": {
        "id": "PM4eObS2EL8e"
      },
      "source": [
        "train_df_after_sampling.to_csv('/content/drive/MyDrive/Colab Notebooks/FP-KK/dataset/train_nerOversampled2.csv')"
      ],
      "execution_count": 46,
      "outputs": []
    }
  ]
}