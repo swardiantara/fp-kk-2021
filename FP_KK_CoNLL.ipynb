{
  "nbformat": 4,
  "nbformat_minor": 0,
  "metadata": {
    "colab": {
      "name": "FP-KK-CoNLL.ipynb",
      "provenance": [],
      "authorship_tag": "ABX9TyM3JH9Nk398iF3rEdaxQGi2",
      "include_colab_link": true
    },
    "kernelspec": {
      "name": "python3",
      "display_name": "Python 3"
    },
    "language_info": {
      "name": "python"
    }
  },
  "cells": [
    {
      "cell_type": "markdown",
      "metadata": {
        "id": "view-in-github",
        "colab_type": "text"
      },
      "source": [
        "<a href=\"https://colab.research.google.com/github/swardiantara/fp-kk-2021/blob/main/FP_KK_CoNLL.ipynb\" target=\"_parent\"><img src=\"https://colab.research.google.com/assets/colab-badge.svg\" alt=\"Open In Colab\"/></a>"
      ]
    },
    {
      "cell_type": "code",
      "metadata": {
        "colab": {
          "base_uri": "https://localhost:8080/"
        },
        "id": "jdXbHF-uDSOI",
        "outputId": "f7ce0d9f-9756-4d87-d282-c07e6184df33"
      },
      "source": [
        "#Mount the G Drive to access the data set\n",
        "from google.colab import drive\n",
        "drive.mount('/content/drive', force_remount=True)"
      ],
      "execution_count": 1,
      "outputs": [
        {
          "output_type": "stream",
          "name": "stdout",
          "text": [
            "Mounted at /content/drive\n"
          ]
        }
      ]
    },
    {
      "cell_type": "code",
      "metadata": {
        "id": "wbbEgbVfDpwb"
      },
      "source": [
        "dataset_path = '/content/drive/MyDrive/Colab Notebooks/CoNLL/train.txt'\n",
        "dataset = []\n",
        "with open(dataset_path) as fp:\n",
        "  sentence = 1\n",
        "  lines = fp.readlines()\n",
        "  for line in lines:\n",
        "    if (not line in [\"\\n\", \"\\r\\n\"]):\n",
        "      line_arr = line.split(' ')\n",
        "      word = line_arr[0]\n",
        "      tag = line_arr[3].strip()\n",
        "      dataset.append([sentence, word, tag])\n",
        "    else:\n",
        "      sentence += 1"
      ],
      "execution_count": 2,
      "outputs": []
    },
    {
      "cell_type": "code",
      "metadata": {
        "id": "Nb9wJ8eLFRTb"
      },
      "source": [
        "import pandas as pd\n",
        "import numpy as np"
      ],
      "execution_count": 4,
      "outputs": []
    },
    {
      "cell_type": "code",
      "metadata": {
        "id": "sm2TPTUODpqq"
      },
      "source": [
        "datasetdf = pd.DataFrame(np.array(dataset), columns=[\"sentence #\", \"word\", \"tag\"])"
      ],
      "execution_count": 5,
      "outputs": []
    },
    {
      "cell_type": "code",
      "metadata": {
        "colab": {
          "base_uri": "https://localhost:8080/",
          "height": 414
        },
        "id": "kWS-xWNmFONI",
        "outputId": "38644071-ebca-402e-83f3-75dd6bab12cf"
      },
      "source": [
        "datasetdf"
      ],
      "execution_count": 6,
      "outputs": [
        {
          "output_type": "execute_result",
          "data": {
            "text/html": [
              "<div>\n",
              "<style scoped>\n",
              "    .dataframe tbody tr th:only-of-type {\n",
              "        vertical-align: middle;\n",
              "    }\n",
              "\n",
              "    .dataframe tbody tr th {\n",
              "        vertical-align: top;\n",
              "    }\n",
              "\n",
              "    .dataframe thead th {\n",
              "        text-align: right;\n",
              "    }\n",
              "</style>\n",
              "<table border=\"1\" class=\"dataframe\">\n",
              "  <thead>\n",
              "    <tr style=\"text-align: right;\">\n",
              "      <th></th>\n",
              "      <th>sentence #</th>\n",
              "      <th>word</th>\n",
              "      <th>tag</th>\n",
              "    </tr>\n",
              "  </thead>\n",
              "  <tbody>\n",
              "    <tr>\n",
              "      <th>0</th>\n",
              "      <td>1</td>\n",
              "      <td>-DOCSTART-</td>\n",
              "      <td>O</td>\n",
              "    </tr>\n",
              "    <tr>\n",
              "      <th>1</th>\n",
              "      <td>2</td>\n",
              "      <td>EU</td>\n",
              "      <td>B-ORG</td>\n",
              "    </tr>\n",
              "    <tr>\n",
              "      <th>2</th>\n",
              "      <td>2</td>\n",
              "      <td>rejects</td>\n",
              "      <td>O</td>\n",
              "    </tr>\n",
              "    <tr>\n",
              "      <th>3</th>\n",
              "      <td>2</td>\n",
              "      <td>German</td>\n",
              "      <td>B-MISC</td>\n",
              "    </tr>\n",
              "    <tr>\n",
              "      <th>4</th>\n",
              "      <td>2</td>\n",
              "      <td>call</td>\n",
              "      <td>O</td>\n",
              "    </tr>\n",
              "    <tr>\n",
              "      <th>...</th>\n",
              "      <td>...</td>\n",
              "      <td>...</td>\n",
              "      <td>...</td>\n",
              "    </tr>\n",
              "    <tr>\n",
              "      <th>204562</th>\n",
              "      <td>14986</td>\n",
              "      <td>three</td>\n",
              "      <td>O</td>\n",
              "    </tr>\n",
              "    <tr>\n",
              "      <th>204563</th>\n",
              "      <td>14987</td>\n",
              "      <td>Swansea</td>\n",
              "      <td>B-ORG</td>\n",
              "    </tr>\n",
              "    <tr>\n",
              "      <th>204564</th>\n",
              "      <td>14987</td>\n",
              "      <td>1</td>\n",
              "      <td>O</td>\n",
              "    </tr>\n",
              "    <tr>\n",
              "      <th>204565</th>\n",
              "      <td>14987</td>\n",
              "      <td>Lincoln</td>\n",
              "      <td>B-ORG</td>\n",
              "    </tr>\n",
              "    <tr>\n",
              "      <th>204566</th>\n",
              "      <td>14987</td>\n",
              "      <td>2</td>\n",
              "      <td>O</td>\n",
              "    </tr>\n",
              "  </tbody>\n",
              "</table>\n",
              "<p>204567 rows × 3 columns</p>\n",
              "</div>"
            ],
            "text/plain": [
              "       sentence #        word     tag\n",
              "0               1  -DOCSTART-       O\n",
              "1               2          EU   B-ORG\n",
              "2               2     rejects       O\n",
              "3               2      German  B-MISC\n",
              "4               2        call       O\n",
              "...           ...         ...     ...\n",
              "204562      14986       three       O\n",
              "204563      14987     Swansea   B-ORG\n",
              "204564      14987           1       O\n",
              "204565      14987     Lincoln   B-ORG\n",
              "204566      14987           2       O\n",
              "\n",
              "[204567 rows x 3 columns]"
            ]
          },
          "metadata": {},
          "execution_count": 6
        }
      ]
    },
    {
      "cell_type": "code",
      "metadata": {
        "colab": {
          "base_uri": "https://localhost:8080/"
        },
        "id": "2BMG_MXZGB_0",
        "outputId": "2345936f-cfb0-40be-f14f-d11d0f58f597"
      },
      "source": [
        "datasetdf['tag'].value_counts()"
      ],
      "execution_count": 8,
      "outputs": [
        {
          "output_type": "execute_result",
          "data": {
            "text/plain": [
              "O         170524\n",
              "B-LOC       7140\n",
              "B-PER       6600\n",
              "B-ORG       6321\n",
              "I-PER       4528\n",
              "I-ORG       3704\n",
              "B-MISC      3438\n",
              "I-LOC       1157\n",
              "I-MISC      1155\n",
              "Name: tag, dtype: int64"
            ]
          },
          "metadata": {},
          "execution_count": 8
        }
      ]
    },
    {
      "cell_type": "code",
      "metadata": {
        "id": "sYV3xX-KKfig"
      },
      "source": [
        "def computeRatioAwal(dataset):\n",
        "  negative = dataset.apply(lambda x : True if x['tag'] == \"O\" else False, axis = 1)\n",
        "  num_negative = len(negative[negative == True].index)\n",
        "  num_positive = len(negative[negative == False].index)\n",
        "  return num_negative / num_positive "
      ],
      "execution_count": 26,
      "outputs": []
    },
    {
      "cell_type": "code",
      "metadata": {
        "colab": {
          "base_uri": "https://localhost:8080/"
        },
        "id": "KgdLwtrhKhdI",
        "outputId": "fce16857-e176-4418-8ada-276cd7c3979e"
      },
      "source": [
        "print(computeRatioAwal(datasetdf))"
      ],
      "execution_count": 27,
      "outputs": [
        {
          "output_type": "stream",
          "name": "stdout",
          "text": [
            "5.0090767558675795\n"
          ]
        }
      ]
    },
    {
      "cell_type": "code",
      "metadata": {
        "colab": {
          "base_uri": "https://localhost:8080/",
          "height": 566
        },
        "id": "6E0OEAZQF8kB",
        "outputId": "a30dae4e-12d3-4d08-d44e-8cab7de67f93"
      },
      "source": [
        "import matplotlib.pyplot as plt\n",
        "import seaborn as sns\n",
        "\n",
        "plt.figure(figsize = (16,8))\n",
        "sns.set_style('darkgrid')\n",
        "sns.histplot(datasetdf['tag'])\n",
        "plt.tight_layout(pad=2)\n",
        "plt.show()"
      ],
      "execution_count": 7,
      "outputs": [
        {
          "output_type": "display_data",
          "data": {
            "image/png": "[encoded data removed]",
            "text/plain": [
              "<Figure size 1152x576 with 1 Axes>"
            ]
          },
          "metadata": {
            "needs_background": "light"
          }
        }
      ]
    },
    {
      "cell_type": "markdown",
      "metadata": {
        "id": "PgD_KfjjGLlO"
      },
      "source": [
        "Preprocessing"
      ]
    },
    {
      "cell_type": "code",
      "metadata": {
        "id": "n3J89AdMGMyY"
      },
      "source": [
        "from itertools import chain\n",
        "def get_dict_map(data, token_or_tag):\n",
        "    tok2idx = {}\n",
        "    idx2tok = {}\n",
        "    \n",
        "    if token_or_tag == 'token':\n",
        "        vocab = list(set(data['word'].to_list()))\n",
        "    else:\n",
        "        vocab = list(set(data['tag'].to_list()))\n",
        "    \n",
        "    idx2tok = {idx:tok for  idx, tok in enumerate(vocab)}\n",
        "    tok2idx = {tok:idx for  idx, tok in enumerate(vocab)}\n",
        "    return tok2idx, idx2tok\n",
        "token2idx, idx2token = get_dict_map(datasetdf, 'token')\n",
        "tag2idx, idx2tag = get_dict_map(datasetdf, 'tag')"
      ],
      "execution_count": 9,
      "outputs": []
    },
    {
      "cell_type": "code",
      "metadata": {
        "colab": {
          "base_uri": "https://localhost:8080/"
        },
        "id": "JUUxmsgkGXdC",
        "outputId": "c8aa2ae5-b712-4de1-9c99-d8a5707cfdb2"
      },
      "source": [
        "datasetdf['word_idx'] = datasetdf['word'].map(token2idx)\n",
        "datasetdf['tag_idx'] = datasetdf['tag'].map(tag2idx)\n",
        "datasetdf_fillna = datasetdf.fillna(method='ffill', axis=0)\n",
        "# Groupby and collect columns\n",
        "datasetdf_group = datasetdf_fillna.groupby(\n",
        "['sentence #'],as_index=False\n",
        ")['word', 'tag', 'word_idx', 'tag_idx'].agg(lambda x: list(x))"
      ],
      "execution_count": 11,
      "outputs": [
        {
          "output_type": "stream",
          "name": "stderr",
          "text": [
            "/usr/local/lib/python3.7/dist-packages/ipykernel_launcher.py:7: FutureWarning: Indexing with multiple keys (implicitly converted to a tuple of keys) will be deprecated, use a list instead.\n",
            "  import sys\n"
          ]
        }
      ]
    },
    {
      "cell_type": "code",
      "metadata": {
        "colab": {
          "base_uri": "https://localhost:8080/",
          "height": 414
        },
        "id": "ncj_HPedGm-J",
        "outputId": "b2ebfe78-ca90-427e-e367-fd3f57a57851"
      },
      "source": [
        "datasetdf_group"
      ],
      "execution_count": 12,
      "outputs": [
        {
          "output_type": "execute_result",
          "data": {
            "text/html": [
              "<div>\n",
              "<style scoped>\n",
              "    .dataframe tbody tr th:only-of-type {\n",
              "        vertical-align: middle;\n",
              "    }\n",
              "\n",
              "    .dataframe tbody tr th {\n",
              "        vertical-align: top;\n",
              "    }\n",
              "\n",
              "    .dataframe thead th {\n",
              "        text-align: right;\n",
              "    }\n",
              "</style>\n",
              "<table border=\"1\" class=\"dataframe\">\n",
              "  <thead>\n",
              "    <tr style=\"text-align: right;\">\n",
              "      <th></th>\n",
              "      <th>sentence #</th>\n",
              "      <th>word</th>\n",
              "      <th>tag</th>\n",
              "      <th>word_idx</th>\n",
              "      <th>tag_idx</th>\n",
              "    </tr>\n",
              "  </thead>\n",
              "  <tbody>\n",
              "    <tr>\n",
              "      <th>0</th>\n",
              "      <td>1</td>\n",
              "      <td>[-DOCSTART-]</td>\n",
              "      <td>[O]</td>\n",
              "      <td>[11715]</td>\n",
              "      <td>[8]</td>\n",
              "    </tr>\n",
              "    <tr>\n",
              "      <th>1</th>\n",
              "      <td>10</td>\n",
              "      <td>[Fischler, proposed, EU-wide, measures, after,...</td>\n",
              "      <td>[B-PER, O, B-MISC, O, O, O, O, B-LOC, O, B-LOC...</td>\n",
              "      <td>[20215, 10963, 19004, 19997, 7087, 19751, 1001...</td>\n",
              "      <td>[0, 8, 7, 8, 8, 8, 8, 3, 8, 3, 8, 8, 8, 8, 8, ...</td>\n",
              "    </tr>\n",
              "    <tr>\n",
              "      <th>2</th>\n",
              "      <td>100</td>\n",
              "      <td>[Port, conditions, update, -, Syria, -, Lloyds...</td>\n",
              "      <td>[O, O, O, O, B-LOC, O, B-ORG, I-ORG, O]</td>\n",
              "      <td>[19933, 9645, 22595, 2099, 18058, 2099, 7525, ...</td>\n",
              "      <td>[8, 8, 8, 8, 3, 8, 1, 5, 8]</td>\n",
              "    </tr>\n",
              "    <tr>\n",
              "      <th>3</th>\n",
              "      <td>1000</td>\n",
              "      <td>[-DOCSTART-]</td>\n",
              "      <td>[O]</td>\n",
              "      <td>[11715]</td>\n",
              "      <td>[8]</td>\n",
              "    </tr>\n",
              "    <tr>\n",
              "      <th>4</th>\n",
              "      <td>10000</td>\n",
              "      <td>[*, Reinsurance, group, Scor, gained, 2.1, per...</td>\n",
              "      <td>[O, O, O, B-ORG, O, O, O, O, O, O, O, O, O, B-...</td>\n",
              "      <td>[3853, 18982, 14492, 16966, 13905, 12873, 5556...</td>\n",
              "      <td>[8, 8, 8, 1, 8, 8, 8, 8, 8, 8, 8, 8, 8, 7, 8, ...</td>\n",
              "    </tr>\n",
              "    <tr>\n",
              "      <th>...</th>\n",
              "      <td>...</td>\n",
              "      <td>...</td>\n",
              "      <td>...</td>\n",
              "      <td>...</td>\n",
              "      <td>...</td>\n",
              "    </tr>\n",
              "    <tr>\n",
              "      <th>14982</th>\n",
              "      <td>9995</td>\n",
              "      <td>[Index, heavyweights, Elf, and, Rhone, Poulenc...</td>\n",
              "      <td>[O, O, B-ORG, O, B-ORG, I-ORG, O, O, O, O, O, ...</td>\n",
              "      <td>[20553, 21361, 1263, 9531, 8728, 2312, 6471, 4...</td>\n",
              "      <td>[8, 8, 1, 8, 1, 5, 8, 8, 8, 8, 8, 8, 3, 8, 8, ...</td>\n",
              "    </tr>\n",
              "    <tr>\n",
              "      <th>14983</th>\n",
              "      <td>9996</td>\n",
              "      <td>[\", People, are, morose, and, it, 's, not, the...</td>\n",
              "      <td>[O, O, O, O, O, O, O, O, O, O, O, O, O, O, O, ...</td>\n",
              "      <td>[12567, 13912, 15541, 13643, 9531, 18620, 4105...</td>\n",
              "      <td>[8, 8, 8, 8, 8, 8, 8, 8, 8, 8, 8, 8, 8, 8, 8, ...</td>\n",
              "    </tr>\n",
              "    <tr>\n",
              "      <th>14984</th>\n",
              "      <td>9997</td>\n",
              "      <td>[*, UIC, ,, part, of, insurer, GAN, ,, slid, 1...</td>\n",
              "      <td>[O, B-ORG, O, O, O, O, B-ORG, O, O, O, O, O, O...</td>\n",
              "      <td>[3853, 21800, 15031, 20534, 6709, 18199, 4679,...</td>\n",
              "      <td>[8, 1, 8, 8, 8, 8, 1, 8, 8, 8, 8, 8, 8, 8, 8, ...</td>\n",
              "    </tr>\n",
              "    <tr>\n",
              "      <th>14985</th>\n",
              "      <td>9998</td>\n",
              "      <td>[Markets, were, disappointed, by, a, recapital...</td>\n",
              "      <td>[O, O, O, O, O, O, O, O, O, O, O, O, O, O, O, ...</td>\n",
              "      <td>[23193, 20891, 20388, 8678, 17285, 4551, 6709,...</td>\n",
              "      <td>[8, 8, 8, 8, 8, 8, 8, 8, 8, 8, 8, 8, 8, 8, 8, ...</td>\n",
              "    </tr>\n",
              "    <tr>\n",
              "      <th>14986</th>\n",
              "      <td>9999</td>\n",
              "      <td>[*, Supermarkets, group, Carrefour, gained, 2....</td>\n",
              "      <td>[O, O, O, B-ORG, O, O, O, O, O, O, O, O, B-ORG...</td>\n",
              "      <td>[3853, 10833, 14492, 2603, 13905, 3391, 5556, ...</td>\n",
              "      <td>[8, 8, 8, 1, 8, 8, 8, 8, 8, 8, 8, 8, 1, 5, 5, ...</td>\n",
              "    </tr>\n",
              "  </tbody>\n",
              "</table>\n",
              "<p>14987 rows × 5 columns</p>\n",
              "</div>"
            ],
            "text/plain": [
              "      sentence #  ...                                            tag_idx\n",
              "0              1  ...                                                [8]\n",
              "1             10  ...  [0, 8, 7, 8, 8, 8, 8, 3, 8, 3, 8, 8, 8, 8, 8, ...\n",
              "2            100  ...                        [8, 8, 8, 8, 3, 8, 1, 5, 8]\n",
              "3           1000  ...                                                [8]\n",
              "4          10000  ...  [8, 8, 8, 1, 8, 8, 8, 8, 8, 8, 8, 8, 8, 7, 8, ...\n",
              "...          ...  ...                                                ...\n",
              "14982       9995  ...  [8, 8, 1, 8, 1, 5, 8, 8, 8, 8, 8, 8, 3, 8, 8, ...\n",
              "14983       9996  ...  [8, 8, 8, 8, 8, 8, 8, 8, 8, 8, 8, 8, 8, 8, 8, ...\n",
              "14984       9997  ...  [8, 1, 8, 8, 8, 8, 1, 8, 8, 8, 8, 8, 8, 8, 8, ...\n",
              "14985       9998  ...  [8, 8, 8, 8, 8, 8, 8, 8, 8, 8, 8, 8, 8, 8, 8, ...\n",
              "14986       9999  ...  [8, 8, 8, 1, 8, 8, 8, 8, 8, 8, 8, 8, 1, 5, 5, ...\n",
              "\n",
              "[14987 rows x 5 columns]"
            ]
          },
          "metadata": {},
          "execution_count": 12
        }
      ]
    },
    {
      "cell_type": "code",
      "metadata": {
        "id": "HvNyldtxG317"
      },
      "source": [
        "import numpy as np \n",
        "from sklearn.model_selection import train_test_split\n",
        "from tensorflow.keras.preprocessing.sequence import pad_sequences\n",
        "from tensorflow.keras.utils import to_categorical\n",
        "\n",
        "def get_pad_train_test_val(data_group, data):\n",
        "\n",
        "    #get max token and tag length\n",
        "    n_token = len(list(set(data['word'].to_list())))\n",
        "    n_tag = len(list(set(data['tag'].to_list())))\n",
        "\n",
        "    #Pad tokens (X var)    \n",
        "    tokens = data_group['word_idx'].tolist()\n",
        "    maxlen = max([len(s) for s in tokens])\n",
        "    pad_tokens = pad_sequences(tokens, maxlen=maxlen, dtype='int32', padding='post', value= n_token - 1)\n",
        "\n",
        "    #Pad Tags (y var) and convert it into one hot encoding\n",
        "    tags = data_group['tag_idx'].tolist()\n",
        "    pad_tags = pad_sequences(tags, maxlen=maxlen, dtype='int32', padding='post', value= tag2idx[\"O\"])\n",
        "    n_tags = len(tag2idx)\n",
        "    pad_tags = [to_categorical(i, num_classes=n_tags) for i in pad_tags]\n",
        "    \n",
        "    #Split train, test and validation set\n",
        "    tokens_, test_tokens, tags_, test_tags = train_test_split(pad_tokens, pad_tags, test_size=0.1, train_size=0.9, random_state=2020)\n",
        "    train_tokens, val_tokens, train_tags, val_tags = train_test_split(tokens_, tags_, test_size = 0.25,train_size =0.75, random_state=2020)\n",
        "\n",
        "    print(\n",
        "        'train_tokens length:', len(train_tokens),\n",
        "        '\\ntrain_tokens length:', len(train_tokens),\n",
        "        '\\ntest_tokens length:', len(test_tokens),\n",
        "        '\\ntest_tags:', len(test_tags),\n",
        "        '\\nval_tokens:', len(val_tokens),\n",
        "        '\\nval_tags:', len(val_tags),\n",
        "    )\n",
        "    \n",
        "    return train_tokens, val_tokens, test_tokens, train_tags, val_tags, test_tags"
      ],
      "execution_count": 13,
      "outputs": []
    },
    {
      "cell_type": "code",
      "metadata": {
        "colab": {
          "base_uri": "https://localhost:8080/"
        },
        "id": "7G2z_689HWQf",
        "outputId": "704efd24-d487-4607-f900-488416c471bd"
      },
      "source": [
        "train_tokens, val_tokens, test_tokens, train_tags, val_tags, test_tags = get_pad_train_test_val(datasetdf_group, datasetdf)\n",
        "train_tags = np.array(train_tags)\n",
        "val_tags = np.array(val_tags)\n",
        "test_tags = np.array(test_tags)\n",
        "print('train_tags: ',train_tags.shape,'val_tags: ',val_tags.shape,'test_tags: ',test_tags.shape)"
      ],
      "execution_count": 14,
      "outputs": [
        {
          "output_type": "stream",
          "name": "stdout",
          "text": [
            "train_tokens length: 10116 \n",
            "train_tokens length: 10116 \n",
            "test_tokens length: 1499 \n",
            "test_tags: 1499 \n",
            "val_tokens: 3372 \n",
            "val_tags: 3372\n",
            "train_tags:  (10116, 113, 9) val_tags:  (3372, 113, 9) test_tags:  (1499, 113, 9)\n"
          ]
        }
      ]
    },
    {
      "cell_type": "code",
      "metadata": {
        "colab": {
          "base_uri": "https://localhost:8080/"
        },
        "id": "7V-Tb2q4Hgx0",
        "outputId": "db2c2a85-1355-45a6-b77c-ed1e5cae5199"
      },
      "source": [
        "from sklearn.utils import class_weight\n",
        "\n",
        "train_temp_tags = np.ravel(np.argmax(train_tags, axis=-1))\n",
        "print(len(train_temp_tags))\n",
        "\n",
        "class_weights = class_weight.compute_class_weight(\n",
        "    class_weight ='balanced', \n",
        "    classes = np.unique(train_temp_tags), \n",
        "    y = train_temp_tags\n",
        "    )\n",
        "class_weight_dict = dict(enumerate(class_weights))\n",
        "print(class_weight_dict)\n",
        "\n",
        "train_label = np.argmax(train_tags, axis=-1)\n",
        "print(train_tokens.shape)\n",
        "print(train_label.shape)"
      ],
      "execution_count": 15,
      "outputs": [
        {
          "output_type": "stream",
          "name": "stdout",
          "text": [
            "1143108\n",
            "{0: 27.939287285525737, 1: 29.97687042718905, 2: 40.82674381227901, 3: 25.995088006549324, 4: 157.38785625774474, 5: 50.4616607071911, 6: 157.58312655086849, 7: 54.34830979888746, 8: 0.11341764736873594}\n",
            "(10116, 113)\n",
            "(10116, 113)\n"
          ]
        }
      ]
    },
    {
      "cell_type": "markdown",
      "metadata": {
        "id": "gpJ1psK9H1Vx"
      },
      "source": [
        "Create and Train Model (BiLSTM)"
      ]
    },
    {
      "cell_type": "code",
      "metadata": {
        "id": "YBrTCF2GH4O1"
      },
      "source": [
        "import numpy as np\n",
        "import tensorflow\n",
        "from tensorflow.keras.models import Sequential, Model\n",
        "from tensorflow.keras.layers import LSTM, Embedding, Dense, TimeDistributed, Dropout, Bidirectional, Input\n",
        "from tensorflow.keras.utils import plot_model\n",
        "from numpy.random import seed\n",
        "seed(1)\n",
        "tensorflow.random.set_seed(2)"
      ],
      "execution_count": 16,
      "outputs": []
    },
    {
      "cell_type": "code",
      "metadata": {
        "id": "T0994PYRH9iG"
      },
      "source": [
        "input_dim = len(list(set(datasetdf['word'].to_list())))+1\n",
        "output_dim = 64\n",
        "input_length = max([len(s) for s in datasetdf_group['word_idx'].tolist()])\n",
        "n_tags = len(tag2idx)"
      ],
      "execution_count": 17,
      "outputs": []
    },
    {
      "cell_type": "code",
      "metadata": {
        "id": "X5MHBXrKIGX6"
      },
      "source": [
        "def get_bilstm_lstm_model():\n",
        "    model = Sequential()\n",
        "    model.add(Embedding(input_dim=input_dim, output_dim=output_dim, input_length=input_length))\n",
        "    model.add(Bidirectional(LSTM(units=output_dim, return_sequences=True, dropout=0.2, recurrent_dropout=0.2), merge_mode = 'concat'))\n",
        "    model.add(LSTM(units=output_dim, return_sequences=True, dropout=0.5, recurrent_dropout=0.5))\n",
        "    model.add((Dense(n_tags, activation=\"softmax\")))\n",
        "\n",
        "    model.compile(loss='sparse_categorical_crossentropy', optimizer='adam', metrics=['accuracy'])\n",
        "    model.summary()\n",
        "    \n",
        "    return model"
      ],
      "execution_count": 18,
      "outputs": []
    },
    {
      "cell_type": "code",
      "metadata": {
        "colab": {
          "base_uri": "https://localhost:8080/"
        },
        "id": "KUY-cSDsIjh0",
        "outputId": "17a0ce97-7cb4-4af9-ba03-8b7b65f4e558"
      },
      "source": [
        "maj_index = tag2idx['O']\n",
        "\n",
        "''' Change it More for Better Fine-Tuning '''\n",
        "\n",
        "class_weight_dict[maj_index] = 28.5277954105731576 \n",
        "print(class_weight_dict)\n",
        "sample_weights = np.ones(shape=(len(train_label), train_label.shape[-1]))\n",
        "for i in range(17):\n",
        "    sample_weights[train_label == i] = class_weight_dict.get(i)\n",
        "print(sample_weights.shape)"
      ],
      "execution_count": 20,
      "outputs": [
        {
          "output_type": "stream",
          "name": "stdout",
          "text": [
            "{0: 27.939287285525737, 1: 29.97687042718905, 2: 40.82674381227901, 3: 25.995088006549324, 4: 157.38785625774474, 5: 50.4616607071911, 6: 157.58312655086849, 7: 54.34830979888746, 8: 28.52779541057316}\n",
            "(10116, 113)\n"
          ]
        }
      ]
    },
    {
      "cell_type": "code",
      "metadata": {
        "colab": {
          "base_uri": "https://localhost:8080/",
          "height": 661
        },
        "id": "1kA-dy7gIMFj",
        "outputId": "9f2ab0eb-02a8-4b9a-9ed5-bb58642901f3"
      },
      "source": [
        "nlp_model = get_bilstm_lstm_model()\n",
        "plot_model(nlp_model)\n",
        "his = nlp_model.fit(train_tokens, train_label , batch_size = 64, epochs=5, validation_split=0.2, sample_weight = sample_weights) \n"
      ],
      "execution_count": 21,
      "outputs": [
        {
          "output_type": "stream",
          "name": "stdout",
          "text": [
            "Model: \"sequential_1\"\n",
            "_________________________________________________________________\n",
            " Layer (type)                Output Shape              Param #   \n",
            "=================================================================\n",
            " embedding_1 (Embedding)     (None, 113, 64)           1512000   \n",
            "                                                                 \n",
            " bidirectional_1 (Bidirectio  (None, 113, 128)         66048     \n",
            " nal)                                                            \n",
            "                                                                 \n",
            " lstm_3 (LSTM)               (None, 113, 64)           49408     \n",
            "                                                                 \n",
            " dense_1 (Dense)             (None, 113, 9)            585       \n",
            "                                                                 \n",
            "=================================================================\n",
            "Total params: 1,628,041\n",
            "Trainable params: 1,628,041\n",
            "Non-trainable params: 0\n",
            "_________________________________________________________________\n",
            "Epoch 1/5\n",
            "127/127 [==============================] - 100s 718ms/step - loss: 8.0451 - accuracy: 0.9720 - val_loss: 3.8851 - val_accuracy: 0.9798\n",
            "Epoch 2/5\n",
            "127/127 [==============================] - 90s 710ms/step - loss: 3.5696 - accuracy: 0.9796 - val_loss: 3.2455 - val_accuracy: 0.9798\n",
            "Epoch 3/5\n",
            "127/127 [==============================] - 90s 709ms/step - loss: 2.7252 - accuracy: 0.9798 - val_loss: 2.3620 - val_accuracy: 0.9811\n",
            "Epoch 4/5\n",
            "127/127 [==============================] - 90s 710ms/step - loss: 1.9948 - accuracy: 0.9826 - val_loss: 2.0248 - val_accuracy: 0.9844\n",
            "Epoch 5/5\n",
            "127/127 [==============================] - 90s 709ms/step - loss: 1.6393 - accuracy: 0.9859 - val_loss: 1.8361 - val_accuracy: 0.9861\n"
          ]
        },
        {
          "output_type": "error",
          "ename": "NameError",
          "evalue": "ignored",
          "traceback": [
            "\u001b[0;31m---------------------------------------------------------------------------\u001b[0m",
            "\u001b[0;31mNameError\u001b[0m                                 Traceback (most recent call last)",
            "\u001b[0;32m<ipython-input-21-5c1f2c0b4e19>\u001b[0m in \u001b[0;36m<module>\u001b[0;34m()\u001b[0m\n\u001b[1;32m      2\u001b[0m \u001b[0mplot_model\u001b[0m\u001b[0;34m(\u001b[0m\u001b[0mnlp_model\u001b[0m\u001b[0;34m)\u001b[0m\u001b[0;34m\u001b[0m\u001b[0;34m\u001b[0m\u001b[0m\n\u001b[1;32m      3\u001b[0m \u001b[0mhis\u001b[0m \u001b[0;34m=\u001b[0m \u001b[0mnlp_model\u001b[0m\u001b[0;34m.\u001b[0m\u001b[0mfit\u001b[0m\u001b[0;34m(\u001b[0m\u001b[0mtrain_tokens\u001b[0m\u001b[0;34m,\u001b[0m \u001b[0mtrain_label\u001b[0m \u001b[0;34m,\u001b[0m \u001b[0mbatch_size\u001b[0m \u001b[0;34m=\u001b[0m \u001b[0;36m64\u001b[0m\u001b[0;34m,\u001b[0m \u001b[0mepochs\u001b[0m\u001b[0;34m=\u001b[0m\u001b[0;36m5\u001b[0m\u001b[0;34m,\u001b[0m \u001b[0mvalidation_split\u001b[0m\u001b[0;34m=\u001b[0m\u001b[0;36m0.2\u001b[0m\u001b[0;34m,\u001b[0m \u001b[0msample_weight\u001b[0m \u001b[0;34m=\u001b[0m \u001b[0msample_weights\u001b[0m\u001b[0;34m)\u001b[0m\u001b[0;34m\u001b[0m\u001b[0;34m\u001b[0m\u001b[0m\n\u001b[0;32m----> 4\u001b[0;31m \u001b[0mtf\u001b[0m\u001b[0;34m.\u001b[0m\u001b[0mkeras\u001b[0m\u001b[0;34m.\u001b[0m\u001b[0mmodels\u001b[0m\u001b[0;34m.\u001b[0m\u001b[0msave_model\u001b[0m\u001b[0;34m(\u001b[0m\u001b[0mnlp_model\u001b[0m\u001b[0;34m,\u001b[0m \u001b[0mfilepath\u001b[0m  \u001b[0;34m=\u001b[0m \u001b[0;34m\"/content/drive/MyDrive/Colab Notebooks/ner-kk/bilstm_CoNLL_baseline.h5\"\u001b[0m\u001b[0;34m)\u001b[0m\u001b[0;34m\u001b[0m\u001b[0;34m\u001b[0m\u001b[0m\n\u001b[0m",
            "\u001b[0;31mNameError\u001b[0m: name 'tf' is not defined"
          ]
        }
      ]
    },
    {
      "cell_type": "code",
      "metadata": {
        "id": "gXPZJ-HiKsdl"
      },
      "source": [
        "import tensorflow as tf\n",
        "tf.keras.models.save_model(nlp_model, filepath  = \"/content/drive/MyDrive/Colab Notebooks/ner-kk/bilstm_CoNLL_baseline.h5\")"
      ],
      "execution_count": 22,
      "outputs": []
    },
    {
      "cell_type": "markdown",
      "metadata": {
        "id": "g3783nJkI2o6"
      },
      "source": [
        "Model Evaluation"
      ]
    },
    {
      "cell_type": "code",
      "metadata": {
        "colab": {
          "base_uri": "https://localhost:8080/"
        },
        "id": "EPcWcn0AI0a_",
        "outputId": "4a156c5a-3b74-4244-c5ec-32563ffac8f5"
      },
      "source": [
        "nlp_model = tf.keras.models.load_model('/content/drive/MyDrive/Colab Notebooks/ner-kk/bilstm_CoNLL_baseline.h5')\n",
        "\n",
        "y_test = np.argmax(test_tags, axis=-1)\n",
        "print(test_tokens.shape,y_test.shape)\n",
        "nlp_model.evaluate(test_tokens, y_test)"
      ],
      "execution_count": 23,
      "outputs": [
        {
          "output_type": "stream",
          "name": "stdout",
          "text": [
            "(1499, 113) (1499, 113)\n",
            "47/47 [==============================] - 4s 63ms/step - loss: 0.0403 - accuracy: 0.9868\n"
          ]
        },
        {
          "output_type": "execute_result",
          "data": {
            "text/plain": [
              "[0.040282320231199265, 0.9867699146270752]"
            ]
          },
          "metadata": {},
          "execution_count": 23
        }
      ]
    },
    {
      "cell_type": "code",
      "metadata": {
        "id": "2-ZJrAXaLVnk"
      },
      "source": [
        "def predict(seed):\n",
        "    query  = test_tokens[seed]\n",
        "    query_text = []\n",
        "    for i in query.tolist():\n",
        "        query_text.append(idx2token.get(i))\n",
        "    print('Query_Text: ',' '.join(query_text[:10]))\n",
        "\n",
        "    ans = y_test[seed]\n",
        "    ans_text = []\n",
        "    for i in ans.tolist():\n",
        "        ans_text.append(idx2tag.get(i))\n",
        "    print('Tag_Text: ',' '.join(ans_text[:10]))\n",
        "\n",
        "    query = query.reshape(1,-1)\n",
        "    pred = nlp_model.predict(query)\n",
        "    pred = np.ravel(np.argmax(pred, axis=-1))\n",
        "    print('Query: ',query.shape,'Prediction: ',pred.shape)\n",
        "\n",
        "    pred_list = []\n",
        "    for i in pred.tolist():\n",
        "        pred_list.append(idx2tag.get(i))\n",
        "    print('Prediction_Text: ',' '.join(pred_list[:10])) \n",
        "    print()\n",
        "    print('--- Better-Representation---')\n",
        "    print()\n",
        "    rep_qr = []\n",
        "    for q, r_tag in zip(query_text[:10], ans_text[:10]):\n",
        "        rep_qr.append(q)\n",
        "        rep_qr.append('['+r_tag+']')\n",
        "    print('Actual_NER: ',' '.join(rep_qr),'....')\n",
        "    print()\n",
        "    rep_qp = []\n",
        "    for q, r_tag in zip(query_text[:10], pred_list[:10]):\n",
        "        rep_qp.append(q)\n",
        "        rep_qp.append('['+r_tag+']')\n",
        "    print('--'*70)\n",
        "    print()\n",
        "    print('Predicted_NER: ',' '.join(rep_qp),'....')"
      ],
      "execution_count": 29,
      "outputs": []
    },
    {
      "cell_type": "code",
      "metadata": {
        "colab": {
          "base_uri": "https://localhost:8080/"
        },
        "id": "gkfbXlpWLjTe",
        "outputId": "4e9fe37b-43b6-4a70-b854-18d9f3e152c5"
      },
      "source": [
        "seed = 11\n",
        "predict(seed)"
      ],
      "execution_count": 33,
      "outputs": [
        {
          "output_type": "stream",
          "name": "stdout",
          "text": [
            "Query_Text:  In 1993 , she fell in Rome and broke three\n",
            "Tag_Text:  O O O O O O B-LOC O O O\n",
            "Query:  (1, 113) Prediction:  (113,)\n",
            "Prediction_Text:  O O O O O O B-PER O O O\n",
            "\n",
            "--- Better-Representation---\n",
            "\n",
            "Actual_NER:  In [O] 1993 [O] , [O] she [O] fell [O] in [O] Rome [B-LOC] and [O] broke [O] three [O] ....\n",
            "\n",
            "--------------------------------------------------------------------------------------------------------------------------------------------\n",
            "\n",
            "Predicted_NER:  In [O] 1993 [O] , [O] she [O] fell [O] in [O] Rome [B-PER] and [O] broke [O] three [O] ....\n"
          ]
        }
      ]
    }
  ]
}