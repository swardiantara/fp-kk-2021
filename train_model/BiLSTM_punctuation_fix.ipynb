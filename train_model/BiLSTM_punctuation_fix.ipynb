{
  "nbformat": 4,
  "nbformat_minor": 0,
  "metadata": {
    "colab": {
      "name": "BiLSTM_punctuation_fix.ipynb",
      "provenance": [],
      "collapsed_sections": []
    },
    "kernelspec": {
      "name": "python3",
      "display_name": "Python 3"
    },
    "language_info": {
      "name": "python"
    }
  },
  "cells": [
    {
      "cell_type": "code",
      "metadata": {
        "id": "p0QWS7I9cf3c"
      },
      "source": [
        "import tensorflow as tf\n",
        "import pandas as pd\n",
        "import numpy as np"
      ],
      "execution_count": 1,
      "outputs": []
    },
    {
      "cell_type": "code",
      "metadata": {
        "colab": {
          "base_uri": "https://localhost:8080/"
        },
        "id": "VSsf5tcDc8Ux",
        "outputId": "35a4ebe1-89a2-4cea-9f95-6aa1eb520461"
      },
      "source": [
        "from google.colab import drive\n",
        "drive.mount('/content/drive')"
      ],
      "execution_count": 2,
      "outputs": [
        {
          "output_type": "stream",
          "name": "stdout",
          "text": [
            "Drive already mounted at /content/drive; to attempt to forcibly remount, call drive.mount(\"/content/drive\", force_remount=True).\n"
          ]
        }
      ]
    },
    {
      "cell_type": "code",
      "metadata": {
        "id": "4EAekA0zc_wJ"
      },
      "source": [
        "train_path = '/content/drive/MyDrive/Colab Notebooks/FP-KK/dataset/train_punctuation_fix.csv'\n",
        "test_path = '/content/drive/MyDrive/Colab Notebooks/FP-KK/dataset/test_baseline_fix_index.csv'\n",
        "train_df = pd.read_csv(train_path, encoding= 'unicode_escape')\n",
        "test_df = pd.read_csv(test_path, encoding= 'unicode_escape')\n",
        "merged_df = train_df.append([test_df])"
      ],
      "execution_count": 3,
      "outputs": []
    },
    {
      "cell_type": "code",
      "metadata": {
        "colab": {
          "base_uri": "https://localhost:8080/",
          "height": 424
        },
        "id": "4S6DxGRGeQ-Z",
        "outputId": "ef06378b-f213-417d-fb8a-08837faeead8"
      },
      "source": [
        "train_df.drop(['Unnamed: 0'], inplace=True, axis=1)\n",
        "train_df"
      ],
      "execution_count": 4,
      "outputs": [
        {
          "output_type": "execute_result",
          "data": {
            "text/html": [
              "<div>\n",
              "<style scoped>\n",
              "    .dataframe tbody tr th:only-of-type {\n",
              "        vertical-align: middle;\n",
              "    }\n",
              "\n",
              "    .dataframe tbody tr th {\n",
              "        vertical-align: top;\n",
              "    }\n",
              "\n",
              "    .dataframe thead th {\n",
              "        text-align: right;\n",
              "    }\n",
              "</style>\n",
              "<table border=\"1\" class=\"dataframe\">\n",
              "  <thead>\n",
              "    <tr style=\"text-align: right;\">\n",
              "      <th></th>\n",
              "      <th>Sentence #</th>\n",
              "      <th>Word</th>\n",
              "      <th>Tag</th>\n",
              "      <th>Word_idx</th>\n",
              "      <th>Tag_idx</th>\n",
              "    </tr>\n",
              "  </thead>\n",
              "  <tbody>\n",
              "    <tr>\n",
              "      <th>0</th>\n",
              "      <td>Sentence: 1</td>\n",
              "      <td>Thousands</td>\n",
              "      <td>O</td>\n",
              "      <td>28285</td>\n",
              "      <td>0</td>\n",
              "    </tr>\n",
              "    <tr>\n",
              "      <th>1</th>\n",
              "      <td>Sentence: 1</td>\n",
              "      <td>of</td>\n",
              "      <td>O</td>\n",
              "      <td>15741</td>\n",
              "      <td>0</td>\n",
              "    </tr>\n",
              "    <tr>\n",
              "      <th>2</th>\n",
              "      <td>Sentence: 1</td>\n",
              "      <td>demonstrators</td>\n",
              "      <td>O</td>\n",
              "      <td>1523</td>\n",
              "      <td>0</td>\n",
              "    </tr>\n",
              "    <tr>\n",
              "      <th>3</th>\n",
              "      <td>Sentence: 1</td>\n",
              "      <td>have</td>\n",
              "      <td>O</td>\n",
              "      <td>367</td>\n",
              "      <td>0</td>\n",
              "    </tr>\n",
              "    <tr>\n",
              "      <th>4</th>\n",
              "      <td>Sentence: 1</td>\n",
              "      <td>marched</td>\n",
              "      <td>O</td>\n",
              "      <td>13632</td>\n",
              "      <td>0</td>\n",
              "    </tr>\n",
              "    <tr>\n",
              "      <th>...</th>\n",
              "      <td>...</td>\n",
              "      <td>...</td>\n",
              "      <td>...</td>\n",
              "      <td>...</td>\n",
              "      <td>...</td>\n",
              "    </tr>\n",
              "    <tr>\n",
              "      <th>730978</th>\n",
              "      <td>Sentence: 44529</td>\n",
              "      <td>power</td>\n",
              "      <td>O</td>\n",
              "      <td>6845</td>\n",
              "      <td>0</td>\n",
              "    </tr>\n",
              "    <tr>\n",
              "      <th>730979</th>\n",
              "      <td>Sentence: 44529</td>\n",
              "      <td>as</td>\n",
              "      <td>O</td>\n",
              "      <td>21619</td>\n",
              "      <td>0</td>\n",
              "    </tr>\n",
              "    <tr>\n",
              "      <th>730980</th>\n",
              "      <td>Sentence: 44529</td>\n",
              "      <td>alternatives</td>\n",
              "      <td>O</td>\n",
              "      <td>21279</td>\n",
              "      <td>0</td>\n",
              "    </tr>\n",
              "    <tr>\n",
              "      <th>730981</th>\n",
              "      <td>Sentence: 44529</td>\n",
              "      <td>to</td>\n",
              "      <td>O</td>\n",
              "      <td>34610</td>\n",
              "      <td>0</td>\n",
              "    </tr>\n",
              "    <tr>\n",
              "      <th>730982</th>\n",
              "      <td>Sentence: 44529</td>\n",
              "      <td>oil</td>\n",
              "      <td>O</td>\n",
              "      <td>23416</td>\n",
              "      <td>0</td>\n",
              "    </tr>\n",
              "  </tbody>\n",
              "</table>\n",
              "<p>730983 rows × 5 columns</p>\n",
              "</div>"
            ],
            "text/plain": [
              "             Sentence #           Word Tag  Word_idx  Tag_idx\n",
              "0           Sentence: 1      Thousands   O     28285        0\n",
              "1           Sentence: 1             of   O     15741        0\n",
              "2           Sentence: 1  demonstrators   O      1523        0\n",
              "3           Sentence: 1           have   O       367        0\n",
              "4           Sentence: 1        marched   O     13632        0\n",
              "...                 ...            ...  ..       ...      ...\n",
              "730978  Sentence: 44529          power   O      6845        0\n",
              "730979  Sentence: 44529             as   O     21619        0\n",
              "730980  Sentence: 44529   alternatives   O     21279        0\n",
              "730981  Sentence: 44529             to   O     34610        0\n",
              "730982  Sentence: 44529            oil   O     23416        0\n",
              "\n",
              "[730983 rows x 5 columns]"
            ]
          },
          "metadata": {},
          "execution_count": 4
        }
      ]
    },
    {
      "cell_type": "code",
      "metadata": {
        "colab": {
          "base_uri": "https://localhost:8080/",
          "height": 424
        },
        "id": "7k4ZyE1oe5Kd",
        "outputId": "0c261bdf-7210-4da9-a4b7-af02311f7dfa"
      },
      "source": [
        "test_df.drop(['Unnamed: 0'], inplace=True, axis=1)\n",
        "test_df"
      ],
      "execution_count": 5,
      "outputs": [
        {
          "output_type": "execute_result",
          "data": {
            "text/html": [
              "<div>\n",
              "<style scoped>\n",
              "    .dataframe tbody tr th:only-of-type {\n",
              "        vertical-align: middle;\n",
              "    }\n",
              "\n",
              "    .dataframe tbody tr th {\n",
              "        vertical-align: top;\n",
              "    }\n",
              "\n",
              "    .dataframe thead th {\n",
              "        text-align: right;\n",
              "    }\n",
              "</style>\n",
              "<table border=\"1\" class=\"dataframe\">\n",
              "  <thead>\n",
              "    <tr style=\"text-align: right;\">\n",
              "      <th></th>\n",
              "      <th>Sentence #</th>\n",
              "      <th>Word</th>\n",
              "      <th>Tag</th>\n",
              "      <th>Word_idx</th>\n",
              "      <th>Tag_idx</th>\n",
              "    </tr>\n",
              "  </thead>\n",
              "  <tbody>\n",
              "    <tr>\n",
              "      <th>0</th>\n",
              "      <td>Sentence: 4453</td>\n",
              "      <td>In</td>\n",
              "      <td>O</td>\n",
              "      <td>30235</td>\n",
              "      <td>0</td>\n",
              "    </tr>\n",
              "    <tr>\n",
              "      <th>1</th>\n",
              "      <td>Sentence: 4453</td>\n",
              "      <td>line</td>\n",
              "      <td>O</td>\n",
              "      <td>27488</td>\n",
              "      <td>0</td>\n",
              "    </tr>\n",
              "    <tr>\n",
              "      <th>2</th>\n",
              "      <td>Sentence: 4453</td>\n",
              "      <td>with</td>\n",
              "      <td>O</td>\n",
              "      <td>8856</td>\n",
              "      <td>0</td>\n",
              "    </tr>\n",
              "    <tr>\n",
              "      <th>3</th>\n",
              "      <td>Sentence: 4453</td>\n",
              "      <td>IMF</td>\n",
              "      <td>B-org</td>\n",
              "      <td>12526</td>\n",
              "      <td>10</td>\n",
              "    </tr>\n",
              "    <tr>\n",
              "      <th>4</th>\n",
              "      <td>Sentence: 4453</td>\n",
              "      <td>conditions</td>\n",
              "      <td>O</td>\n",
              "      <td>9511</td>\n",
              "      <td>0</td>\n",
              "    </tr>\n",
              "    <tr>\n",
              "      <th>...</th>\n",
              "      <td>...</td>\n",
              "      <td>...</td>\n",
              "      <td>...</td>\n",
              "      <td>...</td>\n",
              "      <td>...</td>\n",
              "    </tr>\n",
              "    <tr>\n",
              "      <th>208755</th>\n",
              "      <td>Sentence: 9999</td>\n",
              "      <td>weight</td>\n",
              "      <td>O</td>\n",
              "      <td>28563</td>\n",
              "      <td>0</td>\n",
              "    </tr>\n",
              "    <tr>\n",
              "      <th>208756</th>\n",
              "      <td>Sentence: 9999</td>\n",
              "      <td>in</td>\n",
              "      <td>O</td>\n",
              "      <td>7258</td>\n",
              "      <td>0</td>\n",
              "    </tr>\n",
              "    <tr>\n",
              "      <th>208757</th>\n",
              "      <td>Sentence: 9999</td>\n",
              "      <td>gold</td>\n",
              "      <td>O</td>\n",
              "      <td>1317</td>\n",
              "      <td>0</td>\n",
              "    </tr>\n",
              "    <tr>\n",
              "      <th>208758</th>\n",
              "      <td>Sentence: 9999</td>\n",
              "      <td>.</td>\n",
              "      <td>O</td>\n",
              "      <td>13264</td>\n",
              "      <td>0</td>\n",
              "    </tr>\n",
              "    <tr>\n",
              "      <th>208759</th>\n",
              "      <td>Sentence: 9999</td>\n",
              "      <td>\"</td>\n",
              "      <td>O</td>\n",
              "      <td>26944</td>\n",
              "      <td>0</td>\n",
              "    </tr>\n",
              "  </tbody>\n",
              "</table>\n",
              "<p>208760 rows × 5 columns</p>\n",
              "</div>"
            ],
            "text/plain": [
              "            Sentence #        Word    Tag  Word_idx  Tag_idx\n",
              "0       Sentence: 4453          In      O     30235        0\n",
              "1       Sentence: 4453        line      O     27488        0\n",
              "2       Sentence: 4453        with      O      8856        0\n",
              "3       Sentence: 4453         IMF  B-org     12526       10\n",
              "4       Sentence: 4453  conditions      O      9511        0\n",
              "...                ...         ...    ...       ...      ...\n",
              "208755  Sentence: 9999      weight      O     28563        0\n",
              "208756  Sentence: 9999          in      O      7258        0\n",
              "208757  Sentence: 9999        gold      O      1317        0\n",
              "208758  Sentence: 9999           .      O     13264        0\n",
              "208759  Sentence: 9999           \"      O     26944        0\n",
              "\n",
              "[208760 rows x 5 columns]"
            ]
          },
          "metadata": {},
          "execution_count": 5
        }
      ]
    },
    {
      "cell_type": "code",
      "metadata": {
        "colab": {
          "base_uri": "https://localhost:8080/",
          "height": 424
        },
        "id": "RVasUMWNhTmF",
        "outputId": "439388aa-0648-45ad-a22a-d7b5559191a4"
      },
      "source": [
        "merged_df.drop(['Unnamed: 0'], inplace=True, axis=1)\n",
        "merged_df"
      ],
      "execution_count": 6,
      "outputs": [
        {
          "output_type": "execute_result",
          "data": {
            "text/html": [
              "<div>\n",
              "<style scoped>\n",
              "    .dataframe tbody tr th:only-of-type {\n",
              "        vertical-align: middle;\n",
              "    }\n",
              "\n",
              "    .dataframe tbody tr th {\n",
              "        vertical-align: top;\n",
              "    }\n",
              "\n",
              "    .dataframe thead th {\n",
              "        text-align: right;\n",
              "    }\n",
              "</style>\n",
              "<table border=\"1\" class=\"dataframe\">\n",
              "  <thead>\n",
              "    <tr style=\"text-align: right;\">\n",
              "      <th></th>\n",
              "      <th>Sentence #</th>\n",
              "      <th>Word</th>\n",
              "      <th>Tag</th>\n",
              "      <th>Word_idx</th>\n",
              "      <th>Tag_idx</th>\n",
              "    </tr>\n",
              "  </thead>\n",
              "  <tbody>\n",
              "    <tr>\n",
              "      <th>0</th>\n",
              "      <td>Sentence: 1</td>\n",
              "      <td>Thousands</td>\n",
              "      <td>O</td>\n",
              "      <td>28285</td>\n",
              "      <td>0</td>\n",
              "    </tr>\n",
              "    <tr>\n",
              "      <th>1</th>\n",
              "      <td>Sentence: 1</td>\n",
              "      <td>of</td>\n",
              "      <td>O</td>\n",
              "      <td>15741</td>\n",
              "      <td>0</td>\n",
              "    </tr>\n",
              "    <tr>\n",
              "      <th>2</th>\n",
              "      <td>Sentence: 1</td>\n",
              "      <td>demonstrators</td>\n",
              "      <td>O</td>\n",
              "      <td>1523</td>\n",
              "      <td>0</td>\n",
              "    </tr>\n",
              "    <tr>\n",
              "      <th>3</th>\n",
              "      <td>Sentence: 1</td>\n",
              "      <td>have</td>\n",
              "      <td>O</td>\n",
              "      <td>367</td>\n",
              "      <td>0</td>\n",
              "    </tr>\n",
              "    <tr>\n",
              "      <th>4</th>\n",
              "      <td>Sentence: 1</td>\n",
              "      <td>marched</td>\n",
              "      <td>O</td>\n",
              "      <td>13632</td>\n",
              "      <td>0</td>\n",
              "    </tr>\n",
              "    <tr>\n",
              "      <th>...</th>\n",
              "      <td>...</td>\n",
              "      <td>...</td>\n",
              "      <td>...</td>\n",
              "      <td>...</td>\n",
              "      <td>...</td>\n",
              "    </tr>\n",
              "    <tr>\n",
              "      <th>208755</th>\n",
              "      <td>Sentence: 9999</td>\n",
              "      <td>weight</td>\n",
              "      <td>O</td>\n",
              "      <td>28563</td>\n",
              "      <td>0</td>\n",
              "    </tr>\n",
              "    <tr>\n",
              "      <th>208756</th>\n",
              "      <td>Sentence: 9999</td>\n",
              "      <td>in</td>\n",
              "      <td>O</td>\n",
              "      <td>7258</td>\n",
              "      <td>0</td>\n",
              "    </tr>\n",
              "    <tr>\n",
              "      <th>208757</th>\n",
              "      <td>Sentence: 9999</td>\n",
              "      <td>gold</td>\n",
              "      <td>O</td>\n",
              "      <td>1317</td>\n",
              "      <td>0</td>\n",
              "    </tr>\n",
              "    <tr>\n",
              "      <th>208758</th>\n",
              "      <td>Sentence: 9999</td>\n",
              "      <td>.</td>\n",
              "      <td>O</td>\n",
              "      <td>13264</td>\n",
              "      <td>0</td>\n",
              "    </tr>\n",
              "    <tr>\n",
              "      <th>208759</th>\n",
              "      <td>Sentence: 9999</td>\n",
              "      <td>\"</td>\n",
              "      <td>O</td>\n",
              "      <td>26944</td>\n",
              "      <td>0</td>\n",
              "    </tr>\n",
              "  </tbody>\n",
              "</table>\n",
              "<p>939743 rows × 5 columns</p>\n",
              "</div>"
            ],
            "text/plain": [
              "            Sentence #           Word Tag  Word_idx  Tag_idx\n",
              "0          Sentence: 1      Thousands   O     28285        0\n",
              "1          Sentence: 1             of   O     15741        0\n",
              "2          Sentence: 1  demonstrators   O      1523        0\n",
              "3          Sentence: 1           have   O       367        0\n",
              "4          Sentence: 1        marched   O     13632        0\n",
              "...                ...            ...  ..       ...      ...\n",
              "208755  Sentence: 9999         weight   O     28563        0\n",
              "208756  Sentence: 9999             in   O      7258        0\n",
              "208757  Sentence: 9999           gold   O      1317        0\n",
              "208758  Sentence: 9999              .   O     13264        0\n",
              "208759  Sentence: 9999              \"   O     26944        0\n",
              "\n",
              "[939743 rows x 5 columns]"
            ]
          },
          "metadata": {},
          "execution_count": 6
        }
      ]
    },
    {
      "cell_type": "code",
      "source": [
        "# importing the module\n",
        "import json\n",
        " \n",
        "# Opening JSON file\n",
        "def loadJSON(filename):\n",
        "  data = {}\n",
        "  with open(filename) as json_file:\n",
        "      data = json.load(json_file)\n",
        "  return data"
      ],
      "metadata": {
        "id": "-_xAHivajkD4"
      },
      "execution_count": 7,
      "outputs": []
    },
    {
      "cell_type": "code",
      "metadata": {
        "id": "C5D9NAs-sIyT",
        "colab": {
          "base_uri": "https://localhost:8080/"
        },
        "outputId": "0e91583e-37d9-4373-b653-43a234b76bd7"
      },
      "source": [
        "idx2tag = loadJSON('/content/drive/MyDrive/Colab Notebooks/FP-KK/output/idx2tag2.json')\n",
        "tag2idx = loadJSON('/content/drive/MyDrive/Colab Notebooks/FP-KK/output/tag2idx2.json')\n",
        "token2idx = loadJSON('/content/drive/MyDrive/Colab Notebooks/FP-KK/output/token2idx2.json')\n",
        "idx2token = loadJSON('/content/drive/MyDrive/Colab Notebooks/FP-KK/output/idx2token2.json')\n",
        "print(idx2tag)"
      ],
      "execution_count": 8,
      "outputs": [
        {
          "output_type": "stream",
          "name": "stdout",
          "text": [
            "{'0': 'O', '1': 'I-org', '2': 'B-nat', '3': 'I-eve', '4': 'B-per', '5': 'I-per', '6': 'B-geo', '7': 'B-gpe', '8': 'B-eve', '9': 'I-art', '10': 'B-org', '11': 'I-tim', '12': 'B-art', '13': 'I-gpe', '14': 'I-geo', '15': 'I-nat', '16': 'B-tim', '17': 'ENDPAD'}\n"
          ]
        }
      ]
    },
    {
      "cell_type": "code",
      "source": [
        "tag2idx = dict([key, int(value)] for key, value in tag2idx.items())\n",
        "token2idx = dict([key, int(value)] for key, value in token2idx.items())\n",
        "idx2tag = dict([int(key), value] for key, value in idx2tag.items())\n",
        "idx2token = dict([int(key), value] for key, value in idx2token.items())\n",
        "tag2idx"
      ],
      "metadata": {
        "colab": {
          "base_uri": "https://localhost:8080/"
        },
        "id": "XL9Rk06jheV9",
        "outputId": "228bd1e1-8e4b-43df-a5dd-fa5c1e7fbb53"
      },
      "execution_count": 9,
      "outputs": [
        {
          "output_type": "execute_result",
          "data": {
            "text/plain": [
              "{'B-art': 12,\n",
              " 'B-eve': 8,\n",
              " 'B-geo': 6,\n",
              " 'B-gpe': 7,\n",
              " 'B-nat': 2,\n",
              " 'B-org': 10,\n",
              " 'B-per': 4,\n",
              " 'B-tim': 16,\n",
              " 'ENDPAD': 17,\n",
              " 'I-art': 9,\n",
              " 'I-eve': 3,\n",
              " 'I-geo': 14,\n",
              " 'I-gpe': 13,\n",
              " 'I-nat': 15,\n",
              " 'I-org': 1,\n",
              " 'I-per': 5,\n",
              " 'I-tim': 11,\n",
              " 'O': 0}"
            ]
          },
          "metadata": {},
          "execution_count": 9
        }
      ]
    },
    {
      "cell_type": "code",
      "metadata": {
        "colab": {
          "base_uri": "https://localhost:8080/"
        },
        "id": "xP0Bu09UfZRE",
        "outputId": "3d08be0e-8352-49d8-c887-81ccd5764426"
      },
      "source": [
        "# Groupby and collect columns\n",
        "train_group = train_df.groupby(['Sentence #'], as_index=False)['Word', 'Tag', 'Word_idx', 'Tag_idx'].agg(lambda x: list(x))\n",
        "test_group = test_df.groupby(['Sentence #'], as_index=False)['Word', 'Tag', 'Word_idx', 'Tag_idx'].agg(lambda x: list(x))\n",
        "merged_group = merged_df.groupby(['Sentence #'], as_index=False)['Word', 'Tag', 'Word_idx', 'Tag_idx'].agg(lambda x: list(x))"
      ],
      "execution_count": 10,
      "outputs": [
        {
          "output_type": "stream",
          "name": "stderr",
          "text": [
            "/usr/local/lib/python3.7/dist-packages/ipykernel_launcher.py:2: FutureWarning: Indexing with multiple keys (implicitly converted to a tuple of keys) will be deprecated, use a list instead.\n",
            "  \n",
            "/usr/local/lib/python3.7/dist-packages/ipykernel_launcher.py:3: FutureWarning: Indexing with multiple keys (implicitly converted to a tuple of keys) will be deprecated, use a list instead.\n",
            "  This is separate from the ipykernel package so we can avoid doing imports until\n",
            "/usr/local/lib/python3.7/dist-packages/ipykernel_launcher.py:4: FutureWarning: Indexing with multiple keys (implicitly converted to a tuple of keys) will be deprecated, use a list instead.\n",
            "  after removing the cwd from sys.path.\n"
          ]
        }
      ]
    },
    {
      "cell_type": "code",
      "metadata": {
        "colab": {
          "base_uri": "https://localhost:8080/",
          "height": 684
        },
        "id": "Snxd5C9Qfk1z",
        "outputId": "3adbc5d1-87aa-4b49-c4b1-64f542b38fa8"
      },
      "source": [
        "train_group"
      ],
      "execution_count": 11,
      "outputs": [
        {
          "output_type": "execute_result",
          "data": {
            "text/html": [
              "<div>\n",
              "<style scoped>\n",
              "    .dataframe tbody tr th:only-of-type {\n",
              "        vertical-align: middle;\n",
              "    }\n",
              "\n",
              "    .dataframe tbody tr th {\n",
              "        vertical-align: top;\n",
              "    }\n",
              "\n",
              "    .dataframe thead th {\n",
              "        text-align: right;\n",
              "    }\n",
              "</style>\n",
              "<table border=\"1\" class=\"dataframe\">\n",
              "  <thead>\n",
              "    <tr style=\"text-align: right;\">\n",
              "      <th></th>\n",
              "      <th>Sentence #</th>\n",
              "      <th>Word</th>\n",
              "      <th>Tag</th>\n",
              "      <th>Word_idx</th>\n",
              "      <th>Tag_idx</th>\n",
              "    </tr>\n",
              "  </thead>\n",
              "  <tbody>\n",
              "    <tr>\n",
              "      <th>0</th>\n",
              "      <td>Sentence: 1</td>\n",
              "      <td>[Thousands, of, demonstrators, have, marched, ...</td>\n",
              "      <td>[O, O, O, O, O, O, B-geo, O, O, O, O, O, B-geo...</td>\n",
              "      <td>[28285, 15741, 1523, 367, 13632, 7168, 25967, ...</td>\n",
              "      <td>[0, 0, 0, 0, 0, 0, 6, 0, 0, 0, 0, 0, 6, 0, 0, ...</td>\n",
              "    </tr>\n",
              "    <tr>\n",
              "      <th>1</th>\n",
              "      <td>Sentence: 10</td>\n",
              "      <td>[Iranian, officials, say, they, expect, to, ge...</td>\n",
              "      <td>[B-gpe, O, O, O, O, O, O, O, O, O, O, O, O, O,...</td>\n",
              "      <td>[34424, 1990, 32928, 9794, 31792, 34610, 15641...</td>\n",
              "      <td>[7, 0, 0, 0, 0, 0, 0, 0, 0, 0, 0, 0, 0, 0, 0, ...</td>\n",
              "    </tr>\n",
              "    <tr>\n",
              "      <th>2</th>\n",
              "      <td>Sentence: 100</td>\n",
              "      <td>[Helicopter, gunships, Saturday, pounded, mili...</td>\n",
              "      <td>[O, O, B-tim, O, O, O, O, O, B-geo, O, O, O, O...</td>\n",
              "      <td>[28347, 29190, 19208, 2838, 24041, 26531, 7258...</td>\n",
              "      <td>[0, 0, 16, 0, 0, 0, 0, 0, 6, 0, 0, 0, 0, 10, 0...</td>\n",
              "    </tr>\n",
              "    <tr>\n",
              "      <th>3</th>\n",
              "      <td>Sentence: 1000</td>\n",
              "      <td>[They, left, after, a, tense, standoff, with, ...</td>\n",
              "      <td>[O, O, O, O, O, O, O, O, O]</td>\n",
              "      <td>[4139, 30932, 1336, 28550, 18536, 26975, 8856,...</td>\n",
              "      <td>[0, 0, 0, 0, 0, 0, 0, 0, 0]</td>\n",
              "    </tr>\n",
              "    <tr>\n",
              "      <th>4</th>\n",
              "      <td>Sentence: 10000</td>\n",
              "      <td>[relief, coordinator, Jan, Egeland, said, Sund...</td>\n",
              "      <td>[O, O, B-per, I-per, O, B-tim, B-gpe, O, B-gpe...</td>\n",
              "      <td>[25325, 14734, 12754, 18505, 433, 7325, 18620,...</td>\n",
              "      <td>[0, 0, 4, 5, 0, 16, 7, 0, 7, 0, 0, 0, 0, 0, 0,...</td>\n",
              "    </tr>\n",
              "    <tr>\n",
              "      <th>...</th>\n",
              "      <td>...</td>\n",
              "      <td>...</td>\n",
              "      <td>...</td>\n",
              "      <td>...</td>\n",
              "      <td>...</td>\n",
              "    </tr>\n",
              "    <tr>\n",
              "      <th>38362</th>\n",
              "      <td>Sentence: 44525</td>\n",
              "      <td>[President, Bush, called, on, the, United, Sta...</td>\n",
              "      <td>[B-per, I-per, O, O, O, B-geo, I-geo, O, O, O,...</td>\n",
              "      <td>[344, 19638, 28590, 29279, 3894, 18510, 6565, ...</td>\n",
              "      <td>[4, 5, 0, 0, 0, 6, 14, 0, 0, 0, 0, 0, 0, 0, 0,...</td>\n",
              "    </tr>\n",
              "    <tr>\n",
              "      <th>38363</th>\n",
              "      <td>Sentence: 44526</td>\n",
              "      <td>[Bush, said, dependence, on, foreign, sources,...</td>\n",
              "      <td>[I-per, O, O, O, O, O, O, O, O, B-geo, O, O, O...</td>\n",
              "      <td>[19638, 433, 7527, 29279, 11236, 5495, 15741, ...</td>\n",
              "      <td>[5, 0, 0, 0, 0, 0, 0, 0, 0, 6, 0, 0, 0, 0, 0, ...</td>\n",
              "    </tr>\n",
              "    <tr>\n",
              "      <th>38364</th>\n",
              "      <td>Sentence: 44527</td>\n",
              "      <td>[The, president, called, for, reducing, gasoli...</td>\n",
              "      <td>[O, O, O, O, O, O, O, O, O, O, O, B-tim, O, O,...</td>\n",
              "      <td>[20005, 3610, 28590, 12209, 28521, 30306, 3119...</td>\n",
              "      <td>[0, 0, 0, 0, 0, 0, 0, 0, 0, 0, 0, 16, 0, 0, 16]</td>\n",
              "    </tr>\n",
              "    <tr>\n",
              "      <th>38365</th>\n",
              "      <td>Sentence: 44528</td>\n",
              "      <td>[He, said, the, goal, can, be, met, by, increa...</td>\n",
              "      <td>[O, O, O, O, O, O, O, O, O, O, O, O, O, O, O, ...</td>\n",
              "      <td>[22908, 433, 3894, 32462, 14067, 26107, 19184,...</td>\n",
              "      <td>[0, 0, 0, 0, 0, 0, 0, 0, 0, 0, 0, 0, 0, 0, 0, ...</td>\n",
              "    </tr>\n",
              "    <tr>\n",
              "      <th>38366</th>\n",
              "      <td>Sentence: 44529</td>\n",
              "      <td>[Bush, also, called, for, greater, use, of, cl...</td>\n",
              "      <td>[I-per, O, O, O, O, O, O, O, O, O, O, O, O, O,...</td>\n",
              "      <td>[19638, 33726, 28590, 12209, 32992, 390, 15741...</td>\n",
              "      <td>[5, 0, 0, 0, 0, 0, 0, 0, 0, 0, 0, 0, 0, 0, 0, ...</td>\n",
              "    </tr>\n",
              "  </tbody>\n",
              "</table>\n",
              "<p>38367 rows × 5 columns</p>\n",
              "</div>"
            ],
            "text/plain": [
              "            Sentence #  ...                                            Tag_idx\n",
              "0          Sentence: 1  ...  [0, 0, 0, 0, 0, 0, 6, 0, 0, 0, 0, 0, 6, 0, 0, ...\n",
              "1         Sentence: 10  ...  [7, 0, 0, 0, 0, 0, 0, 0, 0, 0, 0, 0, 0, 0, 0, ...\n",
              "2        Sentence: 100  ...  [0, 0, 16, 0, 0, 0, 0, 0, 6, 0, 0, 0, 0, 10, 0...\n",
              "3       Sentence: 1000  ...                        [0, 0, 0, 0, 0, 0, 0, 0, 0]\n",
              "4      Sentence: 10000  ...  [0, 0, 4, 5, 0, 16, 7, 0, 7, 0, 0, 0, 0, 0, 0,...\n",
              "...                ...  ...                                                ...\n",
              "38362  Sentence: 44525  ...  [4, 5, 0, 0, 0, 6, 14, 0, 0, 0, 0, 0, 0, 0, 0,...\n",
              "38363  Sentence: 44526  ...  [5, 0, 0, 0, 0, 0, 0, 0, 0, 6, 0, 0, 0, 0, 0, ...\n",
              "38364  Sentence: 44527  ...    [0, 0, 0, 0, 0, 0, 0, 0, 0, 0, 0, 16, 0, 0, 16]\n",
              "38365  Sentence: 44528  ...  [0, 0, 0, 0, 0, 0, 0, 0, 0, 0, 0, 0, 0, 0, 0, ...\n",
              "38366  Sentence: 44529  ...  [5, 0, 0, 0, 0, 0, 0, 0, 0, 0, 0, 0, 0, 0, 0, ...\n",
              "\n",
              "[38367 rows x 5 columns]"
            ]
          },
          "metadata": {},
          "execution_count": 11
        }
      ]
    },
    {
      "cell_type": "markdown",
      "source": [
        "Sebelum melakukan padding, kita akan cari tau distribusi panjang kalimat pada dataset untuk mendapatkan ukuran padding yang menyeimbangkan antara populasi data padding dan jumlah kata yang dibuang"
      ],
      "metadata": {
        "id": "QnSTLbrRKf5o"
      }
    },
    {
      "cell_type": "code",
      "source": [
        "merged_group[\"Length\"] = merged_group[\"Word\"].str.len()\n",
        "merged_group"
      ],
      "metadata": {
        "colab": {
          "base_uri": "https://localhost:8080/",
          "height": 771
        },
        "id": "1A9dTsUmKshO",
        "outputId": "4a81e88b-d4cd-4c01-c1ae-c0bf957c0f24"
      },
      "execution_count": 12,
      "outputs": [
        {
          "output_type": "execute_result",
          "data": {
            "text/html": [
              "<div>\n",
              "<style scoped>\n",
              "    .dataframe tbody tr th:only-of-type {\n",
              "        vertical-align: middle;\n",
              "    }\n",
              "\n",
              "    .dataframe tbody tr th {\n",
              "        vertical-align: top;\n",
              "    }\n",
              "\n",
              "    .dataframe thead th {\n",
              "        text-align: right;\n",
              "    }\n",
              "</style>\n",
              "<table border=\"1\" class=\"dataframe\">\n",
              "  <thead>\n",
              "    <tr style=\"text-align: right;\">\n",
              "      <th></th>\n",
              "      <th>Sentence #</th>\n",
              "      <th>Word</th>\n",
              "      <th>Tag</th>\n",
              "      <th>Word_idx</th>\n",
              "      <th>Tag_idx</th>\n",
              "      <th>Length</th>\n",
              "    </tr>\n",
              "  </thead>\n",
              "  <tbody>\n",
              "    <tr>\n",
              "      <th>0</th>\n",
              "      <td>Sentence: 1</td>\n",
              "      <td>[Thousands, of, demonstrators, have, marched, ...</td>\n",
              "      <td>[O, O, O, O, O, O, B-geo, O, O, O, O, O, B-geo...</td>\n",
              "      <td>[28285, 15741, 1523, 367, 13632, 7168, 25967, ...</td>\n",
              "      <td>[0, 0, 0, 0, 0, 0, 6, 0, 0, 0, 0, 0, 6, 0, 0, ...</td>\n",
              "      <td>23</td>\n",
              "    </tr>\n",
              "    <tr>\n",
              "      <th>1</th>\n",
              "      <td>Sentence: 10</td>\n",
              "      <td>[Iranian, officials, say, they, expect, to, ge...</td>\n",
              "      <td>[B-gpe, O, O, O, O, O, O, O, O, O, O, O, O, O,...</td>\n",
              "      <td>[34424, 1990, 32928, 9794, 31792, 34610, 15641...</td>\n",
              "      <td>[7, 0, 0, 0, 0, 0, 0, 0, 0, 0, 0, 0, 0, 0, 0, ...</td>\n",
              "      <td>23</td>\n",
              "    </tr>\n",
              "    <tr>\n",
              "      <th>2</th>\n",
              "      <td>Sentence: 100</td>\n",
              "      <td>[Helicopter, gunships, Saturday, pounded, mili...</td>\n",
              "      <td>[O, O, B-tim, O, O, O, O, O, B-geo, O, O, O, O...</td>\n",
              "      <td>[28347, 29190, 19208, 2838, 24041, 26531, 7258...</td>\n",
              "      <td>[0, 0, 16, 0, 0, 0, 0, 0, 6, 0, 0, 0, 0, 10, 0...</td>\n",
              "      <td>30</td>\n",
              "    </tr>\n",
              "    <tr>\n",
              "      <th>3</th>\n",
              "      <td>Sentence: 1000</td>\n",
              "      <td>[They, left, after, a, tense, standoff, with, ...</td>\n",
              "      <td>[O, O, O, O, O, O, O, O, O]</td>\n",
              "      <td>[4139, 30932, 1336, 28550, 18536, 26975, 8856,...</td>\n",
              "      <td>[0, 0, 0, 0, 0, 0, 0, 0, 0]</td>\n",
              "      <td>9</td>\n",
              "    </tr>\n",
              "    <tr>\n",
              "      <th>4</th>\n",
              "      <td>Sentence: 10000</td>\n",
              "      <td>[relief, coordinator, Jan, Egeland, said, Sund...</td>\n",
              "      <td>[O, O, B-per, I-per, O, B-tim, B-gpe, O, B-gpe...</td>\n",
              "      <td>[25325, 14734, 12754, 18505, 433, 7325, 18620,...</td>\n",
              "      <td>[0, 0, 4, 5, 0, 16, 7, 0, 7, 0, 0, 0, 0, 0, 0,...</td>\n",
              "      <td>30</td>\n",
              "    </tr>\n",
              "    <tr>\n",
              "      <th>...</th>\n",
              "      <td>...</td>\n",
              "      <td>...</td>\n",
              "      <td>...</td>\n",
              "      <td>...</td>\n",
              "      <td>...</td>\n",
              "      <td>...</td>\n",
              "    </tr>\n",
              "    <tr>\n",
              "      <th>47953</th>\n",
              "      <td>Sentence: 9995</td>\n",
              "      <td>[Opposition, leader, Mir, Hossein, Mousavi, ha...</td>\n",
              "      <td>[O, O, O, B-per, I-per, O, O, O, O, O, O, O, O...</td>\n",
              "      <td>[5220, 20303, 16135, 20188, 7400, 5052, 433, 2...</td>\n",
              "      <td>[0, 0, 0, 4, 5, 0, 0, 0, 0, 0, 0, 0, 0, 0, 0, ...</td>\n",
              "      <td>32</td>\n",
              "    </tr>\n",
              "    <tr>\n",
              "      <th>47954</th>\n",
              "      <td>Sentence: 9996</td>\n",
              "      <td>[On, Thursday, ,, Iranian, state, media, publi...</td>\n",
              "      <td>[O, B-tim, O, B-gpe, O, O, O, O, O, O, O, O, B...</td>\n",
              "      <td>[30778, 5799, 14320, 34424, 11155, 14159, 3380...</td>\n",
              "      <td>[0, 16, 0, 7, 0, 0, 0, 0, 0, 0, 0, 0, 10, 1, 0...</td>\n",
              "      <td>25</td>\n",
              "    </tr>\n",
              "    <tr>\n",
              "      <th>47955</th>\n",
              "      <td>Sentence: 9997</td>\n",
              "      <td>[Following, Iran, 's, disputed, June, 12, elec...</td>\n",
              "      <td>[O, B-geo, O, O, B-tim, I-tim, O, O, O, O, O, ...</td>\n",
              "      <td>[25319, 16791, 13786, 9547, 33484, 30, 22059, ...</td>\n",
              "      <td>[0, 6, 0, 0, 16, 11, 0, 0, 0, 0, 0, 0, 0, 0, 0...</td>\n",
              "      <td>27</td>\n",
              "    </tr>\n",
              "    <tr>\n",
              "      <th>47956</th>\n",
              "      <td>Sentence: 9998</td>\n",
              "      <td>[Since, then, ,, authorities, have, held, publ...</td>\n",
              "      <td>[O, O, O, O, O, O, O, O, O, O, O, O, O, O, O, ...</td>\n",
              "      <td>[27191, 14187, 14320, 20885, 367, 23014, 7, 64...</td>\n",
              "      <td>[0, 0, 0, 0, 0, 0, 0, 0, 0, 0, 0, 0, 0, 0, 0, ...</td>\n",
              "      <td>21</td>\n",
              "    </tr>\n",
              "    <tr>\n",
              "      <th>47957</th>\n",
              "      <td>Sentence: 9999</td>\n",
              "      <td>[The, United, Nations, is, praising, the, use,...</td>\n",
              "      <td>[O, B-org, I-org, O, O, O, O, O, O, O, O, O, O...</td>\n",
              "      <td>[20005, 18510, 22700, 14064, 35128, 3894, 390,...</td>\n",
              "      <td>[0, 10, 1, 0, 0, 0, 0, 0, 0, 0, 0, 0, 0, 0, 0,...</td>\n",
              "      <td>32</td>\n",
              "    </tr>\n",
              "  </tbody>\n",
              "</table>\n",
              "<p>47958 rows × 6 columns</p>\n",
              "</div>"
            ],
            "text/plain": [
              "            Sentence #  ... Length\n",
              "0          Sentence: 1  ...     23\n",
              "1         Sentence: 10  ...     23\n",
              "2        Sentence: 100  ...     30\n",
              "3       Sentence: 1000  ...      9\n",
              "4      Sentence: 10000  ...     30\n",
              "...                ...  ...    ...\n",
              "47953   Sentence: 9995  ...     32\n",
              "47954   Sentence: 9996  ...     25\n",
              "47955   Sentence: 9997  ...     27\n",
              "47956   Sentence: 9998  ...     21\n",
              "47957   Sentence: 9999  ...     32\n",
              "\n",
              "[47958 rows x 6 columns]"
            ]
          },
          "metadata": {},
          "execution_count": 12
        }
      ]
    },
    {
      "cell_type": "code",
      "source": [
        "merged_group.describe().transpose()"
      ],
      "metadata": {
        "colab": {
          "base_uri": "https://localhost:8080/",
          "height": 81
        },
        "id": "LihBPL4PK9rh",
        "outputId": "0169bf80-2e6d-4bac-b292-6fe375dce22b"
      },
      "execution_count": 13,
      "outputs": [
        {
          "output_type": "execute_result",
          "data": {
            "text/html": [
              "<div>\n",
              "<style scoped>\n",
              "    .dataframe tbody tr th:only-of-type {\n",
              "        vertical-align: middle;\n",
              "    }\n",
              "\n",
              "    .dataframe tbody tr th {\n",
              "        vertical-align: top;\n",
              "    }\n",
              "\n",
              "    .dataframe thead th {\n",
              "        text-align: right;\n",
              "    }\n",
              "</style>\n",
              "<table border=\"1\" class=\"dataframe\">\n",
              "  <thead>\n",
              "    <tr style=\"text-align: right;\">\n",
              "      <th></th>\n",
              "      <th>count</th>\n",
              "      <th>mean</th>\n",
              "      <th>std</th>\n",
              "      <th>min</th>\n",
              "      <th>25%</th>\n",
              "      <th>50%</th>\n",
              "      <th>75%</th>\n",
              "      <th>max</th>\n",
              "    </tr>\n",
              "  </thead>\n",
              "  <tbody>\n",
              "    <tr>\n",
              "      <th>Length</th>\n",
              "      <td>47958.0</td>\n",
              "      <td>19.595125</td>\n",
              "      <td>7.357756</td>\n",
              "      <td>1.0</td>\n",
              "      <td>14.0</td>\n",
              "      <td>19.0</td>\n",
              "      <td>24.0</td>\n",
              "      <td>72.0</td>\n",
              "    </tr>\n",
              "  </tbody>\n",
              "</table>\n",
              "</div>"
            ],
            "text/plain": [
              "          count       mean       std  min   25%   50%   75%   max\n",
              "Length  47958.0  19.595125  7.357756  1.0  14.0  19.0  24.0  72.0"
            ]
          },
          "metadata": {},
          "execution_count": 13
        }
      ]
    },
    {
      "cell_type": "code",
      "source": [
        "merged_group.mode(numeric_only=True)"
      ],
      "metadata": {
        "colab": {
          "base_uri": "https://localhost:8080/",
          "height": 81
        },
        "id": "u1WtMiQ2LCoE",
        "outputId": "4f2bf59a-e1dc-45ea-953e-810d9579fef2"
      },
      "execution_count": 14,
      "outputs": [
        {
          "output_type": "execute_result",
          "data": {
            "text/html": [
              "<div>\n",
              "<style scoped>\n",
              "    .dataframe tbody tr th:only-of-type {\n",
              "        vertical-align: middle;\n",
              "    }\n",
              "\n",
              "    .dataframe tbody tr th {\n",
              "        vertical-align: top;\n",
              "    }\n",
              "\n",
              "    .dataframe thead th {\n",
              "        text-align: right;\n",
              "    }\n",
              "</style>\n",
              "<table border=\"1\" class=\"dataframe\">\n",
              "  <thead>\n",
              "    <tr style=\"text-align: right;\">\n",
              "      <th></th>\n",
              "      <th>Length</th>\n",
              "    </tr>\n",
              "  </thead>\n",
              "  <tbody>\n",
              "    <tr>\n",
              "      <th>0</th>\n",
              "      <td>18</td>\n",
              "    </tr>\n",
              "  </tbody>\n",
              "</table>\n",
              "</div>"
            ],
            "text/plain": [
              "   Length\n",
              "0      18"
            ]
          },
          "metadata": {},
          "execution_count": 14
        }
      ]
    },
    {
      "cell_type": "code",
      "source": [
        "merged_group.hist(column=\"Length\")"
      ],
      "metadata": {
        "colab": {
          "base_uri": "https://localhost:8080/",
          "height": 316
        },
        "id": "6eWJTrunLI_J",
        "outputId": "f907886e-c29c-4035-9514-144013848821"
      },
      "execution_count": 15,
      "outputs": [
        {
          "output_type": "execute_result",
          "data": {
            "text/plain": [
              "array([[<matplotlib.axes._subplots.AxesSubplot object at 0x7f567a8c3590>]],\n",
              "      dtype=object)"
            ]
          },
          "metadata": {},
          "execution_count": 15
        },
        {
          "output_type": "display_data",
          "data": {
            "image/png": "[encoded data removed]",
            "text/plain": [
              "<Figure size 432x288 with 1 Axes>"
            ]
          },
          "metadata": {
            "needs_background": "light"
          }
        }
      ]
    },
    {
      "cell_type": "markdown",
      "metadata": {
        "id": "8-okFBFPgERc"
      },
      "source": [
        "Pad the token and tag to get matrix representation of every sentence in the same size"
      ]
    },
    {
      "cell_type": "code",
      "metadata": {
        "id": "zlj7r6kWiDIm"
      },
      "source": [
        "maxlen_merged = 50"
      ],
      "execution_count": 16,
      "outputs": []
    },
    {
      "cell_type": "code",
      "metadata": {
        "id": "6984gUDIgQTm"
      },
      "source": [
        "import numpy as np\n",
        "from sklearn.model_selection import train_test_split\n",
        "from tensorflow.keras.preprocessing.sequence import pad_sequences\n",
        "from tensorflow.keras.utils import to_categorical"
      ],
      "execution_count": 17,
      "outputs": []
    },
    {
      "cell_type": "code",
      "metadata": {
        "id": "cJTpSKmNgVeQ"
      },
      "source": [
        "def get_pad(dataset_grouped, token2idx, maxlen):\n",
        "\n",
        "    #get max token and tag length\n",
        "    n_token = len(token2idx)\n",
        "    n_tags = 17\n",
        "\n",
        "    #Pad tokens (X var)    \n",
        "    tokens = dataset_grouped['Word_idx'].tolist()\n",
        "    # maxlen = max([len(s) for s in tokens])\n",
        "    pad_tokens = pad_sequences(tokens, maxlen=maxlen, dtype='int32', padding='post', value= token2idx[\"ENDPAD\"])\n",
        "\n",
        "    #Pad Tags (y var) and convert it into one hot encoding\n",
        "    tags = dataset_grouped['Tag_idx'].tolist()\n",
        "    pad_tags = pad_sequences(tags, maxlen=maxlen, dtype='int32', padding='post', value= tag2idx[\"O\"])\n",
        "    pad_tags = [to_categorical(i, num_classes=n_tags) for i in pad_tags]\n",
        "\n",
        "    return pad_tokens, pad_tags, n_token"
      ],
      "execution_count": 18,
      "outputs": []
    },
    {
      "cell_type": "code",
      "metadata": {
        "colab": {
          "base_uri": "https://localhost:8080/"
        },
        "id": "XBMJitl_jcEz",
        "outputId": "33ec9f2d-6165-46e7-8a4a-69e24821e17d"
      },
      "source": [
        "train_tokens, train_tags, n_token = get_pad(train_group, token2idx, maxlen_merged)\n",
        "test_tokens,  test_tags, _ = get_pad(test_group, token2idx, maxlen_merged)\n",
        "train_tags = np.array(train_tags)\n",
        "test_tags = np.array(test_tags)\n",
        "print('train_tags: ',train_tags.shape,'test_tags: ',test_tags.shape)"
      ],
      "execution_count": 19,
      "outputs": [
        {
          "output_type": "stream",
          "name": "stdout",
          "text": [
            "train_tags:  (38367, 50, 17) test_tags:  (9591, 50, 17)\n"
          ]
        }
      ]
    },
    {
      "cell_type": "code",
      "metadata": {
        "colab": {
          "base_uri": "https://localhost:8080/"
        },
        "id": "uQ8FuVIej1lN",
        "outputId": "3be238b9-fe15-4929-bbb5-1d40954bf1fb"
      },
      "source": [
        "from sklearn.utils import class_weight\n",
        "\n",
        "train_temp_tags = np.ravel(np.argmax(train_tags, axis=-1))\n",
        "print(len(train_temp_tags))"
      ],
      "execution_count": 20,
      "outputs": [
        {
          "output_type": "stream",
          "name": "stdout",
          "text": [
            "1918350\n"
          ]
        }
      ]
    },
    {
      "cell_type": "code",
      "metadata": {
        "colab": {
          "base_uri": "https://localhost:8080/"
        },
        "id": "JUlMcHbjj6Sn",
        "outputId": "b312bce0-12fb-485e-b47b-6ea3940006f6"
      },
      "source": [
        "class_weights = class_weight.compute_class_weight(\n",
        "    class_weight ='balanced', \n",
        "    classes = np.unique(train_temp_tags), \n",
        "    y = train_temp_tags\n",
        "    )\n",
        "class_weight_dict = dict(enumerate(class_weights))\n",
        "print(class_weight_dict)\n",
        "\n",
        "train_label = np.argmax(train_tags, axis=-1)\n",
        "print(train_tokens.shape)\n",
        "print(train_label.shape)"
      ],
      "execution_count": 21,
      "outputs": [
        {
          "output_type": "stream",
          "name": "stdout",
          "text": [
            "{0: 0.06250837420291926, 1: 8.784377833337912, 2: 874.7606019151847, 3: 578.6877828054298, 4: 10.4090137115634, 5: 8.46288567924545, 6: 4.169990674663125, 7: 9.082752547251998, 8: 480.1877346683354, 9: 490.62659846547314, 10: 7.926673057534337, 11: 42.15320046584192, 12: 382.52243270189433, 13: 752.2941176470588, 14: 19.34912854030501, 15: 3419.51871657754, 16: 8.978685363387877}\n",
            "(38367, 50)\n",
            "(38367, 50)\n"
          ]
        }
      ]
    },
    {
      "cell_type": "code",
      "metadata": {
        "id": "mISBA-X5kAHZ"
      },
      "source": [
        "import numpy as np\n",
        "import tensorflow\n",
        "from tensorflow.keras.models import Sequential, Model\n",
        "from tensorflow.keras.layers import LSTM, Embedding, Dense, TimeDistributed, Dropout, Bidirectional, Input, Dropout\n",
        "from tensorflow.keras.utils import plot_model"
      ],
      "execution_count": 22,
      "outputs": []
    },
    {
      "cell_type": "code",
      "metadata": {
        "id": "GMhk44cjl966"
      },
      "source": [
        "input_dim = len(token2idx)\n",
        "output_dim = 100\n",
        "input_length = maxlen_merged\n",
        "n_tags = 17"
      ],
      "execution_count": 23,
      "outputs": []
    },
    {
      "cell_type": "code",
      "metadata": {
        "id": "XA0vS5OSkfU4"
      },
      "source": [
        "def get_bilstm_lstm_model():\n",
        "    model = Sequential()\n",
        "    model.add(Embedding(input_dim=input_dim, output_dim=output_dim, input_length=input_length, name=\"embedding\"))\n",
        "    model.add(Bidirectional(LSTM(units=output_dim, return_sequences=True, dropout=0.2, recurrent_dropout=0.2), merge_mode = 'concat'))\n",
        "    model.add(LSTM(units=output_dim, return_sequences=True, dropout=0.5, recurrent_dropout=0.5))\n",
        "    model.add(Dropout(0.5))\n",
        "    model.add((Dense(n_tags, activation=\"softmax\")))\n",
        "\n",
        "    model.compile(loss='sparse_categorical_crossentropy', optimizer='adam', metrics=['accuracy'])\n",
        "    model.summary()\n",
        "    \n",
        "    return model"
      ],
      "execution_count": 24,
      "outputs": []
    },
    {
      "cell_type": "code",
      "metadata": {
        "colab": {
          "base_uri": "https://localhost:8080/"
        },
        "id": "QP3pzFYBmSI5",
        "outputId": "b0b0a174-dd06-4815-c18e-eb7b2593eaf9"
      },
      "source": [
        "print(class_weight_dict)\n",
        "sample_weights = np.ones(shape=(len(train_label), train_label.shape[-1]))\n",
        "for i in range(17):\n",
        "    sample_weights[train_label == i] = class_weight_dict.get(i)\n",
        "print(sample_weights.shape)"
      ],
      "execution_count": 25,
      "outputs": [
        {
          "output_type": "stream",
          "name": "stdout",
          "text": [
            "{0: 0.06250837420291926, 1: 8.784377833337912, 2: 874.7606019151847, 3: 578.6877828054298, 4: 10.4090137115634, 5: 8.46288567924545, 6: 4.169990674663125, 7: 9.082752547251998, 8: 480.1877346683354, 9: 490.62659846547314, 10: 7.926673057534337, 11: 42.15320046584192, 12: 382.52243270189433, 13: 752.2941176470588, 14: 19.34912854030501, 15: 3419.51871657754, 16: 8.978685363387877}\n",
            "(38367, 50)\n"
          ]
        }
      ]
    },
    {
      "cell_type": "code",
      "metadata": {
        "colab": {
          "base_uri": "https://localhost:8080/"
        },
        "id": "nXzuao-Vml-D",
        "outputId": "ef5cabcb-3d7c-4013-ad8e-4911280d6bdb"
      },
      "source": [
        "nlp_model = get_bilstm_lstm_model()\n",
        "plot_model(nlp_model)\n",
        "his = nlp_model.fit(train_tokens, train_label , batch_size = 64, epochs=10, validation_split=0.2, sample_weight = sample_weights)\n",
        "tf.keras.models.save_model(nlp_model, filepath  = '/content/drive/MyDrive/Colab Notebooks/FP-KK/model/BiLSTM_punctuation_fix.h5')"
      ],
      "execution_count": 27,
      "outputs": [
        {
          "output_type": "stream",
          "name": "stdout",
          "text": [
            "Model: \"sequential_1\"\n",
            "_________________________________________________________________\n",
            " Layer (type)                Output Shape              Param #   \n",
            "=================================================================\n",
            " embedding (Embedding)       (None, 50, 100)           3517200   \n",
            "                                                                 \n",
            " bidirectional_1 (Bidirectio  (None, 50, 200)          160800    \n",
            " nal)                                                            \n",
            "                                                                 \n",
            " lstm_3 (LSTM)               (None, 50, 100)           120400    \n",
            "                                                                 \n",
            " dropout_1 (Dropout)         (None, 50, 100)           0         \n",
            "                                                                 \n",
            " dense_1 (Dense)             (None, 50, 17)            1717      \n",
            "                                                                 \n",
            "=================================================================\n",
            "Total params: 3,800,117\n",
            "Trainable params: 3,800,117\n",
            "Non-trainable params: 0\n",
            "_________________________________________________________________\n",
            "Epoch 1/10\n",
            "480/480 [==============================] - 279s 560ms/step - loss: 2.4015 - accuracy: 0.6181 - val_loss: 1.7814 - val_accuracy: 0.6196\n",
            "Epoch 2/10\n",
            "480/480 [==============================] - 266s 554ms/step - loss: 1.3521 - accuracy: 0.6856 - val_loss: 1.2185 - val_accuracy: 0.7286\n",
            "Epoch 3/10\n",
            "480/480 [==============================] - 270s 564ms/step - loss: 0.8589 - accuracy: 0.7768 - val_loss: 1.3563 - val_accuracy: 0.8036\n",
            "Epoch 4/10\n",
            "480/480 [==============================] - 262s 547ms/step - loss: 0.6419 - accuracy: 0.8384 - val_loss: 1.4464 - val_accuracy: 0.8733\n",
            "Epoch 5/10\n",
            "480/480 [==============================] - 263s 549ms/step - loss: 0.5219 - accuracy: 0.8649 - val_loss: 1.3365 - val_accuracy: 0.8853\n",
            "Epoch 6/10\n",
            "480/480 [==============================] - 263s 548ms/step - loss: 0.4407 - accuracy: 0.8884 - val_loss: 1.3754 - val_accuracy: 0.8939\n",
            "Epoch 7/10\n",
            "480/480 [==============================] - 261s 544ms/step - loss: 0.3483 - accuracy: 0.9049 - val_loss: 1.4486 - val_accuracy: 0.9004\n",
            "Epoch 8/10\n",
            "480/480 [==============================] - 268s 558ms/step - loss: 0.2900 - accuracy: 0.9133 - val_loss: 1.6661 - val_accuracy: 0.9250\n",
            "Epoch 9/10\n",
            "480/480 [==============================] - 259s 540ms/step - loss: 0.2784 - accuracy: 0.9190 - val_loss: 1.4402 - val_accuracy: 0.9145\n",
            "Epoch 10/10\n",
            "480/480 [==============================] - 260s 541ms/step - loss: 0.2491 - accuracy: 0.9219 - val_loss: 1.6508 - val_accuracy: 0.9275\n"
          ]
        }
      ]
    },
    {
      "cell_type": "code",
      "metadata": {
        "id": "IelPIrykrFzD"
      },
      "source": [
        "# Plot results\n",
        "import matplotlib.pyplot as plt\n",
        "\n",
        "accuracy = his.history['accuracy']\n",
        "val_acc = his.history['val_accuracy']\n",
        "loss = his.history['loss']\n",
        "val_loss = his.history['val_loss']\n",
        "\n",
        "epochs = range(1, len(accuracy)+1)\n",
        "\n",
        "plt.plot(epochs, accuracy, 'g', label='Training accuracy')\n",
        "plt.plot(epochs, val_acc, 'r', label='Validation accuracy')\n",
        "plt.title('Training and validation accuracy')\n",
        "plt.legend()\n",
        "\n",
        "plt.figure()\n",
        "\n",
        "plt.plot(epochs, loss, 'g', label='Training loss')\n",
        "plt.plot(epochs, val_loss, 'r', label='Validation loss')\n",
        "plt.title('Training and validation loss')\n",
        "plt.legend()\n",
        "\n",
        "plt.show()"
      ],
      "execution_count": null,
      "outputs": []
    },
    {
      "cell_type": "code",
      "metadata": {
        "id": "BU7cnRsBrNkX"
      },
      "source": [
        "nlp_model = tf.keras.models.load_model('/content/drive/MyDrive/Colab Notebooks/FP-KK/model/BiLSTM_punctuation_fix.h5')\n",
        "\n",
        "y_test = np.argmax(test_tags, axis=-1)\n",
        "print(test_tokens.shape,y_test.shape)\n",
        "nlp_model.evaluate(test_tokens, y_test)"
      ],
      "execution_count": null,
      "outputs": []
    },
    {
      "cell_type": "code",
      "metadata": {
        "id": "U0mKHhRorUK1"
      },
      "source": [
        "y_pred = nlp_model.predict(test_tokens)\n",
        "y_pred = np.argmax(y_pred, axis= -1)"
      ],
      "execution_count": null,
      "outputs": []
    },
    {
      "cell_type": "code",
      "source": [
        "y_test_list = []\n",
        "y_pred_list = []\n",
        "for row in range(0, y_test.shape[0]):\n",
        "  y_pred_list = np.concatenate((y_pred_list, y_pred[row]), axis=0)\n",
        "  y_test_list = np.concatenate((y_test_list, y_test[row]), axis=0)"
      ],
      "metadata": {
        "id": "WpVKo_EhqF16"
      },
      "execution_count": null,
      "outputs": []
    },
    {
      "cell_type": "code",
      "source": [
        "data_prediction = pd.DataFrame({'actual_class': y_test_list, 'predicted_class': y_pred_list})\n",
        "data_prediction['actual_class'] = data_prediction['actual_class'].map(idx2tag)\n",
        "data_prediction['predicted_class'] = data_prediction['predicted_class'].map(idx2tag)\n",
        "data_prediction"
      ],
      "metadata": {
        "id": "8NwDpt30kr74"
      },
      "execution_count": null,
      "outputs": []
    },
    {
      "cell_type": "code",
      "source": [
        "confusion_matrix = pd.crosstab(data_prediction['predicted_class'], data_prediction['actual_class'])\n",
        "confusion_matrix"
      ],
      "metadata": {
        "id": "VdjHUFSeqNIF"
      },
      "execution_count": null,
      "outputs": []
    },
    {
      "cell_type": "code",
      "metadata": {
        "id": "GUVMUJ3ArbWb"
      },
      "source": [
        "from sklearn.metrics import classification_report\n",
        "pd.DataFrame(classification_report(data_prediction['actual_class'], data_prediction['predicted_class'], output_dict=True)).T"
      ],
      "execution_count": null,
      "outputs": []
    },
    {
      "cell_type": "markdown",
      "source": [
        "Bagaimana jika data padding diabaikan saat menghitung confusion matrix?"
      ],
      "metadata": {
        "id": "zhqLSVAfM_Uv"
      }
    },
    {
      "cell_type": "code",
      "metadata": {
        "id": "ZvRaMrNJrnCk"
      },
      "source": [
        "y_pred_list = y_pred.tolist()\n",
        "y_test_list = y_test.tolist()"
      ],
      "execution_count": null,
      "outputs": []
    },
    {
      "cell_type": "code",
      "source": [
        "# Clean the test and pred data from padding data\n",
        "clean_pred = []\n",
        "clean_test = []\n",
        "for row in range(0, test_tokens.shape[0]):\n",
        "  # print(row, test_tokens[row])\n",
        "  pad_list = []\n",
        "  for i in range(0, len(test_tokens[row])):\n",
        "    if(test_tokens[row][i] == token2idx['ENDPAD']):\n",
        "      pad_list.append(i)\n",
        "\n",
        "  pad_list.sort(reverse=True)\n",
        "  for idx in pad_list:\n",
        "  #   clean_pred[row] = clean_pred[row] + np.delete(y_pred[row], idx)\n",
        "  #   clean_test[row] = clean_test[row] + np.delete(y_test[row], idx)\n",
        "    y_pred_list[row].pop(idx)\n",
        "    y_test_list[row].pop(idx)"
      ],
      "metadata": {
        "id": "1qhVcYHfYIsW"
      },
      "execution_count": null,
      "outputs": []
    },
    {
      "cell_type": "code",
      "source": [
        "y_test_rows = []\n",
        "y_pred_rows = []\n",
        "for row in range(0, y_test.shape[0]):\n",
        "  # y_pred_list = y_pred_list + y_pred[row]\n",
        "  y_test_rows = np.concatenate((y_test_rows, y_test_list[row]), axis=0)\n",
        "  y_pred_rows = np.concatenate((y_pred_rows, y_pred_list[row]), axis=0)"
      ],
      "metadata": {
        "id": "HmW1QsM2YKl7"
      },
      "execution_count": null,
      "outputs": []
    },
    {
      "cell_type": "code",
      "source": [
        "data_prediction = pd.DataFrame({'actual_class': y_test_rows, 'predicted_class': y_pred_rows})\n",
        "data_prediction['actual_class'] = data_prediction['actual_class'].map(idx2tag)\n",
        "data_prediction['predicted_class'] = data_prediction['predicted_class'].map(idx2tag)\n",
        "data_prediction"
      ],
      "metadata": {
        "id": "ZjQgEq4eYMYA"
      },
      "execution_count": null,
      "outputs": []
    },
    {
      "cell_type": "code",
      "source": [
        "confusion_matrix = pd.crosstab(data_prediction['predicted_class'], data_prediction['actual_class'])\n",
        "confusion_matrix"
      ],
      "metadata": {
        "id": "-eYkWYf_NG78"
      },
      "execution_count": null,
      "outputs": []
    },
    {
      "cell_type": "code",
      "source": [
        "pd.DataFrame(classification_report(data_prediction['actual_class'], data_prediction['predicted_class'], output_dict=True)).T"
      ],
      "metadata": {
        "id": "xbVLKViQNISN"
      },
      "execution_count": null,
      "outputs": []
    }
  ]
}