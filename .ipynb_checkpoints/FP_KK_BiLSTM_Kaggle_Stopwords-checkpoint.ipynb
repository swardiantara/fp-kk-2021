{
 "cells": [
  {
   "cell_type": "markdown",
   "metadata": {
    "colab_type": "text",
    "id": "view-in-github"
   },
   "source": [
    "<a href=\"https://colab.research.google.com/github/swardiantara/fp-kk-2021/blob/main/FP_KK_BiLSTM_Kaggle_Stopwords.ipynb\" target=\"_parent\"><img src=\"https://colab.research.google.com/assets/colab-badge.svg\" alt=\"Open In Colab\"/></a>"
   ]
  },
  {
   "cell_type": "code",
   "execution_count": 59,
   "metadata": {
    "id": "BjzE6u0SbPnm"
   },
   "outputs": [],
   "source": [
    "import tensorflow as tf\n",
    "import pandas as pd\n",
    "import numpy as np"
   ]
  },
  {
   "cell_type": "code",
   "execution_count": 60,
   "metadata": {
    "colab": {
     "base_uri": "https://localhost:8080/"
    },
    "id": "HGh9gnISbieK",
    "outputId": "d8b41b72-3f6d-4a5d-d2f2-41f2322a3f4c"
   },
   "outputs": [
    {
     "name": "stdout",
     "output_type": "stream",
     "text": [
      "Drive already mounted at /content/drive; to attempt to forcibly remount, call drive.mount(\"/content/drive\", force_remount=True).\n"
     ]
    }
   ],
   "source": [
    "from google.colab import drive\n",
    "drive.mount('/content/drive')"
   ]
  },
  {
   "cell_type": "code",
   "execution_count": 61,
   "metadata": {
    "colab": {
     "base_uri": "https://localhost:8080/"
    },
    "id": "Sdve4BUvbsk3",
    "outputId": "aebc0e7e-86c6-472f-97a6-50f42f14c3a5"
   },
   "outputs": [
    {
     "data": {
      "text/plain": [
       "(1048575, 5)"
      ]
     },
     "execution_count": 61,
     "metadata": {},
     "output_type": "execute_result"
    }
   ],
   "source": [
    "dataset_path = '/content/drive/MyDrive/Colab Notebooks/ner-kk/ner_datasetreference.csv'\n",
    "dataset = pd.read_csv(dataset_path, encoding= 'unicode_escape')\n",
    "dataset.shape"
   ]
  },
  {
   "cell_type": "code",
   "execution_count": 62,
   "metadata": {
    "colab": {
     "base_uri": "https://localhost:8080/",
     "height": 202
    },
    "id": "q34nSFoHbwgU",
    "outputId": "1e35ce57-ae83-4a28-f3e5-eca1b1fb7f6b"
   },
   "outputs": [
    {
     "data": {
      "text/html": [
       "<div>\n",
       "<style scoped>\n",
       "    .dataframe tbody tr th:only-of-type {\n",
       "        vertical-align: middle;\n",
       "    }\n",
       "\n",
       "    .dataframe tbody tr th {\n",
       "        vertical-align: top;\n",
       "    }\n",
       "\n",
       "    .dataframe thead th {\n",
       "        text-align: right;\n",
       "    }\n",
       "</style>\n",
       "<table border=\"1\" class=\"dataframe\">\n",
       "  <thead>\n",
       "    <tr style=\"text-align: right;\">\n",
       "      <th></th>\n",
       "      <th>Sentence #</th>\n",
       "      <th>Word</th>\n",
       "      <th>POS</th>\n",
       "      <th>Tag</th>\n",
       "      <th>Class</th>\n",
       "    </tr>\n",
       "  </thead>\n",
       "  <tbody>\n",
       "    <tr>\n",
       "      <th>0</th>\n",
       "      <td>Sentence: 1</td>\n",
       "      <td>Thousands</td>\n",
       "      <td>NNS</td>\n",
       "      <td>O</td>\n",
       "      <td>0</td>\n",
       "    </tr>\n",
       "    <tr>\n",
       "      <th>1</th>\n",
       "      <td>NaN</td>\n",
       "      <td>of</td>\n",
       "      <td>IN</td>\n",
       "      <td>O</td>\n",
       "      <td>0</td>\n",
       "    </tr>\n",
       "    <tr>\n",
       "      <th>2</th>\n",
       "      <td>NaN</td>\n",
       "      <td>demonstrators</td>\n",
       "      <td>NNS</td>\n",
       "      <td>O</td>\n",
       "      <td>0</td>\n",
       "    </tr>\n",
       "    <tr>\n",
       "      <th>3</th>\n",
       "      <td>NaN</td>\n",
       "      <td>have</td>\n",
       "      <td>VBP</td>\n",
       "      <td>O</td>\n",
       "      <td>0</td>\n",
       "    </tr>\n",
       "    <tr>\n",
       "      <th>4</th>\n",
       "      <td>NaN</td>\n",
       "      <td>marched</td>\n",
       "      <td>VBN</td>\n",
       "      <td>O</td>\n",
       "      <td>0</td>\n",
       "    </tr>\n",
       "  </tbody>\n",
       "</table>\n",
       "</div>"
      ],
      "text/plain": [
       "    Sentence #           Word  POS Tag  Class\n",
       "0  Sentence: 1      Thousands  NNS   O      0\n",
       "1          NaN             of   IN   O      0\n",
       "2          NaN  demonstrators  NNS   O      0\n",
       "3          NaN           have  VBP   O      0\n",
       "4          NaN        marched  VBN   O      0"
      ]
     },
     "execution_count": 62,
     "metadata": {},
     "output_type": "execute_result"
    }
   ],
   "source": [
    "dataset.head()"
   ]
  },
  {
   "cell_type": "code",
   "execution_count": 63,
   "metadata": {
    "id": "u9iczGcvbzqA"
   },
   "outputs": [],
   "source": [
    "dataset.drop(['POS', 'Class'], inplace=True, axis=1)"
   ]
  },
  {
   "cell_type": "code",
   "execution_count": 64,
   "metadata": {
    "colab": {
     "base_uri": "https://localhost:8080/"
    },
    "id": "32nmO2Epb284",
    "outputId": "e80a9c49-7807-4c9a-eff7-270fd5763fca"
   },
   "outputs": [
    {
     "data": {
      "text/plain": [
       "O        887908\n",
       "B-geo     37644\n",
       "B-tim     20333\n",
       "B-org     20143\n",
       "I-per     17251\n",
       "B-per     16990\n",
       "I-org     16784\n",
       "B-gpe     15870\n",
       "I-geo      7414\n",
       "I-tim      6528\n",
       "B-art       402\n",
       "B-eve       308\n",
       "I-art       297\n",
       "I-eve       253\n",
       "B-nat       201\n",
       "I-gpe       198\n",
       "I-nat        51\n",
       "Name: Tag, dtype: int64"
      ]
     },
     "execution_count": 64,
     "metadata": {},
     "output_type": "execute_result"
    }
   ],
   "source": [
    "dataset[\"Tag\"].value_counts()"
   ]
  },
  {
   "cell_type": "code",
   "execution_count": 65,
   "metadata": {
    "colab": {
     "base_uri": "https://localhost:8080/",
     "height": 202
    },
    "id": "wiwlYJ00b6Le",
    "outputId": "a18e169d-11b7-4b10-9e3d-d3183d471d22"
   },
   "outputs": [
    {
     "data": {
      "text/html": [
       "<div>\n",
       "<style scoped>\n",
       "    .dataframe tbody tr th:only-of-type {\n",
       "        vertical-align: middle;\n",
       "    }\n",
       "\n",
       "    .dataframe tbody tr th {\n",
       "        vertical-align: top;\n",
       "    }\n",
       "\n",
       "    .dataframe thead th {\n",
       "        text-align: right;\n",
       "    }\n",
       "</style>\n",
       "<table border=\"1\" class=\"dataframe\">\n",
       "  <thead>\n",
       "    <tr style=\"text-align: right;\">\n",
       "      <th></th>\n",
       "      <th>Sentence #</th>\n",
       "      <th>Word</th>\n",
       "      <th>Tag</th>\n",
       "    </tr>\n",
       "  </thead>\n",
       "  <tbody>\n",
       "    <tr>\n",
       "      <th>0</th>\n",
       "      <td>Sentence: 1</td>\n",
       "      <td>Thousands</td>\n",
       "      <td>O</td>\n",
       "    </tr>\n",
       "    <tr>\n",
       "      <th>1</th>\n",
       "      <td>NaN</td>\n",
       "      <td>of</td>\n",
       "      <td>O</td>\n",
       "    </tr>\n",
       "    <tr>\n",
       "      <th>2</th>\n",
       "      <td>NaN</td>\n",
       "      <td>demonstrators</td>\n",
       "      <td>O</td>\n",
       "    </tr>\n",
       "    <tr>\n",
       "      <th>3</th>\n",
       "      <td>NaN</td>\n",
       "      <td>have</td>\n",
       "      <td>O</td>\n",
       "    </tr>\n",
       "    <tr>\n",
       "      <th>4</th>\n",
       "      <td>NaN</td>\n",
       "      <td>marched</td>\n",
       "      <td>O</td>\n",
       "    </tr>\n",
       "  </tbody>\n",
       "</table>\n",
       "</div>"
      ],
      "text/plain": [
       "    Sentence #           Word Tag\n",
       "0  Sentence: 1      Thousands   O\n",
       "1          NaN             of   O\n",
       "2          NaN  demonstrators   O\n",
       "3          NaN           have   O\n",
       "4          NaN        marched   O"
      ]
     },
     "execution_count": 65,
     "metadata": {},
     "output_type": "execute_result"
    }
   ],
   "source": [
    "dataset.head()"
   ]
  },
  {
   "cell_type": "code",
   "execution_count": 66,
   "metadata": {
    "colab": {
     "base_uri": "https://localhost:8080/",
     "height": 566
    },
    "id": "v3AKN1tmb8H6",
    "outputId": "a66a1e5e-631f-4214-df38-5ca13f3fe2a3"
   },
   "outputs": [
    {
     "data": {
      "image/png": "[encoded data removed]",
      "text/plain": [
       "<Figure size 1152x576 with 1 Axes>"
      ]
     },
     "metadata": {},
     "output_type": "display_data"
    }
   ],
   "source": [
    "import matplotlib.pyplot as plt\n",
    "import seaborn as sns\n",
    "\n",
    "plt.figure(figsize = (16,8))\n",
    "sns.set_style('darkgrid')\n",
    "sns.histplot(dataset['Tag'])\n",
    "plt.tight_layout(pad=2)\n",
    "plt.show()"
   ]
  },
  {
   "cell_type": "code",
   "execution_count": 67,
   "metadata": {
    "id": "6rUM3akKcBM4"
   },
   "outputs": [],
   "source": [
    "def computeRatioAwal(dataset):\n",
    "  negative = dataset.apply(lambda x : True if x['Tag'] == \"O\" else False, axis = 1)\n",
    "  num_negative = len(negative[negative == True].index)\n",
    "  num_positive = len(negative[negative == False].index)\n",
    "  return num_negative / num_positive "
   ]
  },
  {
   "cell_type": "code",
   "execution_count": 68,
   "metadata": {
    "colab": {
     "base_uri": "https://localhost:8080/"
    },
    "id": "DfiQFzDNcDSW",
    "outputId": "14e0eff3-2d57-4869-fb7d-864434fe9c95"
   },
   "outputs": [
    {
     "name": "stdout",
     "output_type": "stream",
     "text": [
      "5.526386874716027\n"
     ]
    }
   ],
   "source": [
    "print(computeRatioAwal(dataset))"
   ]
  },
  {
   "cell_type": "code",
   "execution_count": 69,
   "metadata": {
    "colab": {
     "base_uri": "https://localhost:8080/"
    },
    "id": "IrKPwFjXdxdO",
    "outputId": "f2175676-997a-4a8f-eeb3-80313c059068"
   },
   "outputs": [
    {
     "name": "stderr",
     "output_type": "stream",
     "text": [
      "/usr/local/lib/python3.7/dist-packages/ipykernel_launcher.py:2: FutureWarning: Indexing with multiple keys (implicitly converted to a tuple of keys) will be deprecated, use a list instead.\n",
      "  \n"
     ]
    }
   ],
   "source": [
    "dataset_fillna = dataset.fillna(method='ffill', axis=0)\n",
    "dataset_group = dataset_fillna.groupby(['Sentence #'], as_index=False)['Word', 'Tag'].agg(lambda x: list(x))"
   ]
  },
  {
   "cell_type": "code",
   "execution_count": 70,
   "metadata": {
    "colab": {
     "base_uri": "https://localhost:8080/",
     "height": 414
    },
    "id": "OIFUwP4vd1AJ",
    "outputId": "3cec2a78-3fdc-43c4-a79c-b6bc431a4d8d"
   },
   "outputs": [
    {
     "data": {
      "text/html": [
       "<div>\n",
       "<style scoped>\n",
       "    .dataframe tbody tr th:only-of-type {\n",
       "        vertical-align: middle;\n",
       "    }\n",
       "\n",
       "    .dataframe tbody tr th {\n",
       "        vertical-align: top;\n",
       "    }\n",
       "\n",
       "    .dataframe thead th {\n",
       "        text-align: right;\n",
       "    }\n",
       "</style>\n",
       "<table border=\"1\" class=\"dataframe\">\n",
       "  <thead>\n",
       "    <tr style=\"text-align: right;\">\n",
       "      <th></th>\n",
       "      <th>Sentence #</th>\n",
       "      <th>Word</th>\n",
       "      <th>Tag</th>\n",
       "    </tr>\n",
       "  </thead>\n",
       "  <tbody>\n",
       "    <tr>\n",
       "      <th>0</th>\n",
       "      <td>Sentence: 1</td>\n",
       "      <td>[Thousands, of, demonstrators, have, marched, ...</td>\n",
       "      <td>[O, O, O, O, O, O, B-geo, O, O, O, O, O, B-geo...</td>\n",
       "    </tr>\n",
       "    <tr>\n",
       "      <th>1</th>\n",
       "      <td>Sentence: 10</td>\n",
       "      <td>[Iranian, officials, say, they, expect, to, ge...</td>\n",
       "      <td>[B-gpe, O, O, O, O, O, O, O, O, O, O, O, O, O,...</td>\n",
       "    </tr>\n",
       "    <tr>\n",
       "      <th>2</th>\n",
       "      <td>Sentence: 100</td>\n",
       "      <td>[Helicopter, gunships, Saturday, pounded, mili...</td>\n",
       "      <td>[O, O, B-tim, O, O, O, O, O, B-geo, O, O, O, O...</td>\n",
       "    </tr>\n",
       "    <tr>\n",
       "      <th>3</th>\n",
       "      <td>Sentence: 1000</td>\n",
       "      <td>[They, left, after, a, tense, hour-long, stand...</td>\n",
       "      <td>[O, O, O, O, O, O, O, O, O, O, O]</td>\n",
       "    </tr>\n",
       "    <tr>\n",
       "      <th>4</th>\n",
       "      <td>Sentence: 10000</td>\n",
       "      <td>[U.N., relief, coordinator, Jan, Egeland, said...</td>\n",
       "      <td>[B-geo, O, O, B-per, I-per, O, B-tim, O, B-geo...</td>\n",
       "    </tr>\n",
       "    <tr>\n",
       "      <th>...</th>\n",
       "      <td>...</td>\n",
       "      <td>...</td>\n",
       "      <td>...</td>\n",
       "    </tr>\n",
       "    <tr>\n",
       "      <th>47954</th>\n",
       "      <td>Sentence: 9995</td>\n",
       "      <td>[Opposition, leader, Mir, Hossein, Mousavi, ha...</td>\n",
       "      <td>[O, O, O, B-per, I-per, O, O, O, O, O, O, O, O...</td>\n",
       "    </tr>\n",
       "    <tr>\n",
       "      <th>47955</th>\n",
       "      <td>Sentence: 9996</td>\n",
       "      <td>[On, Thursday, ,, Iranian, state, media, publi...</td>\n",
       "      <td>[O, B-tim, O, B-gpe, O, O, O, O, O, O, O, O, B...</td>\n",
       "    </tr>\n",
       "    <tr>\n",
       "      <th>47956</th>\n",
       "      <td>Sentence: 9997</td>\n",
       "      <td>[Following, Iran, 's, disputed, June, 12, elec...</td>\n",
       "      <td>[O, B-geo, O, O, B-tim, I-tim, O, O, O, O, O, ...</td>\n",
       "    </tr>\n",
       "    <tr>\n",
       "      <th>47957</th>\n",
       "      <td>Sentence: 9998</td>\n",
       "      <td>[Since, then, ,, authorities, have, held, publ...</td>\n",
       "      <td>[O, O, O, O, O, O, O, O, O, O, O, O, O, O, O, ...</td>\n",
       "    </tr>\n",
       "    <tr>\n",
       "      <th>47958</th>\n",
       "      <td>Sentence: 9999</td>\n",
       "      <td>[The, United, Nations, is, praising, the, use,...</td>\n",
       "      <td>[O, B-org, I-org, O, O, O, O, O, O, O, O, O, O...</td>\n",
       "    </tr>\n",
       "  </tbody>\n",
       "</table>\n",
       "<p>47959 rows × 3 columns</p>\n",
       "</div>"
      ],
      "text/plain": [
       "            Sentence #  ...                                                Tag\n",
       "0          Sentence: 1  ...  [O, O, O, O, O, O, B-geo, O, O, O, O, O, B-geo...\n",
       "1         Sentence: 10  ...  [B-gpe, O, O, O, O, O, O, O, O, O, O, O, O, O,...\n",
       "2        Sentence: 100  ...  [O, O, B-tim, O, O, O, O, O, B-geo, O, O, O, O...\n",
       "3       Sentence: 1000  ...                  [O, O, O, O, O, O, O, O, O, O, O]\n",
       "4      Sentence: 10000  ...  [B-geo, O, O, B-per, I-per, O, B-tim, O, B-geo...\n",
       "...                ...  ...                                                ...\n",
       "47954   Sentence: 9995  ...  [O, O, O, B-per, I-per, O, O, O, O, O, O, O, O...\n",
       "47955   Sentence: 9996  ...  [O, B-tim, O, B-gpe, O, O, O, O, O, O, O, O, B...\n",
       "47956   Sentence: 9997  ...  [O, B-geo, O, O, B-tim, I-tim, O, O, O, O, O, ...\n",
       "47957   Sentence: 9998  ...  [O, O, O, O, O, O, O, O, O, O, O, O, O, O, O, ...\n",
       "47958   Sentence: 9999  ...  [O, B-org, I-org, O, O, O, O, O, O, O, O, O, O...\n",
       "\n",
       "[47959 rows x 3 columns]"
      ]
     },
     "execution_count": 70,
     "metadata": {},
     "output_type": "execute_result"
    }
   ],
   "source": [
    "dataset_group"
   ]
  },
  {
   "cell_type": "code",
   "execution_count": 71,
   "metadata": {
    "colab": {
     "base_uri": "https://localhost:8080/"
    },
    "id": "ofyG9W1OfU_P",
    "outputId": "c7923f4f-88ae-40af-ffc6-c8fe437d3ef2"
   },
   "outputs": [
    {
     "name": "stdout",
     "output_type": "stream",
     "text": [
      "[nltk_data] Downloading package stopwords to /root/nltk_data...\n",
      "[nltk_data]   Package stopwords is already up-to-date!\n"
     ]
    }
   ],
   "source": [
    "import nltk\n",
    "from nltk.corpus import stopwords\n",
    "nltk.download('stopwords')\n",
    "stop_words = list(set(stopwords.words('english')))"
   ]
  },
  {
   "cell_type": "code",
   "execution_count": 72,
   "metadata": {
    "colab": {
     "base_uri": "https://localhost:8080/"
    },
    "id": "AK4dykLDiUf2",
    "outputId": "97756711-969e-4fa0-e270-436eb4a9ef79"
   },
   "outputs": [
    {
     "name": "stdout",
     "output_type": "stream",
     "text": [
      "[\"hasn't\", 'o', 'don', 'theirs', 'ma', 'hasn', 'than', 'were', 'how', 'too', \"shan't\", 'shan', 'ain', 'you', 'in', 'further', 'while', 're', 'haven', 'who', 'wasn', 'between', 'he', \"hadn't\", 'having', \"didn't\", 'into', 'my', \"it's\", 'does', 'each', 'needn', \"doesn't\", 'below', \"she's\", 'if', 'your', 'from', 'couldn', 'down', 'ourselves', \"should've\", 'which', 'no', 'll', 'didn', 'to', 'against', 'mustn', 'up', 'isn', 'me', 'them', 'their', 't', 'i', \"you'll\", 'until', 'before', 'won', 'd', 'this', 'was', 'and', 'most', 'our', \"you've\", \"couldn't\", 'above', 'has', 'during', 'but', 'with', 'more', \"haven't\", \"won't\", 'doesn', 'these', 'myself', 'whom', 'or', 'have', 'any', 'yourselves', 'on', 'her', 'that', \"wouldn't\", 'again', 'y', 'wouldn', 'yours', 'am', 'they', 'because', 'himself', 'those', 'then', 'same', 'should', 'few', 'for', \"mustn't\", 'as', 'aren', 'do', 'been', 'we', 'hers', 'all', 've', 'm', 'shouldn', 'why', 'itself', 's', 'yourself', 'at', 'a', 'an', 'now', 'had', 'its', 'did', \"mightn't\", \"wasn't\", \"you're\", \"isn't\", 'once', 'the', 'not', 'hadn', 'some', 'nor', \"don't\", \"you'd\", 'over', 'what', 'out', 'both', 'are', \"that'll\", \"needn't\", 'here', 'his', 'own', 'off', 'other', 'weren', 'being', 'ours', 'so', \"aren't\", 'him', 'by', 'it', 'only', 'where', 'will', 'be', \"weren't\", 'can', \"shouldn't\", 'themselves', 'is', 'after', 'under', 'there', 'just', 'when', 'such', 'very', 'herself', 'through', 'she', 'of', 'doing', 'about', 'mightn']\n"
     ]
    }
   ],
   "source": [
    "print(stop_words)"
   ]
  },
  {
   "cell_type": "code",
   "execution_count": 129,
   "metadata": {
    "id": "vzxJtmTiebww"
   },
   "outputs": [],
   "source": [
    "def removeStopWord(dataset):\n",
    "  # last = False\n",
    "  for sentence_idx in range(0, dataset.shape[0]):\n",
    "    stop_word_idx = []\n",
    "    # print(dataset.loc[sentence_idx, 'Word'])\n",
    "    # print(len(dataset.loc[sentence_idx, 'Word']))\n",
    "    for word_idx in range(0, len(dataset.loc[sentence_idx, 'Word'])):\n",
    "      # is_stopword = (dataset.loc[sentence_idx, 'Word'][word_idx] in stop_words)\n",
    "      # word , is_stopword = dataset.loc[sentence_idx, 'Word'][word_idx], dataset.loc[sentence_idx, 'Word'][word_idx] in stop_words\n",
    "      # print(sentence_idx, word, is_stopword)\n",
    "      # print(word_idx, dataset.loc[sentence_idx, 'Word'][word_idx], dataset.loc[sentence_idx, 'Word'][word_idx] in stop_words)\n",
    "      if (dataset.loc[sentence_idx, 'Word'][word_idx] in stop_words):\n",
    "        stop_word_idx.append(word_idx)\n",
    "    \n",
    "    for index in sorted(stop_word_idx, reverse=True):\n",
    "      dataset.loc[sentence_idx, 'Word'].pop(index)\n",
    "      dataset.loc[sentence_idx, 'Tag'].pop(index)\n",
    "  return dataset"
   ]
  },
  {
   "cell_type": "code",
   "execution_count": 130,
   "metadata": {
    "id": "9FaDfNJcoxCs"
   },
   "outputs": [],
   "source": [
    "dataset_backup = dataset_group.copy()"
   ]
  },
  {
   "cell_type": "code",
   "execution_count": 131,
   "metadata": {
    "id": "cWe_MUDEo3xM"
   },
   "outputs": [],
   "source": [
    "dataset_for_stopword_removal = dataset_group.copy()"
   ]
  },
  {
   "cell_type": "code",
   "execution_count": 132,
   "metadata": {
    "id": "R7vKEI1qhD7w"
   },
   "outputs": [],
   "source": [
    "dataset_stopwords_removed = removeStopWord(dataset_for_stopword_removal)"
   ]
  },
  {
   "cell_type": "code",
   "execution_count": 133,
   "metadata": {
    "colab": {
     "base_uri": "https://localhost:8080/",
     "height": 414
    },
    "id": "KePf-ImSofJw",
    "outputId": "7685360d-d97f-448c-b124-0fb02aebd2c7"
   },
   "outputs": [
    {
     "data": {
      "text/html": [
       "<div>\n",
       "<style scoped>\n",
       "    .dataframe tbody tr th:only-of-type {\n",
       "        vertical-align: middle;\n",
       "    }\n",
       "\n",
       "    .dataframe tbody tr th {\n",
       "        vertical-align: top;\n",
       "    }\n",
       "\n",
       "    .dataframe thead th {\n",
       "        text-align: right;\n",
       "    }\n",
       "</style>\n",
       "<table border=\"1\" class=\"dataframe\">\n",
       "  <thead>\n",
       "    <tr style=\"text-align: right;\">\n",
       "      <th></th>\n",
       "      <th>Sentence #</th>\n",
       "      <th>Word</th>\n",
       "      <th>Tag</th>\n",
       "    </tr>\n",
       "  </thead>\n",
       "  <tbody>\n",
       "    <tr>\n",
       "      <th>0</th>\n",
       "      <td>Sentence: 1</td>\n",
       "      <td>[Thousands, demonstrators, marched, London, pr...</td>\n",
       "      <td>[O, O, O, B-geo, O, O, B-geo, O, O, B-gpe, O, ...</td>\n",
       "    </tr>\n",
       "    <tr>\n",
       "      <th>1</th>\n",
       "      <td>Sentence: 10</td>\n",
       "      <td>[Iranian, officials, say, expect, get, access,...</td>\n",
       "      <td>[B-gpe, O, O, O, O, O, O, O, O, O, B-tim, O, B...</td>\n",
       "    </tr>\n",
       "    <tr>\n",
       "      <th>2</th>\n",
       "      <td>Sentence: 100</td>\n",
       "      <td>[Helicopter, gunships, Saturday, pounded, mili...</td>\n",
       "      <td>[O, O, B-tim, O, O, O, B-geo, O, O, O, O, B-or...</td>\n",
       "    </tr>\n",
       "    <tr>\n",
       "      <th>3</th>\n",
       "      <td>Sentence: 1000</td>\n",
       "      <td>[They, left, tense, hour-long, standoff, riot,...</td>\n",
       "      <td>[O, O, O, O, O, O, O, O]</td>\n",
       "    </tr>\n",
       "    <tr>\n",
       "      <th>4</th>\n",
       "      <td>Sentence: 10000</td>\n",
       "      <td>[U.N., relief, coordinator, Jan, Egeland, said...</td>\n",
       "      <td>[B-geo, O, O, B-per, I-per, O, B-tim, O, B-geo...</td>\n",
       "    </tr>\n",
       "    <tr>\n",
       "      <th>...</th>\n",
       "      <td>...</td>\n",
       "      <td>...</td>\n",
       "      <td>...</td>\n",
       "    </tr>\n",
       "    <tr>\n",
       "      <th>47954</th>\n",
       "      <td>Sentence: 9995</td>\n",
       "      <td>[Opposition, leader, Mir, Hossein, Mousavi, sa...</td>\n",
       "      <td>[O, O, O, B-per, I-per, O, O, O, O, O, O, O, O...</td>\n",
       "    </tr>\n",
       "    <tr>\n",
       "      <th>47955</th>\n",
       "      <td>Sentence: 9996</td>\n",
       "      <td>[On, Thursday, ,, Iranian, state, media, publi...</td>\n",
       "      <td>[O, B-tim, O, B-gpe, O, O, O, O, O, B-org, I-o...</td>\n",
       "    </tr>\n",
       "    <tr>\n",
       "      <th>47956</th>\n",
       "      <td>Sentence: 9997</td>\n",
       "      <td>[Following, Iran, 's, disputed, June, 12, elec...</td>\n",
       "      <td>[O, B-geo, O, O, B-tim, I-tim, O, O, O, O, O, ...</td>\n",
       "    </tr>\n",
       "    <tr>\n",
       "      <th>47957</th>\n",
       "      <td>Sentence: 9998</td>\n",
       "      <td>[Since, ,, authorities, held, public, trials, ...</td>\n",
       "      <td>[O, O, O, O, O, O, O, O, O, O, O, O, O, O]</td>\n",
       "    </tr>\n",
       "    <tr>\n",
       "      <th>47958</th>\n",
       "      <td>Sentence: 9999</td>\n",
       "      <td>[The, United, Nations, praising, use, military...</td>\n",
       "      <td>[O, B-org, I-org, O, O, O, O, O, O, O, O, B-ti...</td>\n",
       "    </tr>\n",
       "  </tbody>\n",
       "</table>\n",
       "<p>47959 rows × 3 columns</p>\n",
       "</div>"
      ],
      "text/plain": [
       "            Sentence #  ...                                                Tag\n",
       "0          Sentence: 1  ...  [O, O, O, B-geo, O, O, B-geo, O, O, B-gpe, O, ...\n",
       "1         Sentence: 10  ...  [B-gpe, O, O, O, O, O, O, O, O, O, B-tim, O, B...\n",
       "2        Sentence: 100  ...  [O, O, B-tim, O, O, O, B-geo, O, O, O, O, B-or...\n",
       "3       Sentence: 1000  ...                           [O, O, O, O, O, O, O, O]\n",
       "4      Sentence: 10000  ...  [B-geo, O, O, B-per, I-per, O, B-tim, O, B-geo...\n",
       "...                ...  ...                                                ...\n",
       "47954   Sentence: 9995  ...  [O, O, O, B-per, I-per, O, O, O, O, O, O, O, O...\n",
       "47955   Sentence: 9996  ...  [O, B-tim, O, B-gpe, O, O, O, O, O, B-org, I-o...\n",
       "47956   Sentence: 9997  ...  [O, B-geo, O, O, B-tim, I-tim, O, O, O, O, O, ...\n",
       "47957   Sentence: 9998  ...         [O, O, O, O, O, O, O, O, O, O, O, O, O, O]\n",
       "47958   Sentence: 9999  ...  [O, B-org, I-org, O, O, O, O, O, O, O, O, B-ti...\n",
       "\n",
       "[47959 rows x 3 columns]"
      ]
     },
     "execution_count": 133,
     "metadata": {},
     "output_type": "execute_result"
    }
   ],
   "source": [
    "dataset_stopwords_removed"
   ]
  },
  {
   "cell_type": "code",
   "execution_count": 134,
   "metadata": {
    "id": "MlpTUZPmhNMN"
   },
   "outputs": [],
   "source": [
    "dataset_stopwords_removed_backup = dataset_stopwords_removed.copy()"
   ]
  },
  {
   "cell_type": "code",
   "execution_count": 135,
   "metadata": {
    "id": "xZYwwQLSxMLF"
   },
   "outputs": [],
   "source": [
    "word_list = []\n",
    "tag_list = []\n",
    "sentence_list = []\n",
    "for sentence in range(0, dataset_stopwords_removed_backup.shape[0]):\n",
    "  sentence_array = [dataset_stopwords_removed_backup.loc[sentence, 'Sentence #']] * len(dataset_stopwords_removed_backup.loc[sentence, 'Word'])\n",
    "  sentence_list = sentence_list + sentence_array\n",
    "  word_list = word_list + dataset_stopwords_removed_backup.loc[sentence, 'Word']\n",
    "  tag_list = tag_list + dataset_stopwords_removed_backup.loc[sentence, 'Tag']"
   ]
  },
  {
   "cell_type": "code",
   "execution_count": 136,
   "metadata": {
    "colab": {
     "base_uri": "https://localhost:8080/"
    },
    "id": "yCh9tNhixly7",
    "outputId": "0cb969b7-3dea-48d8-dfe2-3709ddac6144"
   },
   "outputs": [
    {
     "name": "stdout",
     "output_type": "stream",
     "text": [
      "724375\n",
      "724375\n",
      "724375\n"
     ]
    }
   ],
   "source": [
    "print(len(sentence_list))\n",
    "print(len(word_list))\n",
    "print(len(tag_list))"
   ]
  },
  {
   "cell_type": "code",
   "execution_count": 137,
   "metadata": {
    "id": "uW6QawmAxpeJ"
   },
   "outputs": [],
   "source": [
    "df_after_sampling = pd.DataFrame({'Sentence #': sentence_list, 'Word': word_list, 'Tag': tag_list})"
   ]
  },
  {
   "cell_type": "code",
   "execution_count": 138,
   "metadata": {
    "colab": {
     "base_uri": "https://localhost:8080/",
     "height": 414
    },
    "id": "dd-GL1m1y9Oh",
    "outputId": "aabf482b-e81a-4f06-945e-e21d92c997ec"
   },
   "outputs": [
    {
     "data": {
      "text/html": [
       "<div>\n",
       "<style scoped>\n",
       "    .dataframe tbody tr th:only-of-type {\n",
       "        vertical-align: middle;\n",
       "    }\n",
       "\n",
       "    .dataframe tbody tr th {\n",
       "        vertical-align: top;\n",
       "    }\n",
       "\n",
       "    .dataframe thead th {\n",
       "        text-align: right;\n",
       "    }\n",
       "</style>\n",
       "<table border=\"1\" class=\"dataframe\">\n",
       "  <thead>\n",
       "    <tr style=\"text-align: right;\">\n",
       "      <th></th>\n",
       "      <th>Sentence #</th>\n",
       "      <th>Word</th>\n",
       "      <th>Tag</th>\n",
       "    </tr>\n",
       "  </thead>\n",
       "  <tbody>\n",
       "    <tr>\n",
       "      <th>0</th>\n",
       "      <td>Sentence: 1</td>\n",
       "      <td>Thousands</td>\n",
       "      <td>O</td>\n",
       "    </tr>\n",
       "    <tr>\n",
       "      <th>1</th>\n",
       "      <td>Sentence: 1</td>\n",
       "      <td>demonstrators</td>\n",
       "      <td>O</td>\n",
       "    </tr>\n",
       "    <tr>\n",
       "      <th>2</th>\n",
       "      <td>Sentence: 1</td>\n",
       "      <td>marched</td>\n",
       "      <td>O</td>\n",
       "    </tr>\n",
       "    <tr>\n",
       "      <th>3</th>\n",
       "      <td>Sentence: 1</td>\n",
       "      <td>London</td>\n",
       "      <td>B-geo</td>\n",
       "    </tr>\n",
       "    <tr>\n",
       "      <th>4</th>\n",
       "      <td>Sentence: 1</td>\n",
       "      <td>protest</td>\n",
       "      <td>O</td>\n",
       "    </tr>\n",
       "    <tr>\n",
       "      <th>...</th>\n",
       "      <td>...</td>\n",
       "      <td>...</td>\n",
       "      <td>...</td>\n",
       "    </tr>\n",
       "    <tr>\n",
       "      <th>724370</th>\n",
       "      <td>Sentence: 9999</td>\n",
       "      <td>worth</td>\n",
       "      <td>O</td>\n",
       "    </tr>\n",
       "    <tr>\n",
       "      <th>724371</th>\n",
       "      <td>Sentence: 9999</td>\n",
       "      <td>weight</td>\n",
       "      <td>O</td>\n",
       "    </tr>\n",
       "    <tr>\n",
       "      <th>724372</th>\n",
       "      <td>Sentence: 9999</td>\n",
       "      <td>gold</td>\n",
       "      <td>O</td>\n",
       "    </tr>\n",
       "    <tr>\n",
       "      <th>724373</th>\n",
       "      <td>Sentence: 9999</td>\n",
       "      <td>.</td>\n",
       "      <td>O</td>\n",
       "    </tr>\n",
       "    <tr>\n",
       "      <th>724374</th>\n",
       "      <td>Sentence: 9999</td>\n",
       "      <td>\"</td>\n",
       "      <td>O</td>\n",
       "    </tr>\n",
       "  </tbody>\n",
       "</table>\n",
       "<p>724375 rows × 3 columns</p>\n",
       "</div>"
      ],
      "text/plain": [
       "            Sentence #           Word    Tag\n",
       "0          Sentence: 1      Thousands      O\n",
       "1          Sentence: 1  demonstrators      O\n",
       "2          Sentence: 1        marched      O\n",
       "3          Sentence: 1         London  B-geo\n",
       "4          Sentence: 1        protest      O\n",
       "...                ...            ...    ...\n",
       "724370  Sentence: 9999          worth      O\n",
       "724371  Sentence: 9999         weight      O\n",
       "724372  Sentence: 9999           gold      O\n",
       "724373  Sentence: 9999              .      O\n",
       "724374  Sentence: 9999              \"      O\n",
       "\n",
       "[724375 rows x 3 columns]"
      ]
     },
     "execution_count": 138,
     "metadata": {},
     "output_type": "execute_result"
    }
   ],
   "source": [
    "df_after_sampling"
   ]
  },
  {
   "cell_type": "code",
   "execution_count": 139,
   "metadata": {
    "colab": {
     "base_uri": "https://localhost:8080/"
    },
    "id": "Jr6SNrv3zCLn",
    "outputId": "02e9467e-8a07-414e-c8a8-48be145fc89a"
   },
   "outputs": [
    {
     "name": "stdout",
     "output_type": "stream",
     "text": [
      "3.5997320328672484\n"
     ]
    }
   ],
   "source": [
    "print(computeRatioAwal(df_after_sampling))"
   ]
  },
  {
   "cell_type": "code",
   "execution_count": 140,
   "metadata": {
    "colab": {
     "base_uri": "https://localhost:8080/"
    },
    "id": "r-0sqhbSzH1g",
    "outputId": "de678007-f3ba-498b-8c42-1f37451f13dd"
   },
   "outputs": [
    {
     "data": {
      "text/plain": [
       "O        566893\n",
       "B-geo     37410\n",
       "B-org     20085\n",
       "B-tim     19760\n",
       "I-per     17238\n",
       "B-per     16990\n",
       "B-gpe     15870\n",
       "I-org     15620\n",
       "I-geo      7225\n",
       "I-tim      5594\n",
       "B-art       401\n",
       "B-eve       308\n",
       "I-art       284\n",
       "I-eve       250\n",
       "B-nat       201\n",
       "I-gpe       195\n",
       "I-nat        51\n",
       "Name: Tag, dtype: int64"
      ]
     },
     "execution_count": 140,
     "metadata": {},
     "output_type": "execute_result"
    }
   ],
   "source": [
    "df_after_sampling[\"Tag\"].value_counts()"
   ]
  },
  {
   "cell_type": "code",
   "execution_count": 141,
   "metadata": {
    "id": "pVFjR9gjzNJT"
   },
   "outputs": [],
   "source": [
    "from itertools import chain\n",
    "def get_dict_map(dataset, token_or_tag):\n",
    "    tok2idx = {}\n",
    "    idx2tok = {}\n",
    "    \n",
    "    if token_or_tag == 'token':\n",
    "        vocab = list(set(dataset['Word'].to_list()))\n",
    "    else:\n",
    "        vocab = list(set(dataset['Tag'].to_list()))\n",
    "    \n",
    "    idx2tok = {idx:tok for  idx, tok in enumerate(vocab)}\n",
    "    tok2idx = {tok:idx for  idx, tok in enumerate(vocab)}\n",
    "    return tok2idx, idx2tok\n",
    "token2idx, idx2token = get_dict_map(df_after_sampling, 'token')\n",
    "tag2idx, idx2tag = get_dict_map(df_after_sampling, 'tag')"
   ]
  },
  {
   "cell_type": "code",
   "execution_count": 144,
   "metadata": {
    "colab": {
     "base_uri": "https://localhost:8080/"
    },
    "id": "xhIFhDV1zoka",
    "outputId": "ebae7c48-6a1f-4a1d-f3ab-d6204c6fde3f"
   },
   "outputs": [
    {
     "name": "stdout",
     "output_type": "stream",
     "text": [
      "{'B-nat': 0, 'I-geo': 1, 'I-art': 2, 'I-nat': 3, 'B-eve': 4, 'B-tim': 5, 'I-eve': 6, 'B-geo': 7, 'B-gpe': 8, 'I-per': 9, 'I-tim': 10, 'B-org': 11, 'I-gpe': 12, 'I-org': 13, 'B-per': 14, 'B-art': 15, 'O': 16}\n"
     ]
    }
   ],
   "source": [
    "print(tag2idx)"
   ]
  },
  {
   "cell_type": "code",
   "execution_count": 142,
   "metadata": {
    "colab": {
     "base_uri": "https://localhost:8080/"
    },
    "id": "lpGeuXtezWJo",
    "outputId": "241f2729-1474-4ca9-c606-f7b14a8d4f9d"
   },
   "outputs": [
    {
     "name": "stderr",
     "output_type": "stream",
     "text": [
      "/usr/local/lib/python3.7/dist-packages/ipykernel_launcher.py:5: FutureWarning: Indexing with multiple keys (implicitly converted to a tuple of keys) will be deprecated, use a list instead.\n",
      "  \"\"\"\n"
     ]
    }
   ],
   "source": [
    "df_after_sampling['Word_idx'] = df_after_sampling['Word'].map(token2idx)\n",
    "df_after_sampling['Tag_idx'] = df_after_sampling['Tag'].map(tag2idx)\n",
    "df_after_sampling_fillna = df_after_sampling.fillna(method='ffill', axis=0)\n",
    "# Groupby and collect columns\n",
    "df_after_sampling_group = df_after_sampling_fillna.groupby(['Sentence #'], as_index=False)['Word', 'Tag', 'Word_idx', 'Tag_idx'].agg(lambda x: list(x))"
   ]
  },
  {
   "cell_type": "code",
   "execution_count": 143,
   "metadata": {
    "colab": {
     "base_uri": "https://localhost:8080/",
     "height": 414
    },
    "id": "AvvYJ8EVzd-d",
    "outputId": "71e63c08-f884-4f2d-a179-2d23473fc19b"
   },
   "outputs": [
    {
     "data": {
      "text/html": [
       "<div>\n",
       "<style scoped>\n",
       "    .dataframe tbody tr th:only-of-type {\n",
       "        vertical-align: middle;\n",
       "    }\n",
       "\n",
       "    .dataframe tbody tr th {\n",
       "        vertical-align: top;\n",
       "    }\n",
       "\n",
       "    .dataframe thead th {\n",
       "        text-align: right;\n",
       "    }\n",
       "</style>\n",
       "<table border=\"1\" class=\"dataframe\">\n",
       "  <thead>\n",
       "    <tr style=\"text-align: right;\">\n",
       "      <th></th>\n",
       "      <th>Sentence #</th>\n",
       "      <th>Word</th>\n",
       "      <th>Tag</th>\n",
       "      <th>Word_idx</th>\n",
       "      <th>Tag_idx</th>\n",
       "    </tr>\n",
       "  </thead>\n",
       "  <tbody>\n",
       "    <tr>\n",
       "      <th>0</th>\n",
       "      <td>Sentence: 1</td>\n",
       "      <td>[Thousands, demonstrators, marched, London, pr...</td>\n",
       "      <td>[O, O, O, B-geo, O, O, B-geo, O, O, B-gpe, O, ...</td>\n",
       "      <td>[12693, 19866, 33784, 9283, 29407, 2082, 32287...</td>\n",
       "      <td>[16, 16, 16, 7, 16, 16, 7, 16, 16, 8, 16, 16, 16]</td>\n",
       "    </tr>\n",
       "    <tr>\n",
       "      <th>1</th>\n",
       "      <td>Sentence: 10</td>\n",
       "      <td>[Iranian, officials, say, expect, get, access,...</td>\n",
       "      <td>[B-gpe, O, O, O, O, O, O, O, O, O, B-tim, O, B...</td>\n",
       "      <td>[29022, 3446, 34747, 17204, 15714, 13262, 2991...</td>\n",
       "      <td>[8, 16, 16, 16, 16, 16, 16, 16, 16, 16, 5, 16,...</td>\n",
       "    </tr>\n",
       "    <tr>\n",
       "      <th>2</th>\n",
       "      <td>Sentence: 100</td>\n",
       "      <td>[Helicopter, gunships, Saturday, pounded, mili...</td>\n",
       "      <td>[O, O, B-tim, O, O, O, B-geo, O, O, O, O, B-or...</td>\n",
       "      <td>[6789, 27697, 14332, 32359, 32072, 11277, 1744...</td>\n",
       "      <td>[16, 16, 5, 16, 16, 16, 7, 16, 16, 16, 16, 11,...</td>\n",
       "    </tr>\n",
       "    <tr>\n",
       "      <th>3</th>\n",
       "      <td>Sentence: 1000</td>\n",
       "      <td>[They, left, tense, hour-long, standoff, riot,...</td>\n",
       "      <td>[O, O, O, O, O, O, O, O]</td>\n",
       "      <td>[21986, 7093, 21185, 10501, 255, 2624, 27890, ...</td>\n",
       "      <td>[16, 16, 16, 16, 16, 16, 16, 16]</td>\n",
       "    </tr>\n",
       "    <tr>\n",
       "      <th>4</th>\n",
       "      <td>Sentence: 10000</td>\n",
       "      <td>[U.N., relief, coordinator, Jan, Egeland, said...</td>\n",
       "      <td>[B-geo, O, O, B-per, I-per, O, B-tim, O, B-geo...</td>\n",
       "      <td>[34193, 711, 5540, 173, 24800, 30527, 940, 230...</td>\n",
       "      <td>[7, 16, 16, 14, 9, 16, 5, 16, 7, 16, 8, 8, 16,...</td>\n",
       "    </tr>\n",
       "    <tr>\n",
       "      <th>...</th>\n",
       "      <td>...</td>\n",
       "      <td>...</td>\n",
       "      <td>...</td>\n",
       "      <td>...</td>\n",
       "      <td>...</td>\n",
       "    </tr>\n",
       "    <tr>\n",
       "      <th>47954</th>\n",
       "      <td>Sentence: 9995</td>\n",
       "      <td>[Opposition, leader, Mir, Hossein, Mousavi, sa...</td>\n",
       "      <td>[O, O, O, B-per, I-per, O, O, O, O, O, O, O, O...</td>\n",
       "      <td>[34526, 5646, 26467, 34787, 16296, 30527, 3346...</td>\n",
       "      <td>[16, 16, 16, 14, 9, 16, 16, 16, 16, 16, 16, 16...</td>\n",
       "    </tr>\n",
       "    <tr>\n",
       "      <th>47955</th>\n",
       "      <td>Sentence: 9996</td>\n",
       "      <td>[On, Thursday, ,, Iranian, state, media, publi...</td>\n",
       "      <td>[O, B-tim, O, B-gpe, O, O, O, O, O, B-org, I-o...</td>\n",
       "      <td>[15006, 21070, 23065, 29022, 18381, 18919, 153...</td>\n",
       "      <td>[16, 5, 16, 8, 16, 16, 16, 16, 16, 11, 13, 16,...</td>\n",
       "    </tr>\n",
       "    <tr>\n",
       "      <th>47956</th>\n",
       "      <td>Sentence: 9997</td>\n",
       "      <td>[Following, Iran, 's, disputed, June, 12, elec...</td>\n",
       "      <td>[O, B-geo, O, O, B-tim, I-tim, O, O, O, O, O, ...</td>\n",
       "      <td>[2864, 24187, 32896, 4877, 26026, 23322, 879, ...</td>\n",
       "      <td>[16, 7, 16, 16, 5, 10, 16, 16, 16, 16, 16, 16,...</td>\n",
       "    </tr>\n",
       "    <tr>\n",
       "      <th>47957</th>\n",
       "      <td>Sentence: 9998</td>\n",
       "      <td>[Since, ,, authorities, held, public, trials, ...</td>\n",
       "      <td>[O, O, O, O, O, O, O, O, O, O, O, O, O, O]</td>\n",
       "      <td>[31762, 23065, 27894, 17510, 7258, 655, 3695, ...</td>\n",
       "      <td>[16, 16, 16, 16, 16, 16, 16, 16, 16, 16, 16, 1...</td>\n",
       "    </tr>\n",
       "    <tr>\n",
       "      <th>47958</th>\n",
       "      <td>Sentence: 9999</td>\n",
       "      <td>[The, United, Nations, praising, use, military...</td>\n",
       "      <td>[O, B-org, I-org, O, O, O, O, O, O, O, O, B-ti...</td>\n",
       "      <td>[8530, 532, 23152, 34683, 19877, 6447, 22905, ...</td>\n",
       "      <td>[16, 11, 13, 16, 16, 16, 16, 16, 16, 16, 16, 5...</td>\n",
       "    </tr>\n",
       "  </tbody>\n",
       "</table>\n",
       "<p>47959 rows × 5 columns</p>\n",
       "</div>"
      ],
      "text/plain": [
       "            Sentence #  ...                                            Tag_idx\n",
       "0          Sentence: 1  ...  [16, 16, 16, 7, 16, 16, 7, 16, 16, 8, 16, 16, 16]\n",
       "1         Sentence: 10  ...  [8, 16, 16, 16, 16, 16, 16, 16, 16, 16, 5, 16,...\n",
       "2        Sentence: 100  ...  [16, 16, 5, 16, 16, 16, 7, 16, 16, 16, 16, 11,...\n",
       "3       Sentence: 1000  ...                   [16, 16, 16, 16, 16, 16, 16, 16]\n",
       "4      Sentence: 10000  ...  [7, 16, 16, 14, 9, 16, 5, 16, 7, 16, 8, 8, 16,...\n",
       "...                ...  ...                                                ...\n",
       "47954   Sentence: 9995  ...  [16, 16, 16, 14, 9, 16, 16, 16, 16, 16, 16, 16...\n",
       "47955   Sentence: 9996  ...  [16, 5, 16, 8, 16, 16, 16, 16, 16, 11, 13, 16,...\n",
       "47956   Sentence: 9997  ...  [16, 7, 16, 16, 5, 10, 16, 16, 16, 16, 16, 16,...\n",
       "47957   Sentence: 9998  ...  [16, 16, 16, 16, 16, 16, 16, 16, 16, 16, 16, 1...\n",
       "47958   Sentence: 9999  ...  [16, 11, 13, 16, 16, 16, 16, 16, 16, 16, 16, 5...\n",
       "\n",
       "[47959 rows x 5 columns]"
      ]
     },
     "execution_count": 143,
     "metadata": {},
     "output_type": "execute_result"
    }
   ],
   "source": [
    "df_after_sampling_group"
   ]
  },
  {
   "cell_type": "code",
   "execution_count": 147,
   "metadata": {
    "id": "bK3k3HM2z7q-"
   },
   "outputs": [],
   "source": [
    "import numpy as np \n",
    "from sklearn.model_selection import train_test_split\n",
    "from tensorflow.keras.preprocessing.sequence import pad_sequences\n",
    "from tensorflow.keras.utils import to_categorical\n",
    "\n",
    "def get_pad_train_test_val(dataset_grouped, data):\n",
    "\n",
    "    #get max token and tag length\n",
    "    n_token = len(list(set(data['Word'].to_list())))\n",
    "    n_tag = len(list(set(data['Tag'].to_list())))\n",
    "\n",
    "    #Pad tokens (X var)    \n",
    "    tokens = dataset_grouped['Word_idx'].tolist()\n",
    "    maxlen = max([len(s) for s in tokens])\n",
    "    pad_tokens = pad_sequences(tokens, maxlen=maxlen, dtype='int32', padding='post', value= n_token - 1)\n",
    "\n",
    "    #Pad Tags (y var) and convert it into one hot encoding\n",
    "    tags = dataset_grouped['Tag_idx'].tolist()\n",
    "    pad_tags = pad_sequences(tags, maxlen=maxlen, dtype='int32', padding='post', value= tag2idx[\"O\"])\n",
    "    n_tags = len(tag2idx)\n",
    "    pad_tags = [to_categorical(i, num_classes=n_tags) for i in pad_tags]\n",
    "    \n",
    "    #Split train, test and validation set\n",
    "    tokens_, test_tokens, tags_, test_tags = train_test_split(pad_tokens, pad_tags, test_size=0.1, train_size=0.9, random_state=2020)\n",
    "    train_tokens, val_tokens, train_tags, val_tags = train_test_split(tokens_,tags_,test_size = 0.25,train_size =0.75, random_state=2020)\n",
    "\n",
    "    print(\n",
    "        'train_tokens length:', len(train_tokens),\n",
    "        '\\ntrain_tags length:', len(train_tags),\n",
    "        '\\ntest_tokens length:', len(test_tokens),\n",
    "        '\\ntest_tags:', len(test_tags),\n",
    "        '\\nval_tokens:', len(val_tokens),\n",
    "        '\\nval_tags:', len(val_tags),\n",
    "    )\n",
    "    \n",
    "    return train_tokens, val_tokens, test_tokens, train_tags, val_tags, test_tags"
   ]
  },
  {
   "cell_type": "code",
   "execution_count": 148,
   "metadata": {
    "colab": {
     "base_uri": "https://localhost:8080/"
    },
    "id": "fHrU7GzW0Dr6",
    "outputId": "dc42c914-7269-4c8e-c03a-cadf1e46fbae"
   },
   "outputs": [
    {
     "name": "stdout",
     "output_type": "stream",
     "text": [
      "train_tokens length: 32372 \n",
      "train_tags length: 32372 \n",
      "test_tokens length: 4796 \n",
      "test_tags: 4796 \n",
      "val_tokens: 10791 \n",
      "val_tags: 10791\n",
      "train_tags:  (32372, 83, 17) val_tags:  (10791, 83, 17) test_tags:  (4796, 83, 17)\n"
     ]
    }
   ],
   "source": [
    "train_tokens, val_tokens, test_tokens, train_tags, val_tags, test_tags = get_pad_train_test_val(df_after_sampling_group, df_after_sampling)\n",
    "train_tags = np.array(train_tags)\n",
    "val_tags = np.array(val_tags)\n",
    "test_tags = np.array(test_tags)\n",
    "print('train_tags: ',train_tags.shape,'val_tags: ',val_tags.shape,'test_tags: ',test_tags.shape)"
   ]
  },
  {
   "cell_type": "code",
   "execution_count": 149,
   "metadata": {
    "colab": {
     "base_uri": "https://localhost:8080/"
    },
    "id": "J7YnjpaM1FnC",
    "outputId": "c59c9a54-91e5-40a1-e3ec-d6d7dce5c3b9"
   },
   "outputs": [
    {
     "name": "stdout",
     "output_type": "stream",
     "text": [
      "2686876\n"
     ]
    }
   ],
   "source": [
    "from sklearn.utils import class_weight\n",
    "\n",
    "train_temp_tags = np.ravel(np.argmax(train_tags, axis=-1))\n",
    "print(len(train_temp_tags))"
   ]
  },
  {
   "cell_type": "code",
   "execution_count": 150,
   "metadata": {
    "colab": {
     "base_uri": "https://localhost:8080/"
    },
    "id": "d-KzIw2Z1KE0",
    "outputId": "d7a81145-cc7a-4678-e4e2-67a82339da18"
   },
   "outputs": [
    {
     "name": "stdout",
     "output_type": "stream",
     "text": [
      "{0: 1162.143598615917, 1: 32.28836147329208, 2: 802.2920274708869, 3: 4939.110294117647, 4: 778.5789626195306, 5: 11.864839682588748, 6: 873.212869678258, 7: 6.273130756569348, 8: 14.786371916153495, 9: 13.609879394795893, 10: 42.18081916513603, 11: 11.680698352802063, 12: 1254.377217553688, 13: 14.860053536269717, 14: 13.871470020340944, 15: 562.4609587607285, 16: 0.06124368995057723}\n",
      "(32372, 83)\n",
      "(32372, 83)\n"
     ]
    }
   ],
   "source": [
    "class_weights = class_weight.compute_class_weight(\n",
    "    class_weight ='balanced', \n",
    "    classes = np.unique(train_temp_tags), \n",
    "    y = train_temp_tags\n",
    "    )\n",
    "class_weight_dict = dict(enumerate(class_weights))\n",
    "print(class_weight_dict)\n",
    "\n",
    "train_label = np.argmax(train_tags, axis=-1)\n",
    "print(train_tokens.shape)\n",
    "print(train_label.shape)"
   ]
  },
  {
   "cell_type": "code",
   "execution_count": 151,
   "metadata": {
    "id": "EYeveeqL1Qxx"
   },
   "outputs": [],
   "source": [
    "import numpy as np\n",
    "import tensorflow\n",
    "from tensorflow.keras.models import Sequential, Model\n",
    "from tensorflow.keras.layers import LSTM, Embedding, Dense, TimeDistributed, Dropout, Bidirectional, Input\n",
    "from tensorflow.keras.utils import plot_model\n",
    "from numpy.random import seed\n",
    "seed(1)\n",
    "tensorflow.random.set_seed(2)"
   ]
  },
  {
   "cell_type": "code",
   "execution_count": 152,
   "metadata": {
    "id": "YWTJVj021TkE"
   },
   "outputs": [],
   "source": [
    "input_dim = len(list(set(df_after_sampling['Word'].to_list())))+1\n",
    "output_dim = 64\n",
    "input_length = max([len(s) for s in df_after_sampling_group['Word_idx'].tolist()])\n",
    "n_tags = len(tag2idx)"
   ]
  },
  {
   "cell_type": "code",
   "execution_count": 153,
   "metadata": {
    "id": "tZLQl8Qg1X1N"
   },
   "outputs": [],
   "source": [
    "def get_bilstm_lstm_model():\n",
    "    model = Sequential()\n",
    "    model.add(Embedding(input_dim=input_dim, output_dim=output_dim, input_length=input_length))\n",
    "    model.add(Bidirectional(LSTM(units=output_dim, return_sequences=True, dropout=0.2, recurrent_dropout=0.2), merge_mode = 'concat'))\n",
    "    model.add(LSTM(units=output_dim, return_sequences=True, dropout=0.5, recurrent_dropout=0.5))\n",
    "    model.add((Dense(n_tags, activation=\"softmax\")))\n",
    "\n",
    "    model.compile(loss='sparse_categorical_crossentropy', optimizer='adam', metrics=['accuracy'])\n",
    "    model.summary()\n",
    "    \n",
    "    return model"
   ]
  },
  {
   "cell_type": "code",
   "execution_count": 154,
   "metadata": {
    "colab": {
     "base_uri": "https://localhost:8080/"
    },
    "id": "YctEkLLr1bFI",
    "outputId": "23213f6e-1318-4178-ba8c-6045fb69a45c"
   },
   "outputs": [
    {
     "name": "stdout",
     "output_type": "stream",
     "text": [
      "{0: 1162.143598615917, 1: 32.28836147329208, 2: 802.2920274708869, 3: 4939.110294117647, 4: 778.5789626195306, 5: 11.864839682588748, 6: 873.212869678258, 7: 6.273130756569348, 8: 14.786371916153495, 9: 13.609879394795893, 10: 42.18081916513603, 11: 11.680698352802063, 12: 1254.377217553688, 13: 14.860053536269717, 14: 13.871470020340944, 15: 562.4609587607285, 16: 28.52779541057316}\n",
      "(32372, 83)\n"
     ]
    }
   ],
   "source": [
    "maj_index = tag2idx['O']\n",
    "\n",
    "''' Change it More for Better Fine-Tuning '''\n",
    "\n",
    "class_weight_dict[maj_index] = 28.5277954105731576 \n",
    "print(class_weight_dict)\n",
    "sample_weights = np.ones(shape=(len(train_label), train_label.shape[-1]))\n",
    "for i in range(17):\n",
    "    sample_weights[train_label == i] = class_weight_dict.get(i)\n",
    "print(sample_weights.shape)"
   ]
  },
  {
   "cell_type": "code",
   "execution_count": 155,
   "metadata": {
    "colab": {
     "base_uri": "https://localhost:8080/"
    },
    "id": "chM--7ZS1fjJ",
    "outputId": "509283c8-5a46-4d56-daf5-03ed36392cb3"
   },
   "outputs": [
    {
     "name": "stdout",
     "output_type": "stream",
     "text": [
      "Model: \"sequential\"\n",
      "_________________________________________________________________\n",
      " Layer (type)                Output Shape              Param #   \n",
      "=================================================================\n",
      " embedding (Embedding)       (None, 83, 64)            2243072   \n",
      "                                                                 \n",
      " bidirectional (Bidirectiona  (None, 83, 128)          66048     \n",
      " l)                                                              \n",
      "                                                                 \n",
      " lstm_1 (LSTM)               (None, 83, 64)            49408     \n",
      "                                                                 \n",
      " dense (Dense)               (None, 83, 17)            1105      \n",
      "                                                                 \n",
      "=================================================================\n",
      "Total params: 2,359,633\n",
      "Trainable params: 2,359,633\n",
      "Non-trainable params: 0\n",
      "_________________________________________________________________\n",
      "Epoch 1/5\n",
      "405/405 [==============================] - 225s 536ms/step - loss: 6.8528 - accuracy: 0.9580 - val_loss: 3.5718 - val_accuracy: 0.9608\n",
      "Epoch 2/5\n",
      "405/405 [==============================] - 216s 533ms/step - loss: 3.1253 - accuracy: 0.9636 - val_loss: 2.6335 - val_accuracy: 0.9691\n",
      "Epoch 3/5\n",
      "405/405 [==============================] - 216s 533ms/step - loss: 2.6208 - accuracy: 0.9682 - val_loss: 2.4589 - val_accuracy: 0.9701\n",
      "Epoch 4/5\n",
      "405/405 [==============================] - 215s 532ms/step - loss: 2.2728 - accuracy: 0.9713 - val_loss: 2.2682 - val_accuracy: 0.9739\n",
      "Epoch 5/5\n",
      "405/405 [==============================] - 216s 533ms/step - loss: 1.9274 - accuracy: 0.9753 - val_loss: 2.1416 - val_accuracy: 0.9767\n"
     ]
    }
   ],
   "source": [
    "nlp_model = get_bilstm_lstm_model()\n",
    "plot_model(nlp_model)\n",
    "his = nlp_model.fit(train_tokens, train_label , batch_size = 64, epochs=5, validation_split=0.2, sample_weight = sample_weights) \n",
    "tf.keras.models.save_model(nlp_model, filepath  = \"/content/drive/MyDrive/Colab Notebooks/ner-kk/bilstm_kaggle_stopwords.h5\")"
   ]
  },
  {
   "cell_type": "code",
   "execution_count": 160,
   "metadata": {
    "colab": {
     "base_uri": "https://localhost:8080/",
     "height": 544
    },
    "id": "vK7BEPk_3OD9",
    "outputId": "54068b61-6e74-4d24-e72b-3a8ad98fc062"
   },
   "outputs": [
    {
     "data": {
      "image/png": "[encoded data removed]",
      "text/plain": [
       "<Figure size 432x288 with 1 Axes>"
      ]
     },
     "metadata": {},
     "output_type": "display_data"
    },
    {
     "data": {
      "image/png": "[encoded data removed]",
      "text/plain": [
       "<Figure size 432x288 with 1 Axes>"
      ]
     },
     "metadata": {},
     "output_type": "display_data"
    }
   ],
   "source": [
    "# Plot results\n",
    "import matplotlib.pyplot as plt\n",
    "\n",
    "accuracy = his.history['accuracy']\n",
    "val_acc = his.history['val_accuracy']\n",
    "loss = his.history['loss']\n",
    "val_loss = his.history['val_loss']\n",
    "\n",
    "epochs = range(1, len(accuracy)+1)\n",
    "\n",
    "plt.plot(epochs, accuracy, 'g', label='Training accuracy')\n",
    "plt.plot(epochs, val_acc, 'r', label='Validation accuracy')\n",
    "plt.title('Training and validation accuracy')\n",
    "plt.legend()\n",
    "\n",
    "plt.figure()\n",
    "\n",
    "plt.plot(epochs, loss, 'g', label='Training loss')\n",
    "plt.plot(epochs, val_loss, 'r', label='Validation loss')\n",
    "plt.title('Training and validation loss')\n",
    "plt.legend()\n",
    "\n",
    "plt.show()"
   ]
  },
  {
   "cell_type": "code",
   "execution_count": 186,
   "metadata": {
    "colab": {
     "base_uri": "https://localhost:8080/"
    },
    "id": "d5-3UE1X1uKY",
    "outputId": "6d319beb-e827-4d09-8406-5a57910a2b85"
   },
   "outputs": [
    {
     "name": "stdout",
     "output_type": "stream",
     "text": [
      "(4796, 83) (4796, 83)\n",
      "150/150 [==============================] - 8s 45ms/step - loss: 0.0829 - accuracy: 0.9767\n"
     ]
    },
    {
     "data": {
      "text/plain": [
       "[0.08287446945905685, 0.9766547679901123]"
      ]
     },
     "execution_count": 186,
     "metadata": {},
     "output_type": "execute_result"
    }
   ],
   "source": [
    "nlp_model = tf.keras.models.load_model('/content/drive/MyDrive/Colab Notebooks/ner-kk/bilstm_kaggle_stopwords.h5')\n",
    "\n",
    "y_test = np.argmax(test_tags, axis=-1)\n",
    "print(test_tokens.shape,y_test.shape)\n",
    "nlp_model.evaluate(test_tokens, y_test)"
   ]
  },
  {
   "cell_type": "code",
   "execution_count": 187,
   "metadata": {
    "id": "Pahrn3yaB6bZ"
   },
   "outputs": [],
   "source": [
    "y_pred = nlp_model.predict(test_tokens)"
   ]
  },
  {
   "cell_type": "code",
   "execution_count": 189,
   "metadata": {
    "id": "z-_AEGXeC9Zo"
   },
   "outputs": [],
   "source": [
    "y_pred = np.argmax(y_pred, axis=-1)"
   ]
  },
  {
   "cell_type": "code",
   "execution_count": 190,
   "metadata": {
    "colab": {
     "base_uri": "https://localhost:8080/"
    },
    "id": "LXaqSB5iB9fx",
    "outputId": "95175438-9407-4872-8029-dac554f62653"
   },
   "outputs": [
    {
     "name": "stdout",
     "output_type": "stream",
     "text": [
      "(4796, 83) [16 16  5 16  7 16 16 16 16 16 16 16 16 16 16 16 16 16 16 16 16 16 16 16\n",
      " 16 16 16 16 16 16 16 16 16 16 16 16 16 16 16 16 16 16 16 16 16 16 16 16\n",
      " 16 16 16 16 16 16 16 16 16 16 16 16 16 16 16 16 16 16 16 16 16 16 16 16\n",
      " 16 16 16 16 16 16 16 16 16 16 16]\n"
     ]
    }
   ],
   "source": [
    "print(y_pred.shape, y_pred[0])"
   ]
  },
  {
   "cell_type": "code",
   "execution_count": 191,
   "metadata": {
    "id": "QsdxrRkNJEug"
   },
   "outputs": [],
   "source": [
    "y_test_list = []\n",
    "y_pred_list = []\n",
    "for row in range(0, y_test.shape[0]):\n",
    "  y_pred_list = np.concatenate((y_pred_list, y_pred[row]), axis=0)\n",
    "  y_test_list = np.concatenate((y_test_list, y_test[row]), axis=0)\n",
    "  # y_test_list = y_test_list + y_test[row]"
   ]
  },
  {
   "cell_type": "code",
   "execution_count": 192,
   "metadata": {
    "id": "9Cu8M_a8K1J1"
   },
   "outputs": [],
   "source": [
    "data_prediction = pd.DataFrame({'actual_class': y_test_list, 'predicted_class': y_pred_list})\n",
    "data_prediction['actual_class'] = data_prediction['actual_class'].map(idx2tag)\n",
    "data_prediction['predicted_class'] = data_prediction['predicted_class'].map(idx2tag)"
   ]
  },
  {
   "cell_type": "code",
   "execution_count": 193,
   "metadata": {
    "colab": {
     "base_uri": "https://localhost:8080/",
     "height": 414
    },
    "id": "IxVi1RdPLETu",
    "outputId": "b5b6f44b-c9b3-4ca7-d3cb-4d0876664e23"
   },
   "outputs": [
    {
     "data": {
      "text/html": [
       "<div>\n",
       "<style scoped>\n",
       "    .dataframe tbody tr th:only-of-type {\n",
       "        vertical-align: middle;\n",
       "    }\n",
       "\n",
       "    .dataframe tbody tr th {\n",
       "        vertical-align: top;\n",
       "    }\n",
       "\n",
       "    .dataframe thead th {\n",
       "        text-align: right;\n",
       "    }\n",
       "</style>\n",
       "<table border=\"1\" class=\"dataframe\">\n",
       "  <thead>\n",
       "    <tr style=\"text-align: right;\">\n",
       "      <th></th>\n",
       "      <th>actual_class</th>\n",
       "      <th>predicted_class</th>\n",
       "    </tr>\n",
       "  </thead>\n",
       "  <tbody>\n",
       "    <tr>\n",
       "      <th>0</th>\n",
       "      <td>O</td>\n",
       "      <td>O</td>\n",
       "    </tr>\n",
       "    <tr>\n",
       "      <th>1</th>\n",
       "      <td>O</td>\n",
       "      <td>O</td>\n",
       "    </tr>\n",
       "    <tr>\n",
       "      <th>2</th>\n",
       "      <td>B-tim</td>\n",
       "      <td>B-tim</td>\n",
       "    </tr>\n",
       "    <tr>\n",
       "      <th>3</th>\n",
       "      <td>O</td>\n",
       "      <td>O</td>\n",
       "    </tr>\n",
       "    <tr>\n",
       "      <th>4</th>\n",
       "      <td>B-geo</td>\n",
       "      <td>B-geo</td>\n",
       "    </tr>\n",
       "    <tr>\n",
       "      <th>...</th>\n",
       "      <td>...</td>\n",
       "      <td>...</td>\n",
       "    </tr>\n",
       "    <tr>\n",
       "      <th>398063</th>\n",
       "      <td>O</td>\n",
       "      <td>O</td>\n",
       "    </tr>\n",
       "    <tr>\n",
       "      <th>398064</th>\n",
       "      <td>O</td>\n",
       "      <td>O</td>\n",
       "    </tr>\n",
       "    <tr>\n",
       "      <th>398065</th>\n",
       "      <td>O</td>\n",
       "      <td>O</td>\n",
       "    </tr>\n",
       "    <tr>\n",
       "      <th>398066</th>\n",
       "      <td>O</td>\n",
       "      <td>O</td>\n",
       "    </tr>\n",
       "    <tr>\n",
       "      <th>398067</th>\n",
       "      <td>O</td>\n",
       "      <td>O</td>\n",
       "    </tr>\n",
       "  </tbody>\n",
       "</table>\n",
       "<p>398068 rows × 2 columns</p>\n",
       "</div>"
      ],
      "text/plain": [
       "       actual_class predicted_class\n",
       "0                 O               O\n",
       "1                 O               O\n",
       "2             B-tim           B-tim\n",
       "3                 O               O\n",
       "4             B-geo           B-geo\n",
       "...             ...             ...\n",
       "398063            O               O\n",
       "398064            O               O\n",
       "398065            O               O\n",
       "398066            O               O\n",
       "398067            O               O\n",
       "\n",
       "[398068 rows x 2 columns]"
      ]
     },
     "execution_count": 193,
     "metadata": {},
     "output_type": "execute_result"
    }
   ],
   "source": [
    "data_prediction"
   ]
  },
  {
   "cell_type": "code",
   "execution_count": 194,
   "metadata": {
    "colab": {
     "base_uri": "https://localhost:8080/",
     "height": 601
    },
    "id": "yJuTFA1sNE7a",
    "outputId": "fb5aa966-540e-4ebb-9bda-463bc02ec3a6"
   },
   "outputs": [
    {
     "data": {
      "text/html": [
       "<div>\n",
       "<style scoped>\n",
       "    .dataframe tbody tr th:only-of-type {\n",
       "        vertical-align: middle;\n",
       "    }\n",
       "\n",
       "    .dataframe tbody tr th {\n",
       "        vertical-align: top;\n",
       "    }\n",
       "\n",
       "    .dataframe thead th {\n",
       "        text-align: right;\n",
       "    }\n",
       "</style>\n",
       "<table border=\"1\" class=\"dataframe\">\n",
       "  <thead>\n",
       "    <tr style=\"text-align: right;\">\n",
       "      <th>actual_class</th>\n",
       "      <th>B-art</th>\n",
       "      <th>B-eve</th>\n",
       "      <th>B-geo</th>\n",
       "      <th>B-gpe</th>\n",
       "      <th>B-nat</th>\n",
       "      <th>B-org</th>\n",
       "      <th>B-per</th>\n",
       "      <th>B-tim</th>\n",
       "      <th>I-art</th>\n",
       "      <th>I-eve</th>\n",
       "      <th>I-geo</th>\n",
       "      <th>I-gpe</th>\n",
       "      <th>I-nat</th>\n",
       "      <th>I-org</th>\n",
       "      <th>I-per</th>\n",
       "      <th>I-tim</th>\n",
       "      <th>O</th>\n",
       "    </tr>\n",
       "    <tr>\n",
       "      <th>predicted_class</th>\n",
       "      <th></th>\n",
       "      <th></th>\n",
       "      <th></th>\n",
       "      <th></th>\n",
       "      <th></th>\n",
       "      <th></th>\n",
       "      <th></th>\n",
       "      <th></th>\n",
       "      <th></th>\n",
       "      <th></th>\n",
       "      <th></th>\n",
       "      <th></th>\n",
       "      <th></th>\n",
       "      <th></th>\n",
       "      <th></th>\n",
       "      <th></th>\n",
       "      <th></th>\n",
       "    </tr>\n",
       "  </thead>\n",
       "  <tbody>\n",
       "    <tr>\n",
       "      <th>B-art</th>\n",
       "      <td>9</td>\n",
       "      <td>2</td>\n",
       "      <td>109</td>\n",
       "      <td>3</td>\n",
       "      <td>0</td>\n",
       "      <td>168</td>\n",
       "      <td>48</td>\n",
       "      <td>32</td>\n",
       "      <td>2</td>\n",
       "      <td>1</td>\n",
       "      <td>6</td>\n",
       "      <td>0</td>\n",
       "      <td>0</td>\n",
       "      <td>51</td>\n",
       "      <td>7</td>\n",
       "      <td>12</td>\n",
       "      <td>88</td>\n",
       "    </tr>\n",
       "    <tr>\n",
       "      <th>B-eve</th>\n",
       "      <td>0</td>\n",
       "      <td>8</td>\n",
       "      <td>11</td>\n",
       "      <td>40</td>\n",
       "      <td>2</td>\n",
       "      <td>22</td>\n",
       "      <td>60</td>\n",
       "      <td>4</td>\n",
       "      <td>2</td>\n",
       "      <td>1</td>\n",
       "      <td>3</td>\n",
       "      <td>0</td>\n",
       "      <td>0</td>\n",
       "      <td>13</td>\n",
       "      <td>36</td>\n",
       "      <td>4</td>\n",
       "      <td>21</td>\n",
       "    </tr>\n",
       "    <tr>\n",
       "      <th>B-geo</th>\n",
       "      <td>1</td>\n",
       "      <td>1</td>\n",
       "      <td>2346</td>\n",
       "      <td>52</td>\n",
       "      <td>0</td>\n",
       "      <td>636</td>\n",
       "      <td>104</td>\n",
       "      <td>24</td>\n",
       "      <td>0</td>\n",
       "      <td>0</td>\n",
       "      <td>32</td>\n",
       "      <td>0</td>\n",
       "      <td>0</td>\n",
       "      <td>44</td>\n",
       "      <td>3</td>\n",
       "      <td>7</td>\n",
       "      <td>41</td>\n",
       "    </tr>\n",
       "    <tr>\n",
       "      <th>B-gpe</th>\n",
       "      <td>0</td>\n",
       "      <td>2</td>\n",
       "      <td>174</td>\n",
       "      <td>1089</td>\n",
       "      <td>5</td>\n",
       "      <td>89</td>\n",
       "      <td>465</td>\n",
       "      <td>1</td>\n",
       "      <td>0</td>\n",
       "      <td>0</td>\n",
       "      <td>3</td>\n",
       "      <td>0</td>\n",
       "      <td>0</td>\n",
       "      <td>9</td>\n",
       "      <td>11</td>\n",
       "      <td>0</td>\n",
       "      <td>47</td>\n",
       "    </tr>\n",
       "    <tr>\n",
       "      <th>B-nat</th>\n",
       "      <td>1</td>\n",
       "      <td>4</td>\n",
       "      <td>7</td>\n",
       "      <td>39</td>\n",
       "      <td>5</td>\n",
       "      <td>12</td>\n",
       "      <td>111</td>\n",
       "      <td>3</td>\n",
       "      <td>0</td>\n",
       "      <td>0</td>\n",
       "      <td>1</td>\n",
       "      <td>0</td>\n",
       "      <td>0</td>\n",
       "      <td>5</td>\n",
       "      <td>17</td>\n",
       "      <td>1</td>\n",
       "      <td>19</td>\n",
       "    </tr>\n",
       "    <tr>\n",
       "      <th>B-org</th>\n",
       "      <td>2</td>\n",
       "      <td>1</td>\n",
       "      <td>207</td>\n",
       "      <td>16</td>\n",
       "      <td>0</td>\n",
       "      <td>295</td>\n",
       "      <td>47</td>\n",
       "      <td>25</td>\n",
       "      <td>0</td>\n",
       "      <td>0</td>\n",
       "      <td>1</td>\n",
       "      <td>0</td>\n",
       "      <td>0</td>\n",
       "      <td>9</td>\n",
       "      <td>2</td>\n",
       "      <td>0</td>\n",
       "      <td>34</td>\n",
       "    </tr>\n",
       "    <tr>\n",
       "      <th>B-per</th>\n",
       "      <td>2</td>\n",
       "      <td>2</td>\n",
       "      <td>80</td>\n",
       "      <td>223</td>\n",
       "      <td>1</td>\n",
       "      <td>85</td>\n",
       "      <td>356</td>\n",
       "      <td>1</td>\n",
       "      <td>0</td>\n",
       "      <td>0</td>\n",
       "      <td>1</td>\n",
       "      <td>0</td>\n",
       "      <td>0</td>\n",
       "      <td>2</td>\n",
       "      <td>30</td>\n",
       "      <td>0</td>\n",
       "      <td>30</td>\n",
       "    </tr>\n",
       "    <tr>\n",
       "      <th>B-tim</th>\n",
       "      <td>1</td>\n",
       "      <td>2</td>\n",
       "      <td>149</td>\n",
       "      <td>3</td>\n",
       "      <td>0</td>\n",
       "      <td>154</td>\n",
       "      <td>33</td>\n",
       "      <td>878</td>\n",
       "      <td>0</td>\n",
       "      <td>0</td>\n",
       "      <td>3</td>\n",
       "      <td>0</td>\n",
       "      <td>0</td>\n",
       "      <td>10</td>\n",
       "      <td>0</td>\n",
       "      <td>32</td>\n",
       "      <td>243</td>\n",
       "    </tr>\n",
       "    <tr>\n",
       "      <th>I-art</th>\n",
       "      <td>1</td>\n",
       "      <td>0</td>\n",
       "      <td>20</td>\n",
       "      <td>1</td>\n",
       "      <td>0</td>\n",
       "      <td>19</td>\n",
       "      <td>17</td>\n",
       "      <td>30</td>\n",
       "      <td>12</td>\n",
       "      <td>1</td>\n",
       "      <td>21</td>\n",
       "      <td>1</td>\n",
       "      <td>0</td>\n",
       "      <td>263</td>\n",
       "      <td>81</td>\n",
       "      <td>22</td>\n",
       "      <td>81</td>\n",
       "    </tr>\n",
       "    <tr>\n",
       "      <th>I-eve</th>\n",
       "      <td>0</td>\n",
       "      <td>11</td>\n",
       "      <td>2</td>\n",
       "      <td>6</td>\n",
       "      <td>1</td>\n",
       "      <td>3</td>\n",
       "      <td>7</td>\n",
       "      <td>3</td>\n",
       "      <td>2</td>\n",
       "      <td>10</td>\n",
       "      <td>3</td>\n",
       "      <td>1</td>\n",
       "      <td>1</td>\n",
       "      <td>22</td>\n",
       "      <td>43</td>\n",
       "      <td>3</td>\n",
       "      <td>22</td>\n",
       "    </tr>\n",
       "    <tr>\n",
       "      <th>I-geo</th>\n",
       "      <td>0</td>\n",
       "      <td>0</td>\n",
       "      <td>270</td>\n",
       "      <td>64</td>\n",
       "      <td>0</td>\n",
       "      <td>70</td>\n",
       "      <td>21</td>\n",
       "      <td>10</td>\n",
       "      <td>1</td>\n",
       "      <td>1</td>\n",
       "      <td>476</td>\n",
       "      <td>7</td>\n",
       "      <td>0</td>\n",
       "      <td>223</td>\n",
       "      <td>105</td>\n",
       "      <td>13</td>\n",
       "      <td>18</td>\n",
       "    </tr>\n",
       "    <tr>\n",
       "      <th>I-gpe</th>\n",
       "      <td>0</td>\n",
       "      <td>0</td>\n",
       "      <td>7</td>\n",
       "      <td>78</td>\n",
       "      <td>1</td>\n",
       "      <td>5</td>\n",
       "      <td>171</td>\n",
       "      <td>0</td>\n",
       "      <td>0</td>\n",
       "      <td>2</td>\n",
       "      <td>16</td>\n",
       "      <td>11</td>\n",
       "      <td>2</td>\n",
       "      <td>14</td>\n",
       "      <td>103</td>\n",
       "      <td>1</td>\n",
       "      <td>12</td>\n",
       "    </tr>\n",
       "    <tr>\n",
       "      <th>I-nat</th>\n",
       "      <td>0</td>\n",
       "      <td>0</td>\n",
       "      <td>2</td>\n",
       "      <td>1</td>\n",
       "      <td>0</td>\n",
       "      <td>2</td>\n",
       "      <td>4</td>\n",
       "      <td>0</td>\n",
       "      <td>0</td>\n",
       "      <td>0</td>\n",
       "      <td>1</td>\n",
       "      <td>0</td>\n",
       "      <td>1</td>\n",
       "      <td>9</td>\n",
       "      <td>12</td>\n",
       "      <td>0</td>\n",
       "      <td>3</td>\n",
       "    </tr>\n",
       "    <tr>\n",
       "      <th>I-org</th>\n",
       "      <td>0</td>\n",
       "      <td>0</td>\n",
       "      <td>20</td>\n",
       "      <td>0</td>\n",
       "      <td>0</td>\n",
       "      <td>34</td>\n",
       "      <td>8</td>\n",
       "      <td>107</td>\n",
       "      <td>1</td>\n",
       "      <td>2</td>\n",
       "      <td>39</td>\n",
       "      <td>0</td>\n",
       "      <td>0</td>\n",
       "      <td>488</td>\n",
       "      <td>90</td>\n",
       "      <td>25</td>\n",
       "      <td>63</td>\n",
       "    </tr>\n",
       "    <tr>\n",
       "      <th>I-per</th>\n",
       "      <td>1</td>\n",
       "      <td>0</td>\n",
       "      <td>58</td>\n",
       "      <td>1</td>\n",
       "      <td>0</td>\n",
       "      <td>63</td>\n",
       "      <td>26</td>\n",
       "      <td>20</td>\n",
       "      <td>2</td>\n",
       "      <td>2</td>\n",
       "      <td>17</td>\n",
       "      <td>0</td>\n",
       "      <td>0</td>\n",
       "      <td>89</td>\n",
       "      <td>1076</td>\n",
       "      <td>1</td>\n",
       "      <td>83</td>\n",
       "    </tr>\n",
       "    <tr>\n",
       "      <th>I-tim</th>\n",
       "      <td>1</td>\n",
       "      <td>0</td>\n",
       "      <td>16</td>\n",
       "      <td>0</td>\n",
       "      <td>0</td>\n",
       "      <td>19</td>\n",
       "      <td>15</td>\n",
       "      <td>132</td>\n",
       "      <td>0</td>\n",
       "      <td>0</td>\n",
       "      <td>16</td>\n",
       "      <td>0</td>\n",
       "      <td>0</td>\n",
       "      <td>144</td>\n",
       "      <td>40</td>\n",
       "      <td>235</td>\n",
       "      <td>120</td>\n",
       "    </tr>\n",
       "    <tr>\n",
       "      <th>O</th>\n",
       "      <td>9</td>\n",
       "      <td>1</td>\n",
       "      <td>187</td>\n",
       "      <td>12</td>\n",
       "      <td>2</td>\n",
       "      <td>349</td>\n",
       "      <td>204</td>\n",
       "      <td>673</td>\n",
       "      <td>6</td>\n",
       "      <td>3</td>\n",
       "      <td>30</td>\n",
       "      <td>0</td>\n",
       "      <td>3</td>\n",
       "      <td>186</td>\n",
       "      <td>57</td>\n",
       "      <td>229</td>\n",
       "      <td>381480</td>\n",
       "    </tr>\n",
       "  </tbody>\n",
       "</table>\n",
       "</div>"
      ],
      "text/plain": [
       "actual_class     B-art  B-eve  B-geo  B-gpe  ...  I-org  I-per  I-tim       O\n",
       "predicted_class                              ...                             \n",
       "B-art                9      2    109      3  ...     51      7     12      88\n",
       "B-eve                0      8     11     40  ...     13     36      4      21\n",
       "B-geo                1      1   2346     52  ...     44      3      7      41\n",
       "B-gpe                0      2    174   1089  ...      9     11      0      47\n",
       "B-nat                1      4      7     39  ...      5     17      1      19\n",
       "B-org                2      1    207     16  ...      9      2      0      34\n",
       "B-per                2      2     80    223  ...      2     30      0      30\n",
       "B-tim                1      2    149      3  ...     10      0     32     243\n",
       "I-art                1      0     20      1  ...    263     81     22      81\n",
       "I-eve                0     11      2      6  ...     22     43      3      22\n",
       "I-geo                0      0    270     64  ...    223    105     13      18\n",
       "I-gpe                0      0      7     78  ...     14    103      1      12\n",
       "I-nat                0      0      2      1  ...      9     12      0       3\n",
       "I-org                0      0     20      0  ...    488     90     25      63\n",
       "I-per                1      0     58      1  ...     89   1076      1      83\n",
       "I-tim                1      0     16      0  ...    144     40    235     120\n",
       "O                    9      1    187     12  ...    186     57    229  381480\n",
       "\n",
       "[17 rows x 17 columns]"
      ]
     },
     "execution_count": 194,
     "metadata": {},
     "output_type": "execute_result"
    }
   ],
   "source": [
    "confusion_matrix = pd.crosstab(data_prediction['predicted_class'], data_prediction['actual_class'])\n",
    "confusion_matrix"
   ]
  },
  {
   "cell_type": "code",
   "execution_count": 199,
   "metadata": {
    "id": "_FFqSLPdHTev"
   },
   "outputs": [],
   "source": [
    "from sklearn.metrics import classification_report"
   ]
  },
  {
   "cell_type": "code",
   "execution_count": 200,
   "metadata": {
    "colab": {
     "base_uri": "https://localhost:8080/",
     "height": 662
    },
    "id": "SKKnJeqoHW-M",
    "outputId": "0e960173-d154-4cf0-fe15-b0120f47e14c"
   },
   "outputs": [
    {
     "data": {
      "text/html": [
       "<div>\n",
       "<style scoped>\n",
       "    .dataframe tbody tr th:only-of-type {\n",
       "        vertical-align: middle;\n",
       "    }\n",
       "\n",
       "    .dataframe tbody tr th {\n",
       "        vertical-align: top;\n",
       "    }\n",
       "\n",
       "    .dataframe thead th {\n",
       "        text-align: right;\n",
       "    }\n",
       "</style>\n",
       "<table border=\"1\" class=\"dataframe\">\n",
       "  <thead>\n",
       "    <tr style=\"text-align: right;\">\n",
       "      <th></th>\n",
       "      <th>precision</th>\n",
       "      <th>recall</th>\n",
       "      <th>f1-score</th>\n",
       "      <th>support</th>\n",
       "    </tr>\n",
       "  </thead>\n",
       "  <tbody>\n",
       "    <tr>\n",
       "      <th>B-art</th>\n",
       "      <td>0.016729</td>\n",
       "      <td>0.321429</td>\n",
       "      <td>0.031802</td>\n",
       "      <td>28.000000</td>\n",
       "    </tr>\n",
       "    <tr>\n",
       "      <th>B-eve</th>\n",
       "      <td>0.035242</td>\n",
       "      <td>0.235294</td>\n",
       "      <td>0.061303</td>\n",
       "      <td>34.000000</td>\n",
       "    </tr>\n",
       "    <tr>\n",
       "      <th>B-geo</th>\n",
       "      <td>0.712853</td>\n",
       "      <td>0.640109</td>\n",
       "      <td>0.674526</td>\n",
       "      <td>3665.000000</td>\n",
       "    </tr>\n",
       "    <tr>\n",
       "      <th>B-gpe</th>\n",
       "      <td>0.574670</td>\n",
       "      <td>0.668919</td>\n",
       "      <td>0.618223</td>\n",
       "      <td>1628.000000</td>\n",
       "    </tr>\n",
       "    <tr>\n",
       "      <th>B-nat</th>\n",
       "      <td>0.022222</td>\n",
       "      <td>0.294118</td>\n",
       "      <td>0.041322</td>\n",
       "      <td>17.000000</td>\n",
       "    </tr>\n",
       "    <tr>\n",
       "      <th>B-org</th>\n",
       "      <td>0.461659</td>\n",
       "      <td>0.145679</td>\n",
       "      <td>0.221471</td>\n",
       "      <td>2025.000000</td>\n",
       "    </tr>\n",
       "    <tr>\n",
       "      <th>B-per</th>\n",
       "      <td>0.437884</td>\n",
       "      <td>0.209782</td>\n",
       "      <td>0.283665</td>\n",
       "      <td>1697.000000</td>\n",
       "    </tr>\n",
       "    <tr>\n",
       "      <th>B-tim</th>\n",
       "      <td>0.582228</td>\n",
       "      <td>0.451879</td>\n",
       "      <td>0.508838</td>\n",
       "      <td>1943.000000</td>\n",
       "    </tr>\n",
       "    <tr>\n",
       "      <th>I-art</th>\n",
       "      <td>0.021053</td>\n",
       "      <td>0.428571</td>\n",
       "      <td>0.040134</td>\n",
       "      <td>28.000000</td>\n",
       "    </tr>\n",
       "    <tr>\n",
       "      <th>I-eve</th>\n",
       "      <td>0.071429</td>\n",
       "      <td>0.434783</td>\n",
       "      <td>0.122699</td>\n",
       "      <td>23.000000</td>\n",
       "    </tr>\n",
       "    <tr>\n",
       "      <th>I-geo</th>\n",
       "      <td>0.372166</td>\n",
       "      <td>0.711510</td>\n",
       "      <td>0.488706</td>\n",
       "      <td>669.000000</td>\n",
       "    </tr>\n",
       "    <tr>\n",
       "      <th>I-gpe</th>\n",
       "      <td>0.026005</td>\n",
       "      <td>0.550000</td>\n",
       "      <td>0.049661</td>\n",
       "      <td>20.000000</td>\n",
       "    </tr>\n",
       "    <tr>\n",
       "      <th>I-nat</th>\n",
       "      <td>0.028571</td>\n",
       "      <td>0.142857</td>\n",
       "      <td>0.047619</td>\n",
       "      <td>7.000000</td>\n",
       "    </tr>\n",
       "    <tr>\n",
       "      <th>I-org</th>\n",
       "      <td>0.556442</td>\n",
       "      <td>0.308665</td>\n",
       "      <td>0.397071</td>\n",
       "      <td>1581.000000</td>\n",
       "    </tr>\n",
       "    <tr>\n",
       "      <th>I-per</th>\n",
       "      <td>0.747741</td>\n",
       "      <td>0.628138</td>\n",
       "      <td>0.682741</td>\n",
       "      <td>1713.000000</td>\n",
       "    </tr>\n",
       "    <tr>\n",
       "      <th>I-tim</th>\n",
       "      <td>0.318428</td>\n",
       "      <td>0.401709</td>\n",
       "      <td>0.355253</td>\n",
       "      <td>585.000000</td>\n",
       "    </tr>\n",
       "    <tr>\n",
       "      <th>O</th>\n",
       "      <td>0.994912</td>\n",
       "      <td>0.997581</td>\n",
       "      <td>0.996245</td>\n",
       "      <td>382405.000000</td>\n",
       "    </tr>\n",
       "    <tr>\n",
       "      <th>accuracy</th>\n",
       "      <td>0.976655</td>\n",
       "      <td>0.976655</td>\n",
       "      <td>0.976655</td>\n",
       "      <td>0.976655</td>\n",
       "    </tr>\n",
       "    <tr>\n",
       "      <th>macro avg</th>\n",
       "      <td>0.351779</td>\n",
       "      <td>0.445354</td>\n",
       "      <td>0.330664</td>\n",
       "      <td>398068.000000</td>\n",
       "    </tr>\n",
       "    <tr>\n",
       "      <th>weighted avg</th>\n",
       "      <td>0.978269</td>\n",
       "      <td>0.976655</td>\n",
       "      <td>0.976484</td>\n",
       "      <td>398068.000000</td>\n",
       "    </tr>\n",
       "  </tbody>\n",
       "</table>\n",
       "</div>"
      ],
      "text/plain": [
       "              precision    recall  f1-score        support\n",
       "B-art          0.016729  0.321429  0.031802      28.000000\n",
       "B-eve          0.035242  0.235294  0.061303      34.000000\n",
       "B-geo          0.712853  0.640109  0.674526    3665.000000\n",
       "B-gpe          0.574670  0.668919  0.618223    1628.000000\n",
       "B-nat          0.022222  0.294118  0.041322      17.000000\n",
       "B-org          0.461659  0.145679  0.221471    2025.000000\n",
       "B-per          0.437884  0.209782  0.283665    1697.000000\n",
       "B-tim          0.582228  0.451879  0.508838    1943.000000\n",
       "I-art          0.021053  0.428571  0.040134      28.000000\n",
       "I-eve          0.071429  0.434783  0.122699      23.000000\n",
       "I-geo          0.372166  0.711510  0.488706     669.000000\n",
       "I-gpe          0.026005  0.550000  0.049661      20.000000\n",
       "I-nat          0.028571  0.142857  0.047619       7.000000\n",
       "I-org          0.556442  0.308665  0.397071    1581.000000\n",
       "I-per          0.747741  0.628138  0.682741    1713.000000\n",
       "I-tim          0.318428  0.401709  0.355253     585.000000\n",
       "O              0.994912  0.997581  0.996245  382405.000000\n",
       "accuracy       0.976655  0.976655  0.976655       0.976655\n",
       "macro avg      0.351779  0.445354  0.330664  398068.000000\n",
       "weighted avg   0.978269  0.976655  0.976484  398068.000000"
      ]
     },
     "execution_count": 200,
     "metadata": {},
     "output_type": "execute_result"
    }
   ],
   "source": [
    "pd.DataFrame(classification_report(data_prediction['actual_class'], data_prediction['predicted_class'], output_dict=True)).T"
   ]
  }
 ],
 "metadata": {
  "colab": {
   "authorship_tag": "ABX9TyOqLU1PW0RaAGiJdMV/7uOx",
   "collapsed_sections": [],
   "include_colab_link": true,
   "name": "FP-KK-BiLSTM-Kaggle-Stopwords.ipynb",
   "provenance": []
  },
  "kernelspec": {
   "display_name": "Python 3",
   "language": "python",
   "name": "python3"
  },
  "language_info": {
   "codemirror_mode": {
    "name": "ipython",
    "version": 3
   },
   "file_extension": ".py",
   "mimetype": "text/x-python",
   "name": "python",
   "nbconvert_exporter": "python",
   "pygments_lexer": "ipython3",
   "version": "3.8.3"
  }
 },
 "nbformat": 4,
 "nbformat_minor": 1
}
